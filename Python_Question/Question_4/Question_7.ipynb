{
 "cells": [
  {
   "cell_type": "markdown",
   "id": "f8afe5a3",
   "metadata": {},
   "source": [
    "# <center> Meteroite Data Analysis"
   ]
  },
  {
   "cell_type": "markdown",
   "id": "7b775ad7",
   "metadata": {},
   "source": [
    "**The dataset contains the following variables:**\n",
    "\n",
    "* `name`: the name of the meteorite\n",
    "* `id`: a unique identifier for the meteorite\n",
    "* `nametype`: one of: -- valid\n",
    "* `recclass`: the class of the meteorite;\n",
    "* `mass`: the mass of the meteorite\n",
    "* `fall`: whether the meteorite was seen falling, or was discovered after its impact; one of: -- Fell: the meteorite's fall was observed -- Found: the meteorite's fall was not observed\n",
    "* `year`: the year the meteorite fell, or the year it was found (depending on the value of fell)\n",
    "* `reclat`: the latitude of the meteorite's landing\n",
    "* `reclong`: the longitude of the meteorite's landing\n",
    "* `GeoLocation`: a parentheses-enclose, comma-separated tuple that combines reclat and reclong"
   ]
  },
  {
   "cell_type": "markdown",
   "id": "179dde9c",
   "metadata": {},
   "source": [
    "#### Insights to be drawn -\n",
    "\n",
    "* [Get all the Earth meteorites that fell before the year 2000](#two)\n",
    "* [Get all the earth meteorites co-ordinates who fell before the year 1970](#co)\n",
    "* [Assuming that the mass of the earth meteorites was in kg, get all those whose mass was more than 10000kg](#ten)"
   ]
  },
  {
   "cell_type": "code",
   "execution_count": 1,
   "id": "f1c20b6b",
   "metadata": {},
   "outputs": [
    {
     "data": {
      "text/html": [
       "        <script type=\"text/javascript\">\n",
       "        window.PlotlyConfig = {MathJaxConfig: 'local'};\n",
       "        if (window.MathJax && window.MathJax.Hub && window.MathJax.Hub.Config) {window.MathJax.Hub.Config({SVG: {font: \"STIX-Web\"}});}\n",
       "        if (typeof require !== 'undefined') {\n",
       "        require.undef(\"plotly\");\n",
       "        requirejs.config({\n",
       "            paths: {\n",
       "                'plotly': ['https://cdn.plot.ly/plotly-2.12.1.min']\n",
       "            }\n",
       "        });\n",
       "        require(['plotly'], function(Plotly) {\n",
       "            window._Plotly = Plotly;\n",
       "        });\n",
       "        }\n",
       "        </script>\n",
       "        "
      ]
     },
     "metadata": {},
     "output_type": "display_data"
    }
   ],
   "source": [
    "# Importing all the required liberaries\n",
    "import pandas as pd\n",
    "from datetime import datetime\n",
    "import plotly.express as px\n",
    "import plotly.graph_objects as go\n",
    "import plotly.offline as pyo\n",
    "from plotly.offline import init_notebook_mode\n",
    "init_notebook_mode(connected=True)"
   ]
  },
  {
   "cell_type": "code",
   "execution_count": 2,
   "id": "dc40409c",
   "metadata": {},
   "outputs": [
    {
     "data": {
      "text/html": [
       "<div>\n",
       "<style scoped>\n",
       "    .dataframe tbody tr th:only-of-type {\n",
       "        vertical-align: middle;\n",
       "    }\n",
       "\n",
       "    .dataframe tbody tr th {\n",
       "        vertical-align: top;\n",
       "    }\n",
       "\n",
       "    .dataframe thead th {\n",
       "        text-align: right;\n",
       "    }\n",
       "</style>\n",
       "<table border=\"1\" class=\"dataframe\">\n",
       "  <thead>\n",
       "    <tr style=\"text-align: right;\">\n",
       "      <th></th>\n",
       "      <th>Name</th>\n",
       "      <th>Id</th>\n",
       "      <th>Nametype</th>\n",
       "      <th>Recclass</th>\n",
       "      <th>Mass</th>\n",
       "      <th>Fall</th>\n",
       "      <th>Year</th>\n",
       "      <th>Reclat</th>\n",
       "      <th>Reclong</th>\n",
       "      <th>Type geolocation</th>\n",
       "      <th>Coordinates geolocation</th>\n",
       "      <th>:@computed_region_cbhk_fwbd</th>\n",
       "      <th>:@computed_region_nnqa_25f4</th>\n",
       "    </tr>\n",
       "  </thead>\n",
       "  <tbody>\n",
       "    <tr>\n",
       "      <th>0</th>\n",
       "      <td>Aachen</td>\n",
       "      <td>1</td>\n",
       "      <td>Valid</td>\n",
       "      <td>L5</td>\n",
       "      <td>21.0</td>\n",
       "      <td>Fell</td>\n",
       "      <td>1880-01-01T00:00:00.000</td>\n",
       "      <td>50.77500</td>\n",
       "      <td>6.08333</td>\n",
       "      <td>Point</td>\n",
       "      <td>[6.08333, 50.775]</td>\n",
       "      <td>NaN</td>\n",
       "      <td>NaN</td>\n",
       "    </tr>\n",
       "    <tr>\n",
       "      <th>1</th>\n",
       "      <td>Aarhus</td>\n",
       "      <td>2</td>\n",
       "      <td>Valid</td>\n",
       "      <td>H6</td>\n",
       "      <td>720.0</td>\n",
       "      <td>Fell</td>\n",
       "      <td>1951-01-01T00:00:00.000</td>\n",
       "      <td>56.18333</td>\n",
       "      <td>10.23333</td>\n",
       "      <td>Point</td>\n",
       "      <td>[10.23333, 56.18333]</td>\n",
       "      <td>NaN</td>\n",
       "      <td>NaN</td>\n",
       "    </tr>\n",
       "    <tr>\n",
       "      <th>2</th>\n",
       "      <td>Abee</td>\n",
       "      <td>6</td>\n",
       "      <td>Valid</td>\n",
       "      <td>EH4</td>\n",
       "      <td>107000.0</td>\n",
       "      <td>Fell</td>\n",
       "      <td>1952-01-01T00:00:00.000</td>\n",
       "      <td>54.21667</td>\n",
       "      <td>-113.00000</td>\n",
       "      <td>Point</td>\n",
       "      <td>[-113, 54.21667]</td>\n",
       "      <td>NaN</td>\n",
       "      <td>NaN</td>\n",
       "    </tr>\n",
       "    <tr>\n",
       "      <th>3</th>\n",
       "      <td>Acapulco</td>\n",
       "      <td>10</td>\n",
       "      <td>Valid</td>\n",
       "      <td>Acapulcoite</td>\n",
       "      <td>1914.0</td>\n",
       "      <td>Fell</td>\n",
       "      <td>1976-01-01T00:00:00.000</td>\n",
       "      <td>16.88333</td>\n",
       "      <td>-99.90000</td>\n",
       "      <td>Point</td>\n",
       "      <td>[-99.9, 16.88333]</td>\n",
       "      <td>NaN</td>\n",
       "      <td>NaN</td>\n",
       "    </tr>\n",
       "    <tr>\n",
       "      <th>4</th>\n",
       "      <td>Achiras</td>\n",
       "      <td>370</td>\n",
       "      <td>Valid</td>\n",
       "      <td>L6</td>\n",
       "      <td>780.0</td>\n",
       "      <td>Fell</td>\n",
       "      <td>1902-01-01T00:00:00.000</td>\n",
       "      <td>-33.16667</td>\n",
       "      <td>-64.95000</td>\n",
       "      <td>Point</td>\n",
       "      <td>[-64.95, -33.16667]</td>\n",
       "      <td>NaN</td>\n",
       "      <td>NaN</td>\n",
       "    </tr>\n",
       "  </tbody>\n",
       "</table>\n",
       "</div>"
      ],
      "text/plain": [
       "       Name   Id Nametype     Recclass      Mass  Fall  \\\n",
       "0    Aachen    1    Valid           L5      21.0  Fell   \n",
       "1    Aarhus    2    Valid           H6     720.0  Fell   \n",
       "2      Abee    6    Valid          EH4  107000.0  Fell   \n",
       "3  Acapulco   10    Valid  Acapulcoite    1914.0  Fell   \n",
       "4   Achiras  370    Valid           L6     780.0  Fell   \n",
       "\n",
       "                      Year    Reclat    Reclong Type geolocation  \\\n",
       "0  1880-01-01T00:00:00.000  50.77500    6.08333            Point   \n",
       "1  1951-01-01T00:00:00.000  56.18333   10.23333            Point   \n",
       "2  1952-01-01T00:00:00.000  54.21667 -113.00000            Point   \n",
       "3  1976-01-01T00:00:00.000  16.88333  -99.90000            Point   \n",
       "4  1902-01-01T00:00:00.000 -33.16667  -64.95000            Point   \n",
       "\n",
       "  Coordinates geolocation  :@computed_region_cbhk_fwbd  \\\n",
       "0       [6.08333, 50.775]                          NaN   \n",
       "1    [10.23333, 56.18333]                          NaN   \n",
       "2        [-113, 54.21667]                          NaN   \n",
       "3       [-99.9, 16.88333]                          NaN   \n",
       "4     [-64.95, -33.16667]                          NaN   \n",
       "\n",
       "   :@computed_region_nnqa_25f4  \n",
       "0                          NaN  \n",
       "1                          NaN  \n",
       "2                          NaN  \n",
       "3                          NaN  \n",
       "4                          NaN  "
      ]
     },
     "execution_count": 2,
     "metadata": {},
     "output_type": "execute_result"
    }
   ],
   "source": [
    "# load dataset \n",
    "meteroite_df = pd.read_csv(\"Meteorite Data.csv\")\n",
    "meteroite_df.head() # top 5 entries"
   ]
  },
  {
   "cell_type": "code",
   "execution_count": 3,
   "id": "daeb6097",
   "metadata": {},
   "outputs": [
    {
     "data": {
      "text/html": [
       "<div>\n",
       "<style scoped>\n",
       "    .dataframe tbody tr th:only-of-type {\n",
       "        vertical-align: middle;\n",
       "    }\n",
       "\n",
       "    .dataframe tbody tr th {\n",
       "        vertical-align: top;\n",
       "    }\n",
       "\n",
       "    .dataframe thead th {\n",
       "        text-align: right;\n",
       "    }\n",
       "</style>\n",
       "<table border=\"1\" class=\"dataframe\">\n",
       "  <thead>\n",
       "    <tr style=\"text-align: right;\">\n",
       "      <th></th>\n",
       "      <th>Name</th>\n",
       "      <th>Nametype</th>\n",
       "      <th>Recclass</th>\n",
       "      <th>Mass</th>\n",
       "      <th>Fall</th>\n",
       "      <th>Year</th>\n",
       "      <th>Reclat</th>\n",
       "      <th>Reclong</th>\n",
       "      <th>Coordinates geolocation</th>\n",
       "    </tr>\n",
       "  </thead>\n",
       "  <tbody>\n",
       "    <tr>\n",
       "      <th>0</th>\n",
       "      <td>Aachen</td>\n",
       "      <td>Valid</td>\n",
       "      <td>L5</td>\n",
       "      <td>21.0</td>\n",
       "      <td>Fell</td>\n",
       "      <td>1880-01-01T00:00:00.000</td>\n",
       "      <td>50.77500</td>\n",
       "      <td>6.08333</td>\n",
       "      <td>[6.08333, 50.775]</td>\n",
       "    </tr>\n",
       "    <tr>\n",
       "      <th>1</th>\n",
       "      <td>Aarhus</td>\n",
       "      <td>Valid</td>\n",
       "      <td>H6</td>\n",
       "      <td>720.0</td>\n",
       "      <td>Fell</td>\n",
       "      <td>1951-01-01T00:00:00.000</td>\n",
       "      <td>56.18333</td>\n",
       "      <td>10.23333</td>\n",
       "      <td>[10.23333, 56.18333]</td>\n",
       "    </tr>\n",
       "    <tr>\n",
       "      <th>2</th>\n",
       "      <td>Abee</td>\n",
       "      <td>Valid</td>\n",
       "      <td>EH4</td>\n",
       "      <td>107000.0</td>\n",
       "      <td>Fell</td>\n",
       "      <td>1952-01-01T00:00:00.000</td>\n",
       "      <td>54.21667</td>\n",
       "      <td>-113.00000</td>\n",
       "      <td>[-113, 54.21667]</td>\n",
       "    </tr>\n",
       "    <tr>\n",
       "      <th>3</th>\n",
       "      <td>Acapulco</td>\n",
       "      <td>Valid</td>\n",
       "      <td>Acapulcoite</td>\n",
       "      <td>1914.0</td>\n",
       "      <td>Fell</td>\n",
       "      <td>1976-01-01T00:00:00.000</td>\n",
       "      <td>16.88333</td>\n",
       "      <td>-99.90000</td>\n",
       "      <td>[-99.9, 16.88333]</td>\n",
       "    </tr>\n",
       "    <tr>\n",
       "      <th>4</th>\n",
       "      <td>Achiras</td>\n",
       "      <td>Valid</td>\n",
       "      <td>L6</td>\n",
       "      <td>780.0</td>\n",
       "      <td>Fell</td>\n",
       "      <td>1902-01-01T00:00:00.000</td>\n",
       "      <td>-33.16667</td>\n",
       "      <td>-64.95000</td>\n",
       "      <td>[-64.95, -33.16667]</td>\n",
       "    </tr>\n",
       "  </tbody>\n",
       "</table>\n",
       "</div>"
      ],
      "text/plain": [
       "       Name Nametype     Recclass      Mass  Fall                     Year  \\\n",
       "0    Aachen    Valid           L5      21.0  Fell  1880-01-01T00:00:00.000   \n",
       "1    Aarhus    Valid           H6     720.0  Fell  1951-01-01T00:00:00.000   \n",
       "2      Abee    Valid          EH4  107000.0  Fell  1952-01-01T00:00:00.000   \n",
       "3  Acapulco    Valid  Acapulcoite    1914.0  Fell  1976-01-01T00:00:00.000   \n",
       "4   Achiras    Valid           L6     780.0  Fell  1902-01-01T00:00:00.000   \n",
       "\n",
       "     Reclat    Reclong Coordinates geolocation  \n",
       "0  50.77500    6.08333       [6.08333, 50.775]  \n",
       "1  56.18333   10.23333    [10.23333, 56.18333]  \n",
       "2  54.21667 -113.00000        [-113, 54.21667]  \n",
       "3  16.88333  -99.90000       [-99.9, 16.88333]  \n",
       "4 -33.16667  -64.95000     [-64.95, -33.16667]  "
      ]
     },
     "execution_count": 3,
     "metadata": {},
     "output_type": "execute_result"
    }
   ],
   "source": [
    "# drop unrequired columns\n",
    "drop_columns = [\"Id\", \":@computed_region_cbhk_fwbd\", \":@computed_region_nnqa_25f4\", \"Type geolocation\"]\n",
    "meteroite_df = meteroite_df.drop(columns=drop_columns, axis=1)\n",
    "meteroite_df.head()"
   ]
  },
  {
   "cell_type": "code",
   "execution_count": 4,
   "id": "ce1aea5d",
   "metadata": {},
   "outputs": [
    {
     "name": "stdout",
     "output_type": "stream",
     "text": [
      "size\n"
     ]
    },
    {
     "data": {
      "text/plain": [
       "(1000, 9)"
      ]
     },
     "execution_count": 4,
     "metadata": {},
     "output_type": "execute_result"
    }
   ],
   "source": [
    "print(\"size\")\n",
    "meteroite_df.shape"
   ]
  },
  {
   "cell_type": "code",
   "execution_count": 5,
   "id": "0f29f43d",
   "metadata": {},
   "outputs": [
    {
     "name": "stdout",
     "output_type": "stream",
     "text": [
      "basic info about dataset\n",
      "<class 'pandas.core.frame.DataFrame'>\n",
      "RangeIndex: 1000 entries, 0 to 999\n",
      "Data columns (total 9 columns):\n",
      " #   Column                   Non-Null Count  Dtype  \n",
      "---  ------                   --------------  -----  \n",
      " 0   Name                     1000 non-null   object \n",
      " 1   Nametype                 1000 non-null   object \n",
      " 2   Recclass                 1000 non-null   object \n",
      " 3   Mass                     972 non-null    float64\n",
      " 4   Fall                     1000 non-null   object \n",
      " 5   Year                     999 non-null    object \n",
      " 6   Reclat                   988 non-null    float64\n",
      " 7   Reclong                  988 non-null    float64\n",
      " 8   Coordinates geolocation  988 non-null    object \n",
      "dtypes: float64(3), object(6)\n",
      "memory usage: 70.4+ KB\n"
     ]
    }
   ],
   "source": [
    "print(\"basic info about dataset\")\n",
    "meteroite_df.info()"
   ]
  },
  {
   "cell_type": "code",
   "execution_count": 6,
   "id": "8fe555b4",
   "metadata": {},
   "outputs": [
    {
     "data": {
      "text/plain": [
       "Name                        0\n",
       "Nametype                    0\n",
       "Recclass                    0\n",
       "Mass                       28\n",
       "Fall                        0\n",
       "Year                        1\n",
       "Reclat                     12\n",
       "Reclong                    12\n",
       "Coordinates geolocation    12\n",
       "dtype: int64"
      ]
     },
     "execution_count": 6,
     "metadata": {},
     "output_type": "execute_result"
    }
   ],
   "source": [
    "# having null values ?\n",
    "meteroite_df.isnull().sum()"
   ]
  },
  {
   "cell_type": "code",
   "execution_count": 7,
   "id": "7a579ecf",
   "metadata": {},
   "outputs": [
    {
     "data": {
      "text/plain": [
       "False"
      ]
     },
     "execution_count": 7,
     "metadata": {},
     "output_type": "execute_result"
    }
   ],
   "source": [
    "# any duplicate row?\n",
    "any_dubplicate_row = any(meteroite_df.duplicated()) == True\n",
    "any_dubplicate_row"
   ]
  },
  {
   "cell_type": "code",
   "execution_count": 8,
   "id": "dc4bf491",
   "metadata": {},
   "outputs": [
    {
     "data": {
      "text/plain": [
       "0"
      ]
     },
     "execution_count": 8,
     "metadata": {},
     "output_type": "execute_result"
    }
   ],
   "source": [
    "# drop the one null row form the dataset\n",
    "meteroite_df.dropna(axis=0, subset=\"Year\", inplace=True)\n",
    "meteroite_df[\"Year\"].isnull().sum()"
   ]
  },
  {
   "cell_type": "code",
   "execution_count": 9,
   "id": "3c779288",
   "metadata": {},
   "outputs": [
    {
     "data": {
      "text/html": [
       "<div>\n",
       "<style scoped>\n",
       "    .dataframe tbody tr th:only-of-type {\n",
       "        vertical-align: middle;\n",
       "    }\n",
       "\n",
       "    .dataframe tbody tr th {\n",
       "        vertical-align: top;\n",
       "    }\n",
       "\n",
       "    .dataframe thead th {\n",
       "        text-align: right;\n",
       "    }\n",
       "</style>\n",
       "<table border=\"1\" class=\"dataframe\">\n",
       "  <thead>\n",
       "    <tr style=\"text-align: right;\">\n",
       "      <th></th>\n",
       "      <th>Mass</th>\n",
       "      <th>Reclat</th>\n",
       "      <th>Reclong</th>\n",
       "    </tr>\n",
       "  </thead>\n",
       "  <tbody>\n",
       "    <tr>\n",
       "      <th>count</th>\n",
       "      <td>9.710000e+02</td>\n",
       "      <td>987.000000</td>\n",
       "      <td>987.000000</td>\n",
       "    </tr>\n",
       "    <tr>\n",
       "      <th>mean</th>\n",
       "      <td>5.024162e+04</td>\n",
       "      <td>29.721674</td>\n",
       "      <td>19.170612</td>\n",
       "    </tr>\n",
       "    <tr>\n",
       "      <th>std</th>\n",
       "      <td>7.543725e+05</td>\n",
       "      <td>23.196879</td>\n",
       "      <td>68.676105</td>\n",
       "    </tr>\n",
       "    <tr>\n",
       "      <th>min</th>\n",
       "      <td>1.500000e-01</td>\n",
       "      <td>-44.116670</td>\n",
       "      <td>-157.866670</td>\n",
       "    </tr>\n",
       "    <tr>\n",
       "      <th>25%</th>\n",
       "      <td>6.800000e+02</td>\n",
       "      <td>21.491945</td>\n",
       "      <td>-5.241665</td>\n",
       "    </tr>\n",
       "    <tr>\n",
       "      <th>50%</th>\n",
       "      <td>2.900000e+03</td>\n",
       "      <td>35.950000</td>\n",
       "      <td>17.533330</td>\n",
       "    </tr>\n",
       "    <tr>\n",
       "      <th>75%</th>\n",
       "      <td>1.010000e+04</td>\n",
       "      <td>45.819000</td>\n",
       "      <td>76.008335</td>\n",
       "    </tr>\n",
       "    <tr>\n",
       "      <th>max</th>\n",
       "      <td>2.300000e+07</td>\n",
       "      <td>66.348330</td>\n",
       "      <td>174.400000</td>\n",
       "    </tr>\n",
       "  </tbody>\n",
       "</table>\n",
       "</div>"
      ],
      "text/plain": [
       "               Mass      Reclat     Reclong\n",
       "count  9.710000e+02  987.000000  987.000000\n",
       "mean   5.024162e+04   29.721674   19.170612\n",
       "std    7.543725e+05   23.196879   68.676105\n",
       "min    1.500000e-01  -44.116670 -157.866670\n",
       "25%    6.800000e+02   21.491945   -5.241665\n",
       "50%    2.900000e+03   35.950000   17.533330\n",
       "75%    1.010000e+04   45.819000   76.008335\n",
       "max    2.300000e+07   66.348330  174.400000"
      ]
     },
     "execution_count": 9,
     "metadata": {},
     "output_type": "execute_result"
    }
   ],
   "source": [
    "# statistics of our data\n",
    "meteroite_df.describe()"
   ]
  },
  {
   "cell_type": "code",
   "execution_count": 10,
   "id": "6c32d85d",
   "metadata": {},
   "outputs": [
    {
     "data": {
      "text/html": [
       "<div>\n",
       "<style scoped>\n",
       "    .dataframe tbody tr th:only-of-type {\n",
       "        vertical-align: middle;\n",
       "    }\n",
       "\n",
       "    .dataframe tbody tr th {\n",
       "        vertical-align: top;\n",
       "    }\n",
       "\n",
       "    .dataframe thead th {\n",
       "        text-align: right;\n",
       "    }\n",
       "</style>\n",
       "<table border=\"1\" class=\"dataframe\">\n",
       "  <thead>\n",
       "    <tr style=\"text-align: right;\">\n",
       "      <th></th>\n",
       "      <th>Name</th>\n",
       "      <th>Nametype</th>\n",
       "      <th>Recclass</th>\n",
       "      <th>Fall</th>\n",
       "      <th>Year</th>\n",
       "      <th>Coordinates geolocation</th>\n",
       "    </tr>\n",
       "  </thead>\n",
       "  <tbody>\n",
       "    <tr>\n",
       "      <th>count</th>\n",
       "      <td>999</td>\n",
       "      <td>999</td>\n",
       "      <td>999</td>\n",
       "      <td>999</td>\n",
       "      <td>999</td>\n",
       "      <td>987</td>\n",
       "    </tr>\n",
       "    <tr>\n",
       "      <th>unique</th>\n",
       "      <td>999</td>\n",
       "      <td>1</td>\n",
       "      <td>118</td>\n",
       "      <td>2</td>\n",
       "      <td>247</td>\n",
       "      <td>986</td>\n",
       "    </tr>\n",
       "    <tr>\n",
       "      <th>top</th>\n",
       "      <td>Aachen</td>\n",
       "      <td>Valid</td>\n",
       "      <td>L6</td>\n",
       "      <td>Fell</td>\n",
       "      <td>1933-01-01T00:00:00.000</td>\n",
       "      <td>[12.43333, 7.05]</td>\n",
       "    </tr>\n",
       "    <tr>\n",
       "      <th>freq</th>\n",
       "      <td>1</td>\n",
       "      <td>999</td>\n",
       "      <td>242</td>\n",
       "      <td>996</td>\n",
       "      <td>16</td>\n",
       "      <td>2</td>\n",
       "    </tr>\n",
       "  </tbody>\n",
       "</table>\n",
       "</div>"
      ],
      "text/plain": [
       "          Name Nametype Recclass  Fall                     Year  \\\n",
       "count      999      999      999   999                      999   \n",
       "unique     999        1      118     2                      247   \n",
       "top     Aachen    Valid       L6  Fell  1933-01-01T00:00:00.000   \n",
       "freq         1      999      242   996                       16   \n",
       "\n",
       "       Coordinates geolocation  \n",
       "count                      987  \n",
       "unique                     986  \n",
       "top           [12.43333, 7.05]  \n",
       "freq                         2  "
      ]
     },
     "execution_count": 10,
     "metadata": {},
     "output_type": "execute_result"
    }
   ],
   "source": [
    "# stastical description of categorical columns\n",
    "meteroite_df.describe(include=object)"
   ]
  },
  {
   "cell_type": "markdown",
   "id": "002796e6",
   "metadata": {},
   "source": [
    "### Get all the Earth meteorites that fell before the year 2000 <a name=\"two\"></a>"
   ]
  },
  {
   "cell_type": "code",
   "execution_count": 11,
   "id": "2d9d9ef6",
   "metadata": {},
   "outputs": [],
   "source": [
    "# Convert year column into datetime format\n",
    "meteroite_df[\"Year\"] = meteroite_df['Year'].apply(lambda y: datetime.strptime(y, \"%Y-%m-%dT%H:%M:%S.%f\").year)"
   ]
  },
  {
   "cell_type": "code",
   "execution_count": 12,
   "id": "928fd32f",
   "metadata": {},
   "outputs": [
    {
     "data": {
      "text/html": [
       "<div>\n",
       "<style scoped>\n",
       "    .dataframe tbody tr th:only-of-type {\n",
       "        vertical-align: middle;\n",
       "    }\n",
       "\n",
       "    .dataframe tbody tr th {\n",
       "        vertical-align: top;\n",
       "    }\n",
       "\n",
       "    .dataframe thead th {\n",
       "        text-align: right;\n",
       "    }\n",
       "</style>\n",
       "<table border=\"1\" class=\"dataframe\">\n",
       "  <thead>\n",
       "    <tr style=\"text-align: right;\">\n",
       "      <th></th>\n",
       "      <th>Name</th>\n",
       "      <th>Nametype</th>\n",
       "      <th>Recclass</th>\n",
       "      <th>Mass</th>\n",
       "      <th>Fall</th>\n",
       "      <th>Year</th>\n",
       "      <th>Reclat</th>\n",
       "      <th>Reclong</th>\n",
       "      <th>Coordinates geolocation</th>\n",
       "    </tr>\n",
       "  </thead>\n",
       "  <tbody>\n",
       "    <tr>\n",
       "      <th>0</th>\n",
       "      <td>Aachen</td>\n",
       "      <td>Valid</td>\n",
       "      <td>L5</td>\n",
       "      <td>21.0</td>\n",
       "      <td>Fell</td>\n",
       "      <td>1880</td>\n",
       "      <td>50.77500</td>\n",
       "      <td>6.08333</td>\n",
       "      <td>[6.08333, 50.775]</td>\n",
       "    </tr>\n",
       "    <tr>\n",
       "      <th>1</th>\n",
       "      <td>Aarhus</td>\n",
       "      <td>Valid</td>\n",
       "      <td>H6</td>\n",
       "      <td>720.0</td>\n",
       "      <td>Fell</td>\n",
       "      <td>1951</td>\n",
       "      <td>56.18333</td>\n",
       "      <td>10.23333</td>\n",
       "      <td>[10.23333, 56.18333]</td>\n",
       "    </tr>\n",
       "    <tr>\n",
       "      <th>2</th>\n",
       "      <td>Abee</td>\n",
       "      <td>Valid</td>\n",
       "      <td>EH4</td>\n",
       "      <td>107000.0</td>\n",
       "      <td>Fell</td>\n",
       "      <td>1952</td>\n",
       "      <td>54.21667</td>\n",
       "      <td>-113.00000</td>\n",
       "      <td>[-113, 54.21667]</td>\n",
       "    </tr>\n",
       "    <tr>\n",
       "      <th>3</th>\n",
       "      <td>Acapulco</td>\n",
       "      <td>Valid</td>\n",
       "      <td>Acapulcoite</td>\n",
       "      <td>1914.0</td>\n",
       "      <td>Fell</td>\n",
       "      <td>1976</td>\n",
       "      <td>16.88333</td>\n",
       "      <td>-99.90000</td>\n",
       "      <td>[-99.9, 16.88333]</td>\n",
       "    </tr>\n",
       "    <tr>\n",
       "      <th>4</th>\n",
       "      <td>Achiras</td>\n",
       "      <td>Valid</td>\n",
       "      <td>L6</td>\n",
       "      <td>780.0</td>\n",
       "      <td>Fell</td>\n",
       "      <td>1902</td>\n",
       "      <td>-33.16667</td>\n",
       "      <td>-64.95000</td>\n",
       "      <td>[-64.95, -33.16667]</td>\n",
       "    </tr>\n",
       "    <tr>\n",
       "      <th>...</th>\n",
       "      <td>...</td>\n",
       "      <td>...</td>\n",
       "      <td>...</td>\n",
       "      <td>...</td>\n",
       "      <td>...</td>\n",
       "      <td>...</td>\n",
       "      <td>...</td>\n",
       "      <td>...</td>\n",
       "      <td>...</td>\n",
       "    </tr>\n",
       "    <tr>\n",
       "      <th>994</th>\n",
       "      <td>Timochin</td>\n",
       "      <td>Valid</td>\n",
       "      <td>H5</td>\n",
       "      <td>65500.0</td>\n",
       "      <td>Fell</td>\n",
       "      <td>1807</td>\n",
       "      <td>54.50000</td>\n",
       "      <td>35.20000</td>\n",
       "      <td>[35.2, 54.5]</td>\n",
       "    </tr>\n",
       "    <tr>\n",
       "      <th>995</th>\n",
       "      <td>Tirupati</td>\n",
       "      <td>Valid</td>\n",
       "      <td>H6</td>\n",
       "      <td>230.0</td>\n",
       "      <td>Fell</td>\n",
       "      <td>1934</td>\n",
       "      <td>13.63333</td>\n",
       "      <td>79.41667</td>\n",
       "      <td>[79.41667, 13.63333]</td>\n",
       "    </tr>\n",
       "    <tr>\n",
       "      <th>997</th>\n",
       "      <td>Tjabe</td>\n",
       "      <td>Valid</td>\n",
       "      <td>H6</td>\n",
       "      <td>20000.0</td>\n",
       "      <td>Fell</td>\n",
       "      <td>1869</td>\n",
       "      <td>-7.08333</td>\n",
       "      <td>111.53333</td>\n",
       "      <td>[111.53333, -7.08333]</td>\n",
       "    </tr>\n",
       "    <tr>\n",
       "      <th>998</th>\n",
       "      <td>Tjerebon</td>\n",
       "      <td>Valid</td>\n",
       "      <td>L5</td>\n",
       "      <td>16500.0</td>\n",
       "      <td>Fell</td>\n",
       "      <td>1922</td>\n",
       "      <td>-6.66667</td>\n",
       "      <td>106.58333</td>\n",
       "      <td>[106.58333, -6.66667]</td>\n",
       "    </tr>\n",
       "    <tr>\n",
       "      <th>999</th>\n",
       "      <td>Tomakovka</td>\n",
       "      <td>Valid</td>\n",
       "      <td>LL6</td>\n",
       "      <td>600.0</td>\n",
       "      <td>Fell</td>\n",
       "      <td>1905</td>\n",
       "      <td>47.85000</td>\n",
       "      <td>34.76667</td>\n",
       "      <td>[34.76667, 47.85]</td>\n",
       "    </tr>\n",
       "  </tbody>\n",
       "</table>\n",
       "<p>929 rows × 9 columns</p>\n",
       "</div>"
      ],
      "text/plain": [
       "          Name Nametype     Recclass      Mass  Fall  Year    Reclat  \\\n",
       "0       Aachen    Valid           L5      21.0  Fell  1880  50.77500   \n",
       "1       Aarhus    Valid           H6     720.0  Fell  1951  56.18333   \n",
       "2         Abee    Valid          EH4  107000.0  Fell  1952  54.21667   \n",
       "3     Acapulco    Valid  Acapulcoite    1914.0  Fell  1976  16.88333   \n",
       "4      Achiras    Valid           L6     780.0  Fell  1902 -33.16667   \n",
       "..         ...      ...          ...       ...   ...   ...       ...   \n",
       "994   Timochin    Valid           H5   65500.0  Fell  1807  54.50000   \n",
       "995   Tirupati    Valid           H6     230.0  Fell  1934  13.63333   \n",
       "997      Tjabe    Valid           H6   20000.0  Fell  1869  -7.08333   \n",
       "998   Tjerebon    Valid           L5   16500.0  Fell  1922  -6.66667   \n",
       "999  Tomakovka    Valid          LL6     600.0  Fell  1905  47.85000   \n",
       "\n",
       "       Reclong Coordinates geolocation  \n",
       "0      6.08333       [6.08333, 50.775]  \n",
       "1     10.23333    [10.23333, 56.18333]  \n",
       "2   -113.00000        [-113, 54.21667]  \n",
       "3    -99.90000       [-99.9, 16.88333]  \n",
       "4    -64.95000     [-64.95, -33.16667]  \n",
       "..         ...                     ...  \n",
       "994   35.20000            [35.2, 54.5]  \n",
       "995   79.41667    [79.41667, 13.63333]  \n",
       "997  111.53333   [111.53333, -7.08333]  \n",
       "998  106.58333   [106.58333, -6.66667]  \n",
       "999   34.76667       [34.76667, 47.85]  \n",
       "\n",
       "[929 rows x 9 columns]"
      ]
     },
     "execution_count": 12,
     "metadata": {},
     "output_type": "execute_result"
    }
   ],
   "source": [
    "meteriote_before_2000 = meteroite_df.loc[(meteroite_df[\"Year\"] < 2000) & (meteroite_df[\"Fall\"] != \"Found\")]\n",
    "meteriote_before_2000"
   ]
  },
  {
   "cell_type": "code",
   "execution_count": 13,
   "id": "93cfc807",
   "metadata": {},
   "outputs": [
    {
     "name": "stdout",
     "output_type": "stream",
     "text": [
      "Minimum - Maximum Year\n",
      "\n"
     ]
    },
    {
     "data": {
      "text/plain": [
       "(861, 2013)"
      ]
     },
     "execution_count": 13,
     "metadata": {},
     "output_type": "execute_result"
    }
   ],
   "source": [
    "print(\"Minimum - Maximum Year\\n\")\n",
    "meteroite_df[\"Year\"].min(), meteroite_df[\"Year\"].max()"
   ]
  },
  {
   "cell_type": "code",
   "execution_count": 14,
   "id": "3fd1a81b",
   "metadata": {},
   "outputs": [
    {
     "data": {
      "application/vnd.plotly.v1+json": {
       "config": {
        "plotlyServerURL": "https://plot.ly"
       },
       "data": [
        {
         "alignmentgroup": "True",
         "bingroup": "x",
         "hovertemplate": "Fall=Fell<br>Year=%{x}<br>count=%{y}<extra></extra>",
         "legendgroup": "Fell",
         "marker": {
          "color": "#636efa",
          "pattern": {
           "shape": ""
          }
         },
         "name": "Fell",
         "offsetgroup": "Fell",
         "orientation": "v",
         "showlegend": true,
         "type": "histogram",
         "x": [
          1880,
          1951,
          1952,
          1976,
          1902,
          1919,
          1949,
          1814,
          1930,
          1920,
          1974,
          1925,
          1769,
          1949,
          1838,
          1959,
          1981,
          1957,
          2001,
          1806,
          1766,
          1949,
          2002,
          1835,
          1873,
          1860,
          1900,
          1883,
          1899,
          1969,
          2008,
          1977,
          1895,
          1880,
          1898,
          1969,
          1939,
          1822,
          1869,
          1942,
          1971,
          1984,
          1914,
          1803,
          1954,
          1932,
          1950,
          1805,
          2009,
          1923,
          1886,
          1920,
          1896,
          1933,
          1945,
          1836,
          1865,
          1842,
          1858,
          1952,
          1908,
          1855,
          1968,
          1938,
          1814,
          1934,
          1929,
          1922,
          1907,
          1993,
          1871,
          1892,
          1913,
          1933,
          1790,
          1704,
          1842,
          1904,
          1886,
          1910,
          1965,
          2006,
          1994,
          1892,
          1902,
          2012,
          1989,
          1916,
          1929,
          1893,
          1949,
          1961,
          1937,
          1798,
          2004,
          2001,
          1938,
          1943,
          2002,
          1949,
          2008,
          1924,
          1811,
          2004,
          1859,
          1859,
          1921,
          1877,
          2002,
          1893,
          1940,
          1905,
          1827,
          1887,
          1999,
          1984,
          1923,
          1843,
          1895,
          1796,
          1899,
          1941,
          1906,
          1909,
          1833,
          1938,
          1977,
          1804,
          1962,
          1916,
          1808,
          1894,
          1930,
          1852,
          1812,
          1823,
          2003,
          2011,
          1969,
          1886,
          1847,
          1956,
          1855,
          1933,
          1960,
          2001,
          1964,
          2007,
          1942,
          1919,
          1990,
          1946,
          1863,
          1852,
          1861,
          2008,
          1870,
          1886,
          1919,
          2007,
          1916,
          1991,
          1964,
          1861,
          1866,
          1973,
          1846,
          1934,
          2007,
          1902,
          1874,
          1791,
          1848,
          1583,
          1810,
          1988,
          1956,
          1840,
          1998,
          1814,
          1907,
          1933,
          1838,
          1885,
          1977,
          1812,
          1835,
          1810,
          1834,
          1815,
          1841,
          1925,
          1988,
          2013,
          2007,
          1964,
          1933,
          1901,
          1939,
          1880,
          1981,
          1938,
          1988,
          1966,
          1978,
          1979,
          1984,
          1822,
          1917,
          1838,
          1994,
          1890,
          1965,
          1844,
          1917,
          1936,
          1877,
          1892,
          1902,
          1919,
          1877,
          1981,
          1878,
          1868,
          1868,
          1804,
          1998,
          2008,
          1887,
          1829,
          1897,
          1911,
          1967,
          2001,
          1962,
          2001,
          1994,
          1976,
          1848,
          1860,
          2007,
          1906,
          1957,
          1884,
          1961,
          1999,
          1903,
          1864,
          1907,
          1995,
          1899,
          1970,
          1805,
          1962,
          1932,
          1976,
          1827,
          1939,
          1951,
          1999,
          1865,
          1976,
          1815,
          1853,
          1943,
          1970,
          1872,
          1933,
          1947,
          1961,
          1785,
          1939,
          1916,
          1989,
          1977,
          1993,
          1998,
          1400,
          1951,
          1925,
          1900,
          1974,
          1492,
          1822,
          1940,
          1911,
          1889,
          1812,
          1837,
          1957,
          1879,
          1890,
          1934,
          1844,
          1934,
          1875,
          1900,
          1924,
          1889,
          1996,
          1894,
          1922,
          1890,
          1942,
          1924,
          1900,
          1829,
          1944,
          1868,
          1945,
          1882,
          1654,
          1822,
          1977,
          1826,
          1952,
          1952,
          1995,
          1897,
          1960,
          1917,
          1950,
          1984,
          2000,
          1950,
          1909,
          1853,
          1947,
          1990,
          1939,
          1918,
          1991,
          1879,
          1865,
          1974,
          1964,
          1976,
          2009,
          1861,
          1837,
          1881,
          1841,
          1910,
          1932,
          1996,
          1983,
          1980,
          1892,
          1891,
          1972,
          1949,
          1982,
          1984,
          1904,
          1814,
          1981,
          1851,
          1930,
          1817,
          1934,
          1944,
          1959,
          1878,
          1921,
          1961,
          1859,
          1910,
          1890,
          1628,
          1971,
          1922,
          1910,
          1857,
          1869,
          1897,
          1804,
          2003,
          2003,
          1954,
          1912,
          1923,
          1875,
          1825,
          1956,
          1963,
          1751,
          2010,
          1877,
          1901,
          1870,
          1957,
          1949,
          1936,
          1956,
          1977,
          1975,
          1891,
          1917,
          1963,
          1977,
          1972,
          1954,
          1928,
          1879,
          1990,
          1938,
          1903,
          1926,
          1990,
          1621,
          1866,
          1979,
          1889,
          1901,
          2009,
          1873,
          1964,
          1890,
          1976,
          2006,
          1877,
          1924,
          1974,
          1819,
          1997,
          1876,
          1984,
          1976,
          1968,
          1821,
          1857,
          1971,
          1822,
          1838,
          1908,
          1980,
          1937,
          1890,
          1858,
          1951,
          1879,
          1942,
          1913,
          1902,
          1959,
          1908,
          1897,
          1942,
          2004,
          1937,
          1840,
          1963,
          1949,
          1905,
          1955,
          1930,
          1938,
          2003,
          1999,
          2006,
          1961,
          1940,
          2008,
          1939,
          2003,
          1874,
          1869,
          1850,
          1873,
          1932,
          1787,
          1860,
          1867,
          1929,
          1910,
          1932,
          1983,
          1962,
          1970,
          1906,
          1809,
          2002,
          1911,
          1844,
          1967,
          1906,
          1914,
          1998,
          1843,
          1866,
          1999,
          1986,
          1926,
          1931,
          2010,
          1869,
          1829,
          1946,
          1906,
          1946,
          1938,
          1961,
          1811,
          1906,
          1949,
          1998,
          1920,
          1860,
          1977,
          1914,
          1932,
          1886,
          1879,
          1878,
          1924,
          1985,
          1871,
          1955,
          1803,
          1910,
          1887,
          1872,
          1897,
          1947,
          1986,
          1925,
          1987,
          1830,
          1938,
          1845,
          1845,
          1943,
          1912,
          1999,
          1907,
          1900,
          1857,
          1896,
          1973,
          1930,
          1813,
          1854,
          1978,
          1808,
          1839,
          1820,
          1868,
          1994,
          2010,
          1894,
          1970,
          1977,
          1935,
          1926,
          1768,
          1869,
          1980,
          1889,
          1813,
          1753,
          1951,
          1937,
          1836,
          1981,
          1936,
          1950,
          1935,
          1896,
          1941,
          1899,
          1990,
          2007,
          2004,
          1933,
          1970,
          1930,
          1931,
          1933,
          1927,
          1863,
          1843,
          1934,
          1951,
          1948,
          1925,
          1898,
          2009,
          1941,
          1971,
          1847,
          1902,
          1848,
          2002,
          1983,
          1836,
          2010,
          1803,
          1768,
          1801,
          1974,
          1885,
          1942,
          1992,
          1953,
          1861,
          1915,
          1862,
          1903,
          1878,
          1945,
          1920,
          1955,
          1897,
          1949,
          1852,
          1827,
          1980,
          1881,
          2010,
          1889,
          1992,
          1944,
          1842,
          1960,
          1930,
          1632,
          1826,
          1952,
          1905,
          1910,
          1890,
          1898,
          1882,
          1905,
          1908,
          1858,
          1953,
          1998,
          1849,
          1950,
          1846,
          1923,
          1838,
          1950,
          1913,
          1810,
          1930,
          1808,
          2000,
          1875,
          2006,
          1868,
          1868,
          1902,
          1991,
          1637,
          1944,
          1865,
          1795,
          1924,
          1969,
          1950,
          1964,
          1842,
          1956,
          1922,
          1875,
          1895,
          1911,
          1923,
          1886,
          1917,
          1825,
          1984,
          1928,
          1974,
          1928,
          921,
          1936,
          1973,
          1890,
          1995,
          1870,
          1970,
          1864,
          2002,
          1860,
          1994,
          2003,
          1883,
          1900,
          1750,
          1967,
          1967,
          1935,
          1954,
          1975,
          1983,
          1897,
          1912,
          1823,
          1991,
          861,
          1879,
          1918,
          1948,
          1971,
          1886,
          1662,
          1908,
          1933,
          1978,
          1851,
          1925,
          1939,
          1914,
          1887,
          1927,
          1855,
          1900,
          1741,
          1857,
          1963,
          1926,
          1958,
          1904,
          1834,
          1930,
          1520,
          1924,
          1929,
          1981,
          1864,
          2004,
          1868,
          1671,
          1872,
          1928,
          1867,
          1896,
          2003,
          1986,
          2003,
          1998,
          1900,
          1856,
          1775,
          1881,
          1929,
          1910,
          1910,
          1988,
          1914,
          1926,
          1949,
          1859,
          1938,
          1930,
          1967,
          1956,
          2003,
          1857,
          1942,
          1933,
          1969,
          1950,
          1922,
          1935,
          1966,
          1938,
          1826,
          1882,
          1989,
          1963,
          1953,
          1992,
          1946,
          1899,
          1935,
          1830,
          1933,
          1933,
          1995,
          1855,
          1779,
          1901,
          1887,
          1933,
          1941,
          1968,
          1843,
          1863,
          1996,
          1881,
          1882,
          1884,
          1921,
          1930,
          2008,
          1723,
          1868,
          1819,
          1866,
          1942,
          1931,
          1998,
          1796,
          1933,
          1932,
          1959,
          1893,
          2007,
          1863,
          1868,
          1811,
          1937,
          1982,
          1976,
          1925,
          1857,
          1898,
          1990,
          1851,
          1957,
          1986,
          1983,
          1878,
          1940,
          1916,
          1958,
          1917,
          1899,
          1937,
          1919,
          1961,
          1740,
          1880,
          2007,
          1947,
          1919,
          1824,
          1925,
          1916,
          1933,
          1965,
          1929,
          1903,
          1948,
          1918,
          1980,
          1828,
          1934,
          1491,
          1876,
          1895,
          1871,
          1775,
          1921,
          1876,
          1976,
          1934,
          1949,
          1914,
          1855,
          1999,
          1636,
          1914,
          1966,
          1913,
          1981,
          1798,
          1985,
          1921,
          1973,
          2002,
          1956,
          1968,
          1873,
          1939,
          1924,
          2008,
          1962,
          1918,
          1688,
          1868,
          1894,
          1986,
          1934,
          1715,
          1968,
          1846,
          1871,
          1917,
          1853,
          1939,
          1947,
          1940,
          1773,
          1993,
          1966,
          1818,
          1923,
          1908,
          1862,
          1874,
          1989,
          1850,
          1921,
          1904,
          1865,
          1976,
          1921,
          1971,
          1912,
          1863,
          1794,
          1947,
          1995,
          1917,
          1920,
          1916,
          1901,
          1956,
          1933,
          1875,
          1989,
          1989,
          1848,
          1868,
          1818,
          1960,
          1877,
          1860,
          2011,
          1866,
          1993,
          1927,
          1945,
          1883,
          1841,
          1855,
          1890,
          1950,
          1903,
          1919,
          1866,
          1910,
          1959,
          1876,
          1808,
          1857,
          1962,
          1990,
          1647,
          1974,
          1917,
          1623,
          1994,
          1924,
          1969,
          1986,
          2008,
          1916,
          1935,
          1865,
          2012,
          1954,
          1753,
          1867,
          2000,
          1991,
          1880,
          1995,
          1975,
          2008,
          1918,
          1965,
          1931,
          1967,
          1929,
          1937,
          1879,
          1872,
          1950,
          2011,
          2002,
          1986,
          1878,
          1927,
          1970,
          1807,
          1934,
          2011,
          1869,
          1922,
          1905
         ],
         "xaxis": "x",
         "yaxis": "y"
        },
        {
         "alignmentgroup": "True",
         "bingroup": "x",
         "hovertemplate": "Fall=Found<br>Year=%{x}<br>count=%{y}<extra></extra>",
         "legendgroup": "Found",
         "marker": {
          "color": "#EF553B",
          "pattern": {
           "shape": ""
          }
         },
         "name": "Found",
         "offsetgroup": "Found",
         "orientation": "v",
         "showlegend": true,
         "type": "histogram",
         "x": [
          2003,
          2002,
          2002
         ],
         "xaxis": "x",
         "yaxis": "y"
        }
       ],
       "layout": {
        "bargap": 0.1,
        "barmode": "relative",
        "legend": {
         "title": {
          "text": "Fall"
         },
         "tracegroupgap": 0
        },
        "margin": {
         "t": 60
        },
        "template": {
         "data": {
          "bar": [
           {
            "error_x": {
             "color": "#2a3f5f"
            },
            "error_y": {
             "color": "#2a3f5f"
            },
            "marker": {
             "line": {
              "color": "#E5ECF6",
              "width": 0.5
             },
             "pattern": {
              "fillmode": "overlay",
              "size": 10,
              "solidity": 0.2
             }
            },
            "type": "bar"
           }
          ],
          "barpolar": [
           {
            "marker": {
             "line": {
              "color": "#E5ECF6",
              "width": 0.5
             },
             "pattern": {
              "fillmode": "overlay",
              "size": 10,
              "solidity": 0.2
             }
            },
            "type": "barpolar"
           }
          ],
          "carpet": [
           {
            "aaxis": {
             "endlinecolor": "#2a3f5f",
             "gridcolor": "white",
             "linecolor": "white",
             "minorgridcolor": "white",
             "startlinecolor": "#2a3f5f"
            },
            "baxis": {
             "endlinecolor": "#2a3f5f",
             "gridcolor": "white",
             "linecolor": "white",
             "minorgridcolor": "white",
             "startlinecolor": "#2a3f5f"
            },
            "type": "carpet"
           }
          ],
          "choropleth": [
           {
            "colorbar": {
             "outlinewidth": 0,
             "ticks": ""
            },
            "type": "choropleth"
           }
          ],
          "contour": [
           {
            "colorbar": {
             "outlinewidth": 0,
             "ticks": ""
            },
            "colorscale": [
             [
              0,
              "#0d0887"
             ],
             [
              0.1111111111111111,
              "#46039f"
             ],
             [
              0.2222222222222222,
              "#7201a8"
             ],
             [
              0.3333333333333333,
              "#9c179e"
             ],
             [
              0.4444444444444444,
              "#bd3786"
             ],
             [
              0.5555555555555556,
              "#d8576b"
             ],
             [
              0.6666666666666666,
              "#ed7953"
             ],
             [
              0.7777777777777778,
              "#fb9f3a"
             ],
             [
              0.8888888888888888,
              "#fdca26"
             ],
             [
              1,
              "#f0f921"
             ]
            ],
            "type": "contour"
           }
          ],
          "contourcarpet": [
           {
            "colorbar": {
             "outlinewidth": 0,
             "ticks": ""
            },
            "type": "contourcarpet"
           }
          ],
          "heatmap": [
           {
            "colorbar": {
             "outlinewidth": 0,
             "ticks": ""
            },
            "colorscale": [
             [
              0,
              "#0d0887"
             ],
             [
              0.1111111111111111,
              "#46039f"
             ],
             [
              0.2222222222222222,
              "#7201a8"
             ],
             [
              0.3333333333333333,
              "#9c179e"
             ],
             [
              0.4444444444444444,
              "#bd3786"
             ],
             [
              0.5555555555555556,
              "#d8576b"
             ],
             [
              0.6666666666666666,
              "#ed7953"
             ],
             [
              0.7777777777777778,
              "#fb9f3a"
             ],
             [
              0.8888888888888888,
              "#fdca26"
             ],
             [
              1,
              "#f0f921"
             ]
            ],
            "type": "heatmap"
           }
          ],
          "heatmapgl": [
           {
            "colorbar": {
             "outlinewidth": 0,
             "ticks": ""
            },
            "colorscale": [
             [
              0,
              "#0d0887"
             ],
             [
              0.1111111111111111,
              "#46039f"
             ],
             [
              0.2222222222222222,
              "#7201a8"
             ],
             [
              0.3333333333333333,
              "#9c179e"
             ],
             [
              0.4444444444444444,
              "#bd3786"
             ],
             [
              0.5555555555555556,
              "#d8576b"
             ],
             [
              0.6666666666666666,
              "#ed7953"
             ],
             [
              0.7777777777777778,
              "#fb9f3a"
             ],
             [
              0.8888888888888888,
              "#fdca26"
             ],
             [
              1,
              "#f0f921"
             ]
            ],
            "type": "heatmapgl"
           }
          ],
          "histogram": [
           {
            "marker": {
             "pattern": {
              "fillmode": "overlay",
              "size": 10,
              "solidity": 0.2
             }
            },
            "type": "histogram"
           }
          ],
          "histogram2d": [
           {
            "colorbar": {
             "outlinewidth": 0,
             "ticks": ""
            },
            "colorscale": [
             [
              0,
              "#0d0887"
             ],
             [
              0.1111111111111111,
              "#46039f"
             ],
             [
              0.2222222222222222,
              "#7201a8"
             ],
             [
              0.3333333333333333,
              "#9c179e"
             ],
             [
              0.4444444444444444,
              "#bd3786"
             ],
             [
              0.5555555555555556,
              "#d8576b"
             ],
             [
              0.6666666666666666,
              "#ed7953"
             ],
             [
              0.7777777777777778,
              "#fb9f3a"
             ],
             [
              0.8888888888888888,
              "#fdca26"
             ],
             [
              1,
              "#f0f921"
             ]
            ],
            "type": "histogram2d"
           }
          ],
          "histogram2dcontour": [
           {
            "colorbar": {
             "outlinewidth": 0,
             "ticks": ""
            },
            "colorscale": [
             [
              0,
              "#0d0887"
             ],
             [
              0.1111111111111111,
              "#46039f"
             ],
             [
              0.2222222222222222,
              "#7201a8"
             ],
             [
              0.3333333333333333,
              "#9c179e"
             ],
             [
              0.4444444444444444,
              "#bd3786"
             ],
             [
              0.5555555555555556,
              "#d8576b"
             ],
             [
              0.6666666666666666,
              "#ed7953"
             ],
             [
              0.7777777777777778,
              "#fb9f3a"
             ],
             [
              0.8888888888888888,
              "#fdca26"
             ],
             [
              1,
              "#f0f921"
             ]
            ],
            "type": "histogram2dcontour"
           }
          ],
          "mesh3d": [
           {
            "colorbar": {
             "outlinewidth": 0,
             "ticks": ""
            },
            "type": "mesh3d"
           }
          ],
          "parcoords": [
           {
            "line": {
             "colorbar": {
              "outlinewidth": 0,
              "ticks": ""
             }
            },
            "type": "parcoords"
           }
          ],
          "pie": [
           {
            "automargin": true,
            "type": "pie"
           }
          ],
          "scatter": [
           {
            "fillpattern": {
             "fillmode": "overlay",
             "size": 10,
             "solidity": 0.2
            },
            "type": "scatter"
           }
          ],
          "scatter3d": [
           {
            "line": {
             "colorbar": {
              "outlinewidth": 0,
              "ticks": ""
             }
            },
            "marker": {
             "colorbar": {
              "outlinewidth": 0,
              "ticks": ""
             }
            },
            "type": "scatter3d"
           }
          ],
          "scattercarpet": [
           {
            "marker": {
             "colorbar": {
              "outlinewidth": 0,
              "ticks": ""
             }
            },
            "type": "scattercarpet"
           }
          ],
          "scattergeo": [
           {
            "marker": {
             "colorbar": {
              "outlinewidth": 0,
              "ticks": ""
             }
            },
            "type": "scattergeo"
           }
          ],
          "scattergl": [
           {
            "marker": {
             "colorbar": {
              "outlinewidth": 0,
              "ticks": ""
             }
            },
            "type": "scattergl"
           }
          ],
          "scattermapbox": [
           {
            "marker": {
             "colorbar": {
              "outlinewidth": 0,
              "ticks": ""
             }
            },
            "type": "scattermapbox"
           }
          ],
          "scatterpolar": [
           {
            "marker": {
             "colorbar": {
              "outlinewidth": 0,
              "ticks": ""
             }
            },
            "type": "scatterpolar"
           }
          ],
          "scatterpolargl": [
           {
            "marker": {
             "colorbar": {
              "outlinewidth": 0,
              "ticks": ""
             }
            },
            "type": "scatterpolargl"
           }
          ],
          "scatterternary": [
           {
            "marker": {
             "colorbar": {
              "outlinewidth": 0,
              "ticks": ""
             }
            },
            "type": "scatterternary"
           }
          ],
          "surface": [
           {
            "colorbar": {
             "outlinewidth": 0,
             "ticks": ""
            },
            "colorscale": [
             [
              0,
              "#0d0887"
             ],
             [
              0.1111111111111111,
              "#46039f"
             ],
             [
              0.2222222222222222,
              "#7201a8"
             ],
             [
              0.3333333333333333,
              "#9c179e"
             ],
             [
              0.4444444444444444,
              "#bd3786"
             ],
             [
              0.5555555555555556,
              "#d8576b"
             ],
             [
              0.6666666666666666,
              "#ed7953"
             ],
             [
              0.7777777777777778,
              "#fb9f3a"
             ],
             [
              0.8888888888888888,
              "#fdca26"
             ],
             [
              1,
              "#f0f921"
             ]
            ],
            "type": "surface"
           }
          ],
          "table": [
           {
            "cells": {
             "fill": {
              "color": "#EBF0F8"
             },
             "line": {
              "color": "white"
             }
            },
            "header": {
             "fill": {
              "color": "#C8D4E3"
             },
             "line": {
              "color": "white"
             }
            },
            "type": "table"
           }
          ]
         },
         "layout": {
          "annotationdefaults": {
           "arrowcolor": "#2a3f5f",
           "arrowhead": 0,
           "arrowwidth": 1
          },
          "autotypenumbers": "strict",
          "coloraxis": {
           "colorbar": {
            "outlinewidth": 0,
            "ticks": ""
           }
          },
          "colorscale": {
           "diverging": [
            [
             0,
             "#8e0152"
            ],
            [
             0.1,
             "#c51b7d"
            ],
            [
             0.2,
             "#de77ae"
            ],
            [
             0.3,
             "#f1b6da"
            ],
            [
             0.4,
             "#fde0ef"
            ],
            [
             0.5,
             "#f7f7f7"
            ],
            [
             0.6,
             "#e6f5d0"
            ],
            [
             0.7,
             "#b8e186"
            ],
            [
             0.8,
             "#7fbc41"
            ],
            [
             0.9,
             "#4d9221"
            ],
            [
             1,
             "#276419"
            ]
           ],
           "sequential": [
            [
             0,
             "#0d0887"
            ],
            [
             0.1111111111111111,
             "#46039f"
            ],
            [
             0.2222222222222222,
             "#7201a8"
            ],
            [
             0.3333333333333333,
             "#9c179e"
            ],
            [
             0.4444444444444444,
             "#bd3786"
            ],
            [
             0.5555555555555556,
             "#d8576b"
            ],
            [
             0.6666666666666666,
             "#ed7953"
            ],
            [
             0.7777777777777778,
             "#fb9f3a"
            ],
            [
             0.8888888888888888,
             "#fdca26"
            ],
            [
             1,
             "#f0f921"
            ]
           ],
           "sequentialminus": [
            [
             0,
             "#0d0887"
            ],
            [
             0.1111111111111111,
             "#46039f"
            ],
            [
             0.2222222222222222,
             "#7201a8"
            ],
            [
             0.3333333333333333,
             "#9c179e"
            ],
            [
             0.4444444444444444,
             "#bd3786"
            ],
            [
             0.5555555555555556,
             "#d8576b"
            ],
            [
             0.6666666666666666,
             "#ed7953"
            ],
            [
             0.7777777777777778,
             "#fb9f3a"
            ],
            [
             0.8888888888888888,
             "#fdca26"
            ],
            [
             1,
             "#f0f921"
            ]
           ]
          },
          "colorway": [
           "#636efa",
           "#EF553B",
           "#00cc96",
           "#ab63fa",
           "#FFA15A",
           "#19d3f3",
           "#FF6692",
           "#B6E880",
           "#FF97FF",
           "#FECB52"
          ],
          "font": {
           "color": "#2a3f5f"
          },
          "geo": {
           "bgcolor": "white",
           "lakecolor": "white",
           "landcolor": "#E5ECF6",
           "showlakes": true,
           "showland": true,
           "subunitcolor": "white"
          },
          "hoverlabel": {
           "align": "left"
          },
          "hovermode": "closest",
          "mapbox": {
           "style": "light"
          },
          "paper_bgcolor": "white",
          "plot_bgcolor": "#E5ECF6",
          "polar": {
           "angularaxis": {
            "gridcolor": "white",
            "linecolor": "white",
            "ticks": ""
           },
           "bgcolor": "#E5ECF6",
           "radialaxis": {
            "gridcolor": "white",
            "linecolor": "white",
            "ticks": ""
           }
          },
          "scene": {
           "xaxis": {
            "backgroundcolor": "#E5ECF6",
            "gridcolor": "white",
            "gridwidth": 2,
            "linecolor": "white",
            "showbackground": true,
            "ticks": "",
            "zerolinecolor": "white"
           },
           "yaxis": {
            "backgroundcolor": "#E5ECF6",
            "gridcolor": "white",
            "gridwidth": 2,
            "linecolor": "white",
            "showbackground": true,
            "ticks": "",
            "zerolinecolor": "white"
           },
           "zaxis": {
            "backgroundcolor": "#E5ECF6",
            "gridcolor": "white",
            "gridwidth": 2,
            "linecolor": "white",
            "showbackground": true,
            "ticks": "",
            "zerolinecolor": "white"
           }
          },
          "shapedefaults": {
           "line": {
            "color": "#2a3f5f"
           }
          },
          "ternary": {
           "aaxis": {
            "gridcolor": "white",
            "linecolor": "white",
            "ticks": ""
           },
           "baxis": {
            "gridcolor": "white",
            "linecolor": "white",
            "ticks": ""
           },
           "bgcolor": "#E5ECF6",
           "caxis": {
            "gridcolor": "white",
            "linecolor": "white",
            "ticks": ""
           }
          },
          "title": {
           "x": 0.05
          },
          "xaxis": {
           "automargin": true,
           "gridcolor": "white",
           "linecolor": "white",
           "ticks": "",
           "title": {
            "standoff": 15
           },
           "zerolinecolor": "white",
           "zerolinewidth": 2
          },
          "yaxis": {
           "automargin": true,
           "gridcolor": "white",
           "linecolor": "white",
           "ticks": "",
           "title": {
            "standoff": 15
           },
           "zerolinecolor": "white",
           "zerolinewidth": 2
          }
         }
        },
        "title": {
         "text": "Histogram with Year and couts"
        },
        "xaxis": {
         "anchor": "y",
         "domain": [
          0,
          1
         ],
         "title": {
          "text": "Year"
         }
        },
        "yaxis": {
         "anchor": "x",
         "domain": [
          0,
          1
         ],
         "title": {
          "text": "count"
         }
        }
       }
      },
      "text/html": [
       "<div>                            <div id=\"274a313e-3ec2-439c-89d4-2ef78a30b51f\" class=\"plotly-graph-div\" style=\"height:525px; width:100%;\"></div>            <script type=\"text/javascript\">                require([\"plotly\"], function(Plotly) {                    window.PLOTLYENV=window.PLOTLYENV || {};                                    if (document.getElementById(\"274a313e-3ec2-439c-89d4-2ef78a30b51f\")) {                    Plotly.newPlot(                        \"274a313e-3ec2-439c-89d4-2ef78a30b51f\",                        [{\"alignmentgroup\":\"True\",\"bingroup\":\"x\",\"hovertemplate\":\"Fall=Fell<br>Year=%{x}<br>count=%{y}<extra></extra>\",\"legendgroup\":\"Fell\",\"marker\":{\"color\":\"#636efa\",\"pattern\":{\"shape\":\"\"}},\"name\":\"Fell\",\"offsetgroup\":\"Fell\",\"orientation\":\"v\",\"showlegend\":true,\"x\":[1880,1951,1952,1976,1902,1919,1949,1814,1930,1920,1974,1925,1769,1949,1838,1959,1981,1957,2001,1806,1766,1949,2002,1835,1873,1860,1900,1883,1899,1969,2008,1977,1895,1880,1898,1969,1939,1822,1869,1942,1971,1984,1914,1803,1954,1932,1950,1805,2009,1923,1886,1920,1896,1933,1945,1836,1865,1842,1858,1952,1908,1855,1968,1938,1814,1934,1929,1922,1907,1993,1871,1892,1913,1933,1790,1704,1842,1904,1886,1910,1965,2006,1994,1892,1902,2012,1989,1916,1929,1893,1949,1961,1937,1798,2004,2001,1938,1943,2002,1949,2008,1924,1811,2004,1859,1859,1921,1877,2002,1893,1940,1905,1827,1887,1999,1984,1923,1843,1895,1796,1899,1941,1906,1909,1833,1938,1977,1804,1962,1916,1808,1894,1930,1852,1812,1823,2003,2011,1969,1886,1847,1956,1855,1933,1960,2001,1964,2007,1942,1919,1990,1946,1863,1852,1861,2008,1870,1886,1919,2007,1916,1991,1964,1861,1866,1973,1846,1934,2007,1902,1874,1791,1848,1583,1810,1988,1956,1840,1998,1814,1907,1933,1838,1885,1977,1812,1835,1810,1834,1815,1841,1925,1988,2013,2007,1964,1933,1901,1939,1880,1981,1938,1988,1966,1978,1979,1984,1822,1917,1838,1994,1890,1965,1844,1917,1936,1877,1892,1902,1919,1877,1981,1878,1868,1868,1804,1998,2008,1887,1829,1897,1911,1967,2001,1962,2001,1994,1976,1848,1860,2007,1906,1957,1884,1961,1999,1903,1864,1907,1995,1899,1970,1805,1962,1932,1976,1827,1939,1951,1999,1865,1976,1815,1853,1943,1970,1872,1933,1947,1961,1785,1939,1916,1989,1977,1993,1998,1400,1951,1925,1900,1974,1492,1822,1940,1911,1889,1812,1837,1957,1879,1890,1934,1844,1934,1875,1900,1924,1889,1996,1894,1922,1890,1942,1924,1900,1829,1944,1868,1945,1882,1654,1822,1977,1826,1952,1952,1995,1897,1960,1917,1950,1984,2000,1950,1909,1853,1947,1990,1939,1918,1991,1879,1865,1974,1964,1976,2009,1861,1837,1881,1841,1910,1932,1996,1983,1980,1892,1891,1972,1949,1982,1984,1904,1814,1981,1851,1930,1817,1934,1944,1959,1878,1921,1961,1859,1910,1890,1628,1971,1922,1910,1857,1869,1897,1804,2003,2003,1954,1912,1923,1875,1825,1956,1963,1751,2010,1877,1901,1870,1957,1949,1936,1956,1977,1975,1891,1917,1963,1977,1972,1954,1928,1879,1990,1938,1903,1926,1990,1621,1866,1979,1889,1901,2009,1873,1964,1890,1976,2006,1877,1924,1974,1819,1997,1876,1984,1976,1968,1821,1857,1971,1822,1838,1908,1980,1937,1890,1858,1951,1879,1942,1913,1902,1959,1908,1897,1942,2004,1937,1840,1963,1949,1905,1955,1930,1938,2003,1999,2006,1961,1940,2008,1939,2003,1874,1869,1850,1873,1932,1787,1860,1867,1929,1910,1932,1983,1962,1970,1906,1809,2002,1911,1844,1967,1906,1914,1998,1843,1866,1999,1986,1926,1931,2010,1869,1829,1946,1906,1946,1938,1961,1811,1906,1949,1998,1920,1860,1977,1914,1932,1886,1879,1878,1924,1985,1871,1955,1803,1910,1887,1872,1897,1947,1986,1925,1987,1830,1938,1845,1845,1943,1912,1999,1907,1900,1857,1896,1973,1930,1813,1854,1978,1808,1839,1820,1868,1994,2010,1894,1970,1977,1935,1926,1768,1869,1980,1889,1813,1753,1951,1937,1836,1981,1936,1950,1935,1896,1941,1899,1990,2007,2004,1933,1970,1930,1931,1933,1927,1863,1843,1934,1951,1948,1925,1898,2009,1941,1971,1847,1902,1848,2002,1983,1836,2010,1803,1768,1801,1974,1885,1942,1992,1953,1861,1915,1862,1903,1878,1945,1920,1955,1897,1949,1852,1827,1980,1881,2010,1889,1992,1944,1842,1960,1930,1632,1826,1952,1905,1910,1890,1898,1882,1905,1908,1858,1953,1998,1849,1950,1846,1923,1838,1950,1913,1810,1930,1808,2000,1875,2006,1868,1868,1902,1991,1637,1944,1865,1795,1924,1969,1950,1964,1842,1956,1922,1875,1895,1911,1923,1886,1917,1825,1984,1928,1974,1928,921,1936,1973,1890,1995,1870,1970,1864,2002,1860,1994,2003,1883,1900,1750,1967,1967,1935,1954,1975,1983,1897,1912,1823,1991,861,1879,1918,1948,1971,1886,1662,1908,1933,1978,1851,1925,1939,1914,1887,1927,1855,1900,1741,1857,1963,1926,1958,1904,1834,1930,1520,1924,1929,1981,1864,2004,1868,1671,1872,1928,1867,1896,2003,1986,2003,1998,1900,1856,1775,1881,1929,1910,1910,1988,1914,1926,1949,1859,1938,1930,1967,1956,2003,1857,1942,1933,1969,1950,1922,1935,1966,1938,1826,1882,1989,1963,1953,1992,1946,1899,1935,1830,1933,1933,1995,1855,1779,1901,1887,1933,1941,1968,1843,1863,1996,1881,1882,1884,1921,1930,2008,1723,1868,1819,1866,1942,1931,1998,1796,1933,1932,1959,1893,2007,1863,1868,1811,1937,1982,1976,1925,1857,1898,1990,1851,1957,1986,1983,1878,1940,1916,1958,1917,1899,1937,1919,1961,1740,1880,2007,1947,1919,1824,1925,1916,1933,1965,1929,1903,1948,1918,1980,1828,1934,1491,1876,1895,1871,1775,1921,1876,1976,1934,1949,1914,1855,1999,1636,1914,1966,1913,1981,1798,1985,1921,1973,2002,1956,1968,1873,1939,1924,2008,1962,1918,1688,1868,1894,1986,1934,1715,1968,1846,1871,1917,1853,1939,1947,1940,1773,1993,1966,1818,1923,1908,1862,1874,1989,1850,1921,1904,1865,1976,1921,1971,1912,1863,1794,1947,1995,1917,1920,1916,1901,1956,1933,1875,1989,1989,1848,1868,1818,1960,1877,1860,2011,1866,1993,1927,1945,1883,1841,1855,1890,1950,1903,1919,1866,1910,1959,1876,1808,1857,1962,1990,1647,1974,1917,1623,1994,1924,1969,1986,2008,1916,1935,1865,2012,1954,1753,1867,2000,1991,1880,1995,1975,2008,1918,1965,1931,1967,1929,1937,1879,1872,1950,2011,2002,1986,1878,1927,1970,1807,1934,2011,1869,1922,1905],\"xaxis\":\"x\",\"yaxis\":\"y\",\"type\":\"histogram\"},{\"alignmentgroup\":\"True\",\"bingroup\":\"x\",\"hovertemplate\":\"Fall=Found<br>Year=%{x}<br>count=%{y}<extra></extra>\",\"legendgroup\":\"Found\",\"marker\":{\"color\":\"#EF553B\",\"pattern\":{\"shape\":\"\"}},\"name\":\"Found\",\"offsetgroup\":\"Found\",\"orientation\":\"v\",\"showlegend\":true,\"x\":[2003,2002,2002],\"xaxis\":\"x\",\"yaxis\":\"y\",\"type\":\"histogram\"}],                        {\"template\":{\"data\":{\"histogram2dcontour\":[{\"type\":\"histogram2dcontour\",\"colorbar\":{\"outlinewidth\":0,\"ticks\":\"\"},\"colorscale\":[[0.0,\"#0d0887\"],[0.1111111111111111,\"#46039f\"],[0.2222222222222222,\"#7201a8\"],[0.3333333333333333,\"#9c179e\"],[0.4444444444444444,\"#bd3786\"],[0.5555555555555556,\"#d8576b\"],[0.6666666666666666,\"#ed7953\"],[0.7777777777777778,\"#fb9f3a\"],[0.8888888888888888,\"#fdca26\"],[1.0,\"#f0f921\"]]}],\"choropleth\":[{\"type\":\"choropleth\",\"colorbar\":{\"outlinewidth\":0,\"ticks\":\"\"}}],\"histogram2d\":[{\"type\":\"histogram2d\",\"colorbar\":{\"outlinewidth\":0,\"ticks\":\"\"},\"colorscale\":[[0.0,\"#0d0887\"],[0.1111111111111111,\"#46039f\"],[0.2222222222222222,\"#7201a8\"],[0.3333333333333333,\"#9c179e\"],[0.4444444444444444,\"#bd3786\"],[0.5555555555555556,\"#d8576b\"],[0.6666666666666666,\"#ed7953\"],[0.7777777777777778,\"#fb9f3a\"],[0.8888888888888888,\"#fdca26\"],[1.0,\"#f0f921\"]]}],\"heatmap\":[{\"type\":\"heatmap\",\"colorbar\":{\"outlinewidth\":0,\"ticks\":\"\"},\"colorscale\":[[0.0,\"#0d0887\"],[0.1111111111111111,\"#46039f\"],[0.2222222222222222,\"#7201a8\"],[0.3333333333333333,\"#9c179e\"],[0.4444444444444444,\"#bd3786\"],[0.5555555555555556,\"#d8576b\"],[0.6666666666666666,\"#ed7953\"],[0.7777777777777778,\"#fb9f3a\"],[0.8888888888888888,\"#fdca26\"],[1.0,\"#f0f921\"]]}],\"heatmapgl\":[{\"type\":\"heatmapgl\",\"colorbar\":{\"outlinewidth\":0,\"ticks\":\"\"},\"colorscale\":[[0.0,\"#0d0887\"],[0.1111111111111111,\"#46039f\"],[0.2222222222222222,\"#7201a8\"],[0.3333333333333333,\"#9c179e\"],[0.4444444444444444,\"#bd3786\"],[0.5555555555555556,\"#d8576b\"],[0.6666666666666666,\"#ed7953\"],[0.7777777777777778,\"#fb9f3a\"],[0.8888888888888888,\"#fdca26\"],[1.0,\"#f0f921\"]]}],\"contourcarpet\":[{\"type\":\"contourcarpet\",\"colorbar\":{\"outlinewidth\":0,\"ticks\":\"\"}}],\"contour\":[{\"type\":\"contour\",\"colorbar\":{\"outlinewidth\":0,\"ticks\":\"\"},\"colorscale\":[[0.0,\"#0d0887\"],[0.1111111111111111,\"#46039f\"],[0.2222222222222222,\"#7201a8\"],[0.3333333333333333,\"#9c179e\"],[0.4444444444444444,\"#bd3786\"],[0.5555555555555556,\"#d8576b\"],[0.6666666666666666,\"#ed7953\"],[0.7777777777777778,\"#fb9f3a\"],[0.8888888888888888,\"#fdca26\"],[1.0,\"#f0f921\"]]}],\"surface\":[{\"type\":\"surface\",\"colorbar\":{\"outlinewidth\":0,\"ticks\":\"\"},\"colorscale\":[[0.0,\"#0d0887\"],[0.1111111111111111,\"#46039f\"],[0.2222222222222222,\"#7201a8\"],[0.3333333333333333,\"#9c179e\"],[0.4444444444444444,\"#bd3786\"],[0.5555555555555556,\"#d8576b\"],[0.6666666666666666,\"#ed7953\"],[0.7777777777777778,\"#fb9f3a\"],[0.8888888888888888,\"#fdca26\"],[1.0,\"#f0f921\"]]}],\"mesh3d\":[{\"type\":\"mesh3d\",\"colorbar\":{\"outlinewidth\":0,\"ticks\":\"\"}}],\"scatter\":[{\"fillpattern\":{\"fillmode\":\"overlay\",\"size\":10,\"solidity\":0.2},\"type\":\"scatter\"}],\"parcoords\":[{\"type\":\"parcoords\",\"line\":{\"colorbar\":{\"outlinewidth\":0,\"ticks\":\"\"}}}],\"scatterpolargl\":[{\"type\":\"scatterpolargl\",\"marker\":{\"colorbar\":{\"outlinewidth\":0,\"ticks\":\"\"}}}],\"bar\":[{\"error_x\":{\"color\":\"#2a3f5f\"},\"error_y\":{\"color\":\"#2a3f5f\"},\"marker\":{\"line\":{\"color\":\"#E5ECF6\",\"width\":0.5},\"pattern\":{\"fillmode\":\"overlay\",\"size\":10,\"solidity\":0.2}},\"type\":\"bar\"}],\"scattergeo\":[{\"type\":\"scattergeo\",\"marker\":{\"colorbar\":{\"outlinewidth\":0,\"ticks\":\"\"}}}],\"scatterpolar\":[{\"type\":\"scatterpolar\",\"marker\":{\"colorbar\":{\"outlinewidth\":0,\"ticks\":\"\"}}}],\"histogram\":[{\"marker\":{\"pattern\":{\"fillmode\":\"overlay\",\"size\":10,\"solidity\":0.2}},\"type\":\"histogram\"}],\"scattergl\":[{\"type\":\"scattergl\",\"marker\":{\"colorbar\":{\"outlinewidth\":0,\"ticks\":\"\"}}}],\"scatter3d\":[{\"type\":\"scatter3d\",\"line\":{\"colorbar\":{\"outlinewidth\":0,\"ticks\":\"\"}},\"marker\":{\"colorbar\":{\"outlinewidth\":0,\"ticks\":\"\"}}}],\"scattermapbox\":[{\"type\":\"scattermapbox\",\"marker\":{\"colorbar\":{\"outlinewidth\":0,\"ticks\":\"\"}}}],\"scatterternary\":[{\"type\":\"scatterternary\",\"marker\":{\"colorbar\":{\"outlinewidth\":0,\"ticks\":\"\"}}}],\"scattercarpet\":[{\"type\":\"scattercarpet\",\"marker\":{\"colorbar\":{\"outlinewidth\":0,\"ticks\":\"\"}}}],\"carpet\":[{\"aaxis\":{\"endlinecolor\":\"#2a3f5f\",\"gridcolor\":\"white\",\"linecolor\":\"white\",\"minorgridcolor\":\"white\",\"startlinecolor\":\"#2a3f5f\"},\"baxis\":{\"endlinecolor\":\"#2a3f5f\",\"gridcolor\":\"white\",\"linecolor\":\"white\",\"minorgridcolor\":\"white\",\"startlinecolor\":\"#2a3f5f\"},\"type\":\"carpet\"}],\"table\":[{\"cells\":{\"fill\":{\"color\":\"#EBF0F8\"},\"line\":{\"color\":\"white\"}},\"header\":{\"fill\":{\"color\":\"#C8D4E3\"},\"line\":{\"color\":\"white\"}},\"type\":\"table\"}],\"barpolar\":[{\"marker\":{\"line\":{\"color\":\"#E5ECF6\",\"width\":0.5},\"pattern\":{\"fillmode\":\"overlay\",\"size\":10,\"solidity\":0.2}},\"type\":\"barpolar\"}],\"pie\":[{\"automargin\":true,\"type\":\"pie\"}]},\"layout\":{\"autotypenumbers\":\"strict\",\"colorway\":[\"#636efa\",\"#EF553B\",\"#00cc96\",\"#ab63fa\",\"#FFA15A\",\"#19d3f3\",\"#FF6692\",\"#B6E880\",\"#FF97FF\",\"#FECB52\"],\"font\":{\"color\":\"#2a3f5f\"},\"hovermode\":\"closest\",\"hoverlabel\":{\"align\":\"left\"},\"paper_bgcolor\":\"white\",\"plot_bgcolor\":\"#E5ECF6\",\"polar\":{\"bgcolor\":\"#E5ECF6\",\"angularaxis\":{\"gridcolor\":\"white\",\"linecolor\":\"white\",\"ticks\":\"\"},\"radialaxis\":{\"gridcolor\":\"white\",\"linecolor\":\"white\",\"ticks\":\"\"}},\"ternary\":{\"bgcolor\":\"#E5ECF6\",\"aaxis\":{\"gridcolor\":\"white\",\"linecolor\":\"white\",\"ticks\":\"\"},\"baxis\":{\"gridcolor\":\"white\",\"linecolor\":\"white\",\"ticks\":\"\"},\"caxis\":{\"gridcolor\":\"white\",\"linecolor\":\"white\",\"ticks\":\"\"}},\"coloraxis\":{\"colorbar\":{\"outlinewidth\":0,\"ticks\":\"\"}},\"colorscale\":{\"sequential\":[[0.0,\"#0d0887\"],[0.1111111111111111,\"#46039f\"],[0.2222222222222222,\"#7201a8\"],[0.3333333333333333,\"#9c179e\"],[0.4444444444444444,\"#bd3786\"],[0.5555555555555556,\"#d8576b\"],[0.6666666666666666,\"#ed7953\"],[0.7777777777777778,\"#fb9f3a\"],[0.8888888888888888,\"#fdca26\"],[1.0,\"#f0f921\"]],\"sequentialminus\":[[0.0,\"#0d0887\"],[0.1111111111111111,\"#46039f\"],[0.2222222222222222,\"#7201a8\"],[0.3333333333333333,\"#9c179e\"],[0.4444444444444444,\"#bd3786\"],[0.5555555555555556,\"#d8576b\"],[0.6666666666666666,\"#ed7953\"],[0.7777777777777778,\"#fb9f3a\"],[0.8888888888888888,\"#fdca26\"],[1.0,\"#f0f921\"]],\"diverging\":[[0,\"#8e0152\"],[0.1,\"#c51b7d\"],[0.2,\"#de77ae\"],[0.3,\"#f1b6da\"],[0.4,\"#fde0ef\"],[0.5,\"#f7f7f7\"],[0.6,\"#e6f5d0\"],[0.7,\"#b8e186\"],[0.8,\"#7fbc41\"],[0.9,\"#4d9221\"],[1,\"#276419\"]]},\"xaxis\":{\"gridcolor\":\"white\",\"linecolor\":\"white\",\"ticks\":\"\",\"title\":{\"standoff\":15},\"zerolinecolor\":\"white\",\"automargin\":true,\"zerolinewidth\":2},\"yaxis\":{\"gridcolor\":\"white\",\"linecolor\":\"white\",\"ticks\":\"\",\"title\":{\"standoff\":15},\"zerolinecolor\":\"white\",\"automargin\":true,\"zerolinewidth\":2},\"scene\":{\"xaxis\":{\"backgroundcolor\":\"#E5ECF6\",\"gridcolor\":\"white\",\"linecolor\":\"white\",\"showbackground\":true,\"ticks\":\"\",\"zerolinecolor\":\"white\",\"gridwidth\":2},\"yaxis\":{\"backgroundcolor\":\"#E5ECF6\",\"gridcolor\":\"white\",\"linecolor\":\"white\",\"showbackground\":true,\"ticks\":\"\",\"zerolinecolor\":\"white\",\"gridwidth\":2},\"zaxis\":{\"backgroundcolor\":\"#E5ECF6\",\"gridcolor\":\"white\",\"linecolor\":\"white\",\"showbackground\":true,\"ticks\":\"\",\"zerolinecolor\":\"white\",\"gridwidth\":2}},\"shapedefaults\":{\"line\":{\"color\":\"#2a3f5f\"}},\"annotationdefaults\":{\"arrowcolor\":\"#2a3f5f\",\"arrowhead\":0,\"arrowwidth\":1},\"geo\":{\"bgcolor\":\"white\",\"landcolor\":\"#E5ECF6\",\"subunitcolor\":\"white\",\"showland\":true,\"showlakes\":true,\"lakecolor\":\"white\"},\"title\":{\"x\":0.05},\"mapbox\":{\"style\":\"light\"}}},\"xaxis\":{\"anchor\":\"y\",\"domain\":[0.0,1.0],\"title\":{\"text\":\"Year\"}},\"yaxis\":{\"anchor\":\"x\",\"domain\":[0.0,1.0],\"title\":{\"text\":\"count\"}},\"legend\":{\"title\":{\"text\":\"Fall\"},\"tracegroupgap\":0},\"margin\":{\"t\":60},\"barmode\":\"relative\",\"bargap\":0.1,\"title\":{\"text\":\"Histogram with Year and couts\"}},                        {\"responsive\": true}                    ).then(function(){\n",
       "                            \n",
       "var gd = document.getElementById('274a313e-3ec2-439c-89d4-2ef78a30b51f');\n",
       "var x = new MutationObserver(function (mutations, observer) {{\n",
       "        var display = window.getComputedStyle(gd).display;\n",
       "        if (!display || display === 'none') {{\n",
       "            console.log([gd, 'removed!']);\n",
       "            Plotly.purge(gd);\n",
       "            observer.disconnect();\n",
       "        }}\n",
       "}});\n",
       "\n",
       "// Listen for the removal of the full notebook cells\n",
       "var notebookContainer = gd.closest('#notebook-container');\n",
       "if (notebookContainer) {{\n",
       "    x.observe(notebookContainer, {childList: true});\n",
       "}}\n",
       "\n",
       "// Listen for the clearing of the current output cell\n",
       "var outputEl = gd.closest('.output');\n",
       "if (outputEl) {{\n",
       "    x.observe(outputEl, {childList: true});\n",
       "}}\n",
       "\n",
       "                        })                };                });            </script>        </div>"
      ]
     },
     "metadata": {},
     "output_type": "display_data"
    }
   ],
   "source": [
    "# histogram represents year and count of falling\n",
    "fig = px.histogram(data_frame=meteroite_df, x=\"Year\", color=\"Fall\")\n",
    "# gap between bars\n",
    "fig.update_layout(bargap=0.1, title=\"Histogram with Year and couts\")\n",
    "fig.show()"
   ]
  },
  {
   "cell_type": "markdown",
   "id": "d4c96eab",
   "metadata": {},
   "source": [
    "**`In the above histogram, we can clearly see that the maximum number of meteorite fell between the years 1920 to 1940.`**"
   ]
  },
  {
   "cell_type": "markdown",
   "id": "e9df99b6",
   "metadata": {},
   "source": [
    "### Get all the earth meteorites co-ordinates who fell before the year 1970 <a name=\"co\"></a>"
   ]
  },
  {
   "cell_type": "code",
   "execution_count": 15,
   "id": "6d5ad6f9",
   "metadata": {},
   "outputs": [],
   "source": [
    "# cleaing column into more stirng form\n",
    "meteroite_df[\"Coordinates geolocation\"] = meteroite_df[\"Coordinates geolocation\"].apply(\n",
    "    lambda cord: cord.strip('[]').strip() if type(cord) == str else \"\")"
   ]
  },
  {
   "cell_type": "code",
   "execution_count": 16,
   "id": "095b7b0e",
   "metadata": {},
   "outputs": [
    {
     "data": {
      "text/html": [
       "<div>\n",
       "<style scoped>\n",
       "    .dataframe tbody tr th:only-of-type {\n",
       "        vertical-align: middle;\n",
       "    }\n",
       "\n",
       "    .dataframe tbody tr th {\n",
       "        vertical-align: top;\n",
       "    }\n",
       "\n",
       "    .dataframe thead th {\n",
       "        text-align: right;\n",
       "    }\n",
       "</style>\n",
       "<table border=\"1\" class=\"dataframe\">\n",
       "  <thead>\n",
       "    <tr style=\"text-align: right;\">\n",
       "      <th></th>\n",
       "      <th>Name</th>\n",
       "      <th>Nametype</th>\n",
       "      <th>Recclass</th>\n",
       "      <th>Mass</th>\n",
       "      <th>Fall</th>\n",
       "      <th>Year</th>\n",
       "      <th>Reclat</th>\n",
       "      <th>Reclong</th>\n",
       "      <th>Coordinates geolocation</th>\n",
       "    </tr>\n",
       "  </thead>\n",
       "  <tbody>\n",
       "    <tr>\n",
       "      <th>0</th>\n",
       "      <td>Aachen</td>\n",
       "      <td>Valid</td>\n",
       "      <td>L5</td>\n",
       "      <td>21.0</td>\n",
       "      <td>Fell</td>\n",
       "      <td>1880</td>\n",
       "      <td>50.77500</td>\n",
       "      <td>6.08333</td>\n",
       "      <td>6.08333, 50.775</td>\n",
       "    </tr>\n",
       "    <tr>\n",
       "      <th>1</th>\n",
       "      <td>Aarhus</td>\n",
       "      <td>Valid</td>\n",
       "      <td>H6</td>\n",
       "      <td>720.0</td>\n",
       "      <td>Fell</td>\n",
       "      <td>1951</td>\n",
       "      <td>56.18333</td>\n",
       "      <td>10.23333</td>\n",
       "      <td>10.23333, 56.18333</td>\n",
       "    </tr>\n",
       "    <tr>\n",
       "      <th>2</th>\n",
       "      <td>Abee</td>\n",
       "      <td>Valid</td>\n",
       "      <td>EH4</td>\n",
       "      <td>107000.0</td>\n",
       "      <td>Fell</td>\n",
       "      <td>1952</td>\n",
       "      <td>54.21667</td>\n",
       "      <td>-113.00000</td>\n",
       "      <td>-113, 54.21667</td>\n",
       "    </tr>\n",
       "    <tr>\n",
       "      <th>3</th>\n",
       "      <td>Acapulco</td>\n",
       "      <td>Valid</td>\n",
       "      <td>Acapulcoite</td>\n",
       "      <td>1914.0</td>\n",
       "      <td>Fell</td>\n",
       "      <td>1976</td>\n",
       "      <td>16.88333</td>\n",
       "      <td>-99.90000</td>\n",
       "      <td>-99.9, 16.88333</td>\n",
       "    </tr>\n",
       "    <tr>\n",
       "      <th>4</th>\n",
       "      <td>Achiras</td>\n",
       "      <td>Valid</td>\n",
       "      <td>L6</td>\n",
       "      <td>780.0</td>\n",
       "      <td>Fell</td>\n",
       "      <td>1902</td>\n",
       "      <td>-33.16667</td>\n",
       "      <td>-64.95000</td>\n",
       "      <td>-64.95, -33.16667</td>\n",
       "    </tr>\n",
       "    <tr>\n",
       "      <th>...</th>\n",
       "      <td>...</td>\n",
       "      <td>...</td>\n",
       "      <td>...</td>\n",
       "      <td>...</td>\n",
       "      <td>...</td>\n",
       "      <td>...</td>\n",
       "      <td>...</td>\n",
       "      <td>...</td>\n",
       "      <td>...</td>\n",
       "    </tr>\n",
       "    <tr>\n",
       "      <th>995</th>\n",
       "      <td>Tirupati</td>\n",
       "      <td>Valid</td>\n",
       "      <td>H6</td>\n",
       "      <td>230.0</td>\n",
       "      <td>Fell</td>\n",
       "      <td>1934</td>\n",
       "      <td>13.63333</td>\n",
       "      <td>79.41667</td>\n",
       "      <td>79.41667, 13.63333</td>\n",
       "    </tr>\n",
       "    <tr>\n",
       "      <th>996</th>\n",
       "      <td>Tissint</td>\n",
       "      <td>Valid</td>\n",
       "      <td>Martian (shergottite)</td>\n",
       "      <td>7000.0</td>\n",
       "      <td>Fell</td>\n",
       "      <td>2011</td>\n",
       "      <td>29.48195</td>\n",
       "      <td>-7.61123</td>\n",
       "      <td>-7.61123, 29.48195</td>\n",
       "    </tr>\n",
       "    <tr>\n",
       "      <th>997</th>\n",
       "      <td>Tjabe</td>\n",
       "      <td>Valid</td>\n",
       "      <td>H6</td>\n",
       "      <td>20000.0</td>\n",
       "      <td>Fell</td>\n",
       "      <td>1869</td>\n",
       "      <td>-7.08333</td>\n",
       "      <td>111.53333</td>\n",
       "      <td>111.53333, -7.08333</td>\n",
       "    </tr>\n",
       "    <tr>\n",
       "      <th>998</th>\n",
       "      <td>Tjerebon</td>\n",
       "      <td>Valid</td>\n",
       "      <td>L5</td>\n",
       "      <td>16500.0</td>\n",
       "      <td>Fell</td>\n",
       "      <td>1922</td>\n",
       "      <td>-6.66667</td>\n",
       "      <td>106.58333</td>\n",
       "      <td>106.58333, -6.66667</td>\n",
       "    </tr>\n",
       "    <tr>\n",
       "      <th>999</th>\n",
       "      <td>Tomakovka</td>\n",
       "      <td>Valid</td>\n",
       "      <td>LL6</td>\n",
       "      <td>600.0</td>\n",
       "      <td>Fell</td>\n",
       "      <td>1905</td>\n",
       "      <td>47.85000</td>\n",
       "      <td>34.76667</td>\n",
       "      <td>34.76667, 47.85</td>\n",
       "    </tr>\n",
       "  </tbody>\n",
       "</table>\n",
       "<p>999 rows × 9 columns</p>\n",
       "</div>"
      ],
      "text/plain": [
       "          Name Nametype               Recclass      Mass  Fall  Year  \\\n",
       "0       Aachen    Valid                     L5      21.0  Fell  1880   \n",
       "1       Aarhus    Valid                     H6     720.0  Fell  1951   \n",
       "2         Abee    Valid                    EH4  107000.0  Fell  1952   \n",
       "3     Acapulco    Valid            Acapulcoite    1914.0  Fell  1976   \n",
       "4      Achiras    Valid                     L6     780.0  Fell  1902   \n",
       "..         ...      ...                    ...       ...   ...   ...   \n",
       "995   Tirupati    Valid                     H6     230.0  Fell  1934   \n",
       "996    Tissint    Valid  Martian (shergottite)    7000.0  Fell  2011   \n",
       "997      Tjabe    Valid                     H6   20000.0  Fell  1869   \n",
       "998   Tjerebon    Valid                     L5   16500.0  Fell  1922   \n",
       "999  Tomakovka    Valid                    LL6     600.0  Fell  1905   \n",
       "\n",
       "       Reclat    Reclong Coordinates geolocation  \n",
       "0    50.77500    6.08333         6.08333, 50.775  \n",
       "1    56.18333   10.23333      10.23333, 56.18333  \n",
       "2    54.21667 -113.00000          -113, 54.21667  \n",
       "3    16.88333  -99.90000         -99.9, 16.88333  \n",
       "4   -33.16667  -64.95000       -64.95, -33.16667  \n",
       "..        ...        ...                     ...  \n",
       "995  13.63333   79.41667      79.41667, 13.63333  \n",
       "996  29.48195   -7.61123      -7.61123, 29.48195  \n",
       "997  -7.08333  111.53333     111.53333, -7.08333  \n",
       "998  -6.66667  106.58333     106.58333, -6.66667  \n",
       "999  47.85000   34.76667         34.76667, 47.85  \n",
       "\n",
       "[999 rows x 9 columns]"
      ]
     },
     "execution_count": 16,
     "metadata": {},
     "output_type": "execute_result"
    }
   ],
   "source": [
    "meteroite_df"
   ]
  },
  {
   "cell_type": "code",
   "execution_count": 17,
   "id": "8bd40e56",
   "metadata": {},
   "outputs": [
    {
     "data": {
      "text/plain": [
       "0          6.08333, 50.775\n",
       "1       10.23333, 56.18333\n",
       "2           -113, 54.21667\n",
       "4        -64.95, -33.16667\n",
       "5               71.8, 32.1\n",
       "              ...         \n",
       "994             35.2, 54.5\n",
       "995     79.41667, 13.63333\n",
       "997    111.53333, -7.08333\n",
       "998    106.58333, -6.66667\n",
       "999        34.76667, 47.85\n",
       "Name: Coordinates geolocation, Length: 780, dtype: object"
      ]
     },
     "execution_count": 17,
     "metadata": {},
     "output_type": "execute_result"
    }
   ],
   "source": [
    "# meteroite coordinates who fell before year 1970\n",
    "coordinate_before_1970 = meteroite_df.loc[(meteroite_df[\"Year\"] < 1970) & \n",
    "                                                                     (meteroite_df[\"Fall\"] == \"Fell\")]\n",
    "coordinate_before_1970[\"Coordinates geolocation\"]"
   ]
  },
  {
   "cell_type": "code",
   "execution_count": 18,
   "id": "639ad74f",
   "metadata": {},
   "outputs": [
    {
     "data": {
      "application/vnd.plotly.v1+json": {
       "config": {
        "plotlyServerURL": "https://plot.ly"
       },
       "data": [
        {
         "customdata": [
          [
           21
          ],
          [
           720
          ],
          [
           107000
          ],
          [
           780
          ],
          [
           4239
          ],
          [
           910
          ],
          [
           30000
          ],
          [
           1620
          ],
          [
           1440
          ],
          [
           24000
          ],
          [
           null
          ],
          [
           779
          ],
          [
           1800
          ],
          [
           3000
          ],
          [
           160
          ],
          [
           6000
          ],
          [
           2000
          ],
          [
           625
          ],
          [
           700
          ],
          [
           3200
          ],
          [
           908
          ],
          [
           9251
          ],
          [
           228000
          ],
          [
           32000
          ],
          [
           2000000
          ],
          [
           6400
          ],
          [
           2700
          ],
          [
           3200
          ],
          [
           600
          ],
          [
           17900
          ],
          [
           null
          ],
          [
           1500
          ],
          [
           6500
          ],
          [
           15000
          ],
          [
           3200
          ],
          [
           810
          ],
          [
           5070
          ],
          [
           7450
          ],
          [
           41
          ],
          [
           1300
          ],
          [
           2000
          ],
          [
           1280
          ],
          [
           94.2
          ],
          [
           265
          ],
          [
           1384.2
          ],
          [
           800
          ],
          [
           50000
          ],
          [
           2000
          ],
          [
           50000
          ],
          [
           9330
          ],
          [
           1230
          ],
          [
           146
          ],
          [
           134
          ],
          [
           2830
          ],
          [
           18000
          ],
          [
           10322
          ],
          [
           3700
          ],
          [
           345
          ],
          [
           1000
          ],
          [
           11500
          ],
          [
           15000
          ],
          [
           14
          ],
          [
           629
          ],
          [
           6400
          ],
          [
           null
          ],
          [
           3200
          ],
          [
           23.2
          ],
          [
           17
          ],
          [
           4500
          ],
          [
           44000
          ],
          [
           21000
          ],
          [
           86000
          ],
          [
           611
          ],
          [
           16000
          ],
          [
           14000
          ],
          [
           794
          ],
          [
           375
          ],
          [
           null
          ],
          [
           3700
          ],
          [
           1770.5
          ],
          [
           3880
          ],
          [
           2840
          ],
          [
           18000
          ],
          [
           1440
          ],
          [
           13.9
          ],
          [
           2000
          ],
          [
           1100
          ],
          [
           18
          ],
          [
           100
          ],
          [
           1047
          ],
          [
           2500
          ],
          [
           4000
          ],
          [
           1900
          ],
          [
           560
          ],
          [
           6000
          ],
          [
           1039
          ],
          [
           1850
          ],
          [
           330000
          ],
          [
           705
          ],
          [
           2381
          ],
          [
           5100
          ],
          [
           470
          ],
          [
           67.8
          ],
          [
           56
          ],
          [
           8800
          ],
          [
           256000
          ],
          [
           1676
          ],
          [
           8600
          ],
          [
           1342
          ],
          [
           7000
          ],
          [
           500
          ],
          [
           614
          ],
          [
           5460
          ],
          [
           762
          ],
          [
           39000
          ],
          [
           1500
          ],
          [
           7250
          ],
          [
           219
          ],
          [
           303000
          ],
          [
           2250
          ],
          [
           357
          ],
          [
           120000
          ],
          [
           25000
          ],
          [
           5000
          ],
          [
           1500
          ],
          [
           29000
          ],
          [
           25000
          ],
          [
           48500
          ],
          [
           212
          ],
          [
           2400
          ],
          [
           4000
          ],
          [
           945
          ],
          [
           34000
          ],
          [
           2300
          ],
          [
           750
          ],
          [
           8
          ],
          [
           7300
          ],
          [
           null
          ],
          [
           94
          ],
          [
           15000
          ],
          [
           1360
          ],
          [
           45.6
          ],
          [
           6460
          ],
          [
           0.5
          ],
          [
           8200
          ],
          [
           18300
          ],
          [
           8800
          ],
          [
           1100
          ],
          [
           31500
          ],
          [
           4300
          ],
          [
           27000
          ],
          [
           12000
          ],
          [
           4000
          ],
          [
           30000
          ],
          [
           2945
          ],
          [
           6000
          ],
          [
           8400
          ],
          [
           705
          ],
          [
           1700
          ],
          [
           72
          ],
          [
           303
          ],
          [
           null
          ],
          [
           48.6
          ],
          [
           104000
          ],
          [
           5200
          ],
          [
           5000
          ],
          [
           20350
          ],
          [
           1200
          ],
          [
           1460
          ],
          [
           78.4
          ],
          [
           3650
          ],
          [
           167
          ],
          [
           4255
          ],
          [
           17000
          ],
          [
           6000
          ],
          [
           5650
          ],
          [
           1064
          ],
          [
           2000
          ],
          [
           100
          ],
          [
           340
          ],
          [
           28
          ],
          [
           0.8
          ],
          [
           16400
          ],
          [
           230
          ],
          [
           25400
          ],
          [
           1800
          ],
          [
           32000
          ],
          [
           1000
          ],
          [
           400
          ],
          [
           166000
          ],
          [
           3950
          ],
          [
           3840
          ],
          [
           1600
          ],
          [
           438
          ],
          [
           230
          ],
          [
           3891
          ],
          [
           1250
          ],
          [
           1161
          ],
          [
           5000
          ],
          [
           47700
          ],
          [
           1900
          ],
          [
           2270
          ],
          [
           13200
          ],
          [
           577
          ],
          [
           2117
          ],
          [
           300
          ],
          [
           188
          ],
          [
           10000
          ],
          [
           2400
          ],
          [
           3000
          ],
          [
           3336
          ],
          [
           840
          ],
          [
           107000
          ],
          [
           54640
          ],
          [
           1470
          ],
          [
           127
          ],
          [
           127000
          ],
          [
           277
          ],
          [
           113
          ],
          [
           107.2
          ],
          [
           20000
          ],
          [
           2250
          ],
          [
           1500
          ],
          [
           500
          ],
          [
           320000
          ],
          [
           89400
          ],
          [
           56000
          ],
          [
           1500
          ],
          [
           2360
          ],
          [
           380
          ],
          [
           3200
          ],
          [
           82
          ],
          [
           220
          ],
          [
           17600
          ],
          [
           3640
          ],
          [
           152000
          ],
          [
           26000
          ],
          [
           6067
          ],
          [
           240
          ],
          [
           16300
          ],
          [
           null
          ],
          [
           650
          ],
          [
           23000
          ],
          [
           11620
          ],
          [
           null
          ],
          [
           4000
          ],
          [
           132.7
          ],
          [
           36.1
          ],
          [
           28
          ],
          [
           6400
          ],
          [
           null
          ],
          [
           380
          ],
          [
           102
          ],
          [
           725
          ],
          [
           14290
          ],
          [
           18000
          ],
          [
           480
          ],
          [
           1303
          ],
          [
           152000
          ],
          [
           1750
          ],
          [
           1600
          ],
          [
           9000
          ],
          [
           3500
          ],
          [
           10500
          ],
          [
           8000
          ],
          [
           1000
          ],
          [
           690
          ],
          [
           22000
          ],
          [
           39000
          ],
          [
           1915
          ],
          [
           968
          ],
          [
           5700
          ],
          [
           28
          ],
          [
           1000
          ],
          [
           1320
          ],
          [
           0.2
          ],
          [
           9000
          ],
          [
           1456
          ],
          [
           3710
          ],
          [
           1000
          ],
          [
           315
          ],
          [
           8360
          ],
          [
           680
          ],
          [
           1110.6
          ],
          [
           1250
          ],
          [
           29000
          ],
          [
           3500
          ],
          [
           6100
          ],
          [
           1000
          ],
          [
           20000
          ],
          [
           750
          ],
          [
           4500
          ],
          [
           305.5
          ],
          [
           220000
          ],
          [
           1415
          ],
          [
           230000
          ],
          [
           2420
          ],
          [
           180
          ],
          [
           266.1
          ],
          [
           49000
          ],
          [
           112
          ],
          [
           14000
          ],
          [
           2000
          ],
          [
           2500
          ],
          [
           null
          ],
          [
           3973
          ],
          [
           3457
          ],
          [
           27000
          ],
          [
           880
          ],
          [
           3000
          ],
          [
           1300
          ],
          [
           3050
          ],
          [
           2024
          ],
          [
           704.5
          ],
          [
           48000
          ],
          [
           973
          ],
          [
           1967
          ],
          [
           22
          ],
          [
           34000
          ],
          [
           450
          ],
          [
           5900
          ],
          [
           222
          ],
          [
           600000
          ],
          [
           30
          ],
          [
           40300
          ],
          [
           5000
          ],
          [
           680
          ],
          [
           25250
          ],
          [
           91000
          ],
          [
           3000
          ],
          [
           89
          ],
          [
           230
          ],
          [
           1900
          ],
          [
           200000
          ],
          [
           350
          ],
          [
           577
          ],
          [
           950
          ],
          [
           4500
          ],
          [
           2770
          ],
          [
           448
          ],
          [
           1293
          ],
          [
           299
          ],
          [
           1630
          ],
          [
           400
          ],
          [
           11355
          ],
          [
           3500
          ],
          [
           3000
          ],
          [
           2220
          ],
          [
           180
          ],
          [
           22000
          ],
          [
           2950
          ],
          [
           41730
          ],
          [
           710
          ],
          [
           85000
          ],
          [
           3300
          ],
          [
           6937
          ],
          [
           5000
          ],
          [
           80000
          ],
          [
           135000
          ],
          [
           13600
          ],
          [
           3698
          ],
          [
           1500
          ],
          [
           450
          ],
          [
           100
          ],
          [
           6109
          ],
          [
           9700
          ],
          [
           3200
          ],
          [
           737.6
          ],
          [
           331
          ],
          [
           195
          ],
          [
           772
          ],
          [
           140
          ],
          [
           67.4
          ],
          [
           97.7
          ],
          [
           1550
          ],
          [
           3250
          ],
          [
           500000
          ],
          [
           238
          ],
          [
           90
          ],
          [
           16500
          ],
          [
           2440
          ],
          [
           4000
          ],
          [
           845.2
          ],
          [
           50000
          ],
          [
           2250
          ],
          [
           453.6
          ],
          [
           6000
          ],
          [
           3719
          ],
          [
           200000
          ],
          [
           4460
          ],
          [
           5
          ],
          [
           45000
          ],
          [
           4047
          ],
          [
           45000
          ],
          [
           2800
          ],
          [
           399
          ],
          [
           2000
          ],
          [
           3833
          ],
          [
           900
          ],
          [
           37000
          ],
          [
           212.5
          ],
          [
           372
          ],
          [
           51700
          ],
          [
           7000
          ],
          [
           2300
          ],
          [
           7000
          ],
          [
           1060
          ],
          [
           800
          ],
          [
           3000
          ],
          [
           780
          ],
          [
           51500
          ],
          [
           460
          ],
          [
           877
          ],
          [
           700
          ],
          [
           125
          ],
          [
           2000
          ],
          [
           6862
          ],
          [
           50000
          ],
          [
           1862
          ],
          [
           12800
          ],
          [
           491
          ],
          [
           5213
          ],
          [
           1000
          ],
          [
           25
          ],
          [
           59000
          ],
          [
           9241
          ],
          [
           3500
          ],
          [
           340
          ],
          [
           11000
          ],
          [
           885
          ],
          [
           14000
          ],
          [
           null
          ],
          [
           540
          ],
          [
           1500
          ],
          [
           1995
          ],
          [
           1000
          ],
          [
           400
          ],
          [
           400
          ],
          [
           600
          ],
          [
           5000
          ],
          [
           150
          ],
          [
           470
          ],
          [
           null
          ],
          [
           807
          ],
          [
           1000
          ],
          [
           1700
          ],
          [
           50
          ],
          [
           22300
          ],
          [
           3555
          ],
          [
           4500
          ],
          [
           114
          ],
          [
           340
          ],
          [
           3200
          ],
          [
           28400
          ],
          [
           45000
          ],
          [
           3000
          ],
          [
           1000
          ],
          [
           1600
          ],
          [
           19000
          ],
          [
           220
          ],
          [
           4000
          ],
          [
           4975
          ],
          [
           31
          ],
          [
           22
          ],
          [
           24750
          ],
          [
           10500
          ],
          [
           28.9
          ],
          [
           4000
          ],
          [
           6000
          ],
          [
           71400
          ],
          [
           2405
          ],
          [
           870
          ],
          [
           1300
          ],
          [
           22700
          ],
          [
           350
          ],
          [
           1600
          ],
          [
           8000
          ],
          [
           224.2
          ],
          [
           10000
          ],
          [
           330000
          ],
          [
           16700
          ],
          [
           1040
          ],
          [
           42
          ],
          [
           5500
          ],
          [
           550
          ],
          [
           8510
          ],
          [
           5800
          ],
          [
           100.7
          ],
          [
           300000
          ],
          [
           35000
          ],
          [
           4500
          ],
          [
           144000
          ],
          [
           150
          ],
          [
           8600
          ],
          [
           4885
          ],
          [
           3130
          ],
          [
           149000
          ],
          [
           500
          ],
          [
           null
          ],
          [
           1880
          ],
          [
           3520
          ],
          [
           8887.5
          ],
          [
           70
          ],
          [
           1300
          ],
          [
           1500
          ],
          [
           9150
          ],
          [
           11300
          ],
          [
           17000
          ],
          [
           1100
          ],
          [
           4400
          ],
          [
           25.5
          ],
          [
           4703
          ],
          [
           100000
          ],
          [
           12600
          ],
          [
           1245
          ],
          [
           null
          ],
          [
           8165
          ],
          [
           1810
          ],
          [
           20
          ],
          [
           6100
          ],
          [
           10000
          ],
          [
           23200
          ],
          [
           4500
          ],
          [
           52900
          ],
          [
           7500
          ],
          [
           17000
          ],
          [
           367.5
          ],
          [
           null
          ],
          [
           347
          ],
          [
           105
          ],
          [
           4500
          ],
          [
           10250
          ],
          [
           230000
          ],
          [
           1393
          ],
          [
           37500
          ],
          [
           null
          ],
          [
           3.3
          ],
          [
           3.3
          ],
          [
           3996
          ],
          [
           6000
          ],
          [
           467
          ],
          [
           17200
          ],
          [
           2300
          ],
          [
           472
          ],
          [
           4000
          ],
          [
           1050
          ],
          [
           1100000
          ],
          [
           1900
          ],
          [
           null
          ],
          [
           1001
          ],
          [
           250
          ],
          [
           5000
          ],
          [
           363
          ],
          [
           737.6
          ],
          [
           1100
          ],
          [
           500000
          ],
          [
           1400
          ],
          [
           6000
          ],
          [
           3750
          ],
          [
           14360
          ],
          [
           16250
          ],
          [
           7700
          ],
          [
           5850
          ],
          [
           194
          ],
          [
           4742
          ],
          [
           12000
          ],
          [
           16570
          ],
          [
           null
          ],
          [
           150000
          ],
          [
           40000
          ],
          [
           14000
          ],
          [
           6000
          ],
          [
           4500
          ],
          [
           3400
          ],
          [
           246
          ],
          [
           6510
          ],
          [
           840
          ],
          [
           121.5
          ],
          [
           205
          ],
          [
           null
          ],
          [
           3400
          ],
          [
           3858
          ],
          [
           515
          ],
          [
           null
          ],
          [
           18000
          ],
          [
           135
          ],
          [
           682
          ],
          [
           10500
          ],
          [
           2130
          ],
          [
           408000
          ],
          [
           2000
          ],
          [
           100000
          ],
          [
           77600
          ],
          [
           800
          ],
          [
           5100
          ],
          [
           4375
          ],
          [
           2121
          ],
          [
           12
          ],
          [
           37350
          ],
          [
           2968
          ],
          [
           142.5
          ],
          [
           40000
          ],
          [
           2000
          ],
          [
           45760
          ],
          [
           117.8
          ],
          [
           70000
          ],
          [
           165
          ],
          [
           23474
          ],
          [
           2
          ],
          [
           66000
          ],
          [
           3393
          ],
          [
           1800
          ],
          [
           null
          ],
          [
           57900
          ],
          [
           500
          ],
          [
           7800
          ],
          [
           11000
          ],
          [
           13.1
          ],
          [
           null
          ],
          [
           23250
          ],
          [
           37
          ],
          [
           842
          ],
          [
           1161
          ],
          [
           3760
          ],
          [
           2085
          ],
          [
           39
          ],
          [
           96
          ],
          [
           3000
          ],
          [
           350
          ],
          [
           253.6
          ],
          [
           157
          ],
          [
           4500
          ],
          [
           665
          ],
          [
           2125
          ],
          [
           5555
          ],
          [
           900
          ],
          [
           560
          ],
          [
           250000
          ],
          [
           100
          ],
          [
           300000
          ],
          [
           7000
          ],
          [
           6045
          ],
          [
           10750
          ],
          [
           65
          ],
          [
           5000
          ],
          [
           9000
          ],
          [
           3766
          ],
          [
           100
          ],
          [
           4682
          ],
          [
           290.4
          ],
          [
           300
          ],
          [
           3224.5
          ],
          [
           4910
          ],
          [
           6.1
          ],
          [
           24700
          ],
          [
           910
          ],
          [
           17300
          ],
          [
           10000
          ],
          [
           1000
          ],
          [
           300
          ],
          [
           355
          ],
          [
           7000
          ],
          [
           1
          ],
          [
           3332
          ],
          [
           668
          ],
          [
           20000
          ],
          [
           90000
          ],
          [
           1800
          ],
          [
           1310
          ],
          [
           103.3
          ],
          [
           340
          ],
          [
           1641
          ],
          [
           400
          ],
          [
           2900
          ],
          [
           10600
          ],
          [
           3500
          ],
          [
           67
          ],
          [
           6000
          ],
          [
           13000
          ],
          [
           1250
          ],
          [
           null
          ],
          [
           14000
          ],
          [
           271000
          ],
          [
           4180
          ],
          [
           9000
          ],
          [
           2462
          ],
          [
           282
          ],
          [
           460
          ],
          [
           400
          ],
          [
           60
          ],
          [
           5500
          ],
          [
           927
          ],
          [
           200000
          ],
          [
           695
          ],
          [
           4000
          ],
          [
           2500
          ],
          [
           412
          ],
          [
           7000
          ],
          [
           283.3
          ],
          [
           8000
          ],
          [
           5400
          ],
          [
           240
          ],
          [
           6930
          ],
          [
           1590
          ],
          [
           150
          ],
          [
           691
          ],
          [
           4000
          ],
          [
           20000
          ],
          [
           8500
          ],
          [
           1800
          ],
          [
           350
          ],
          [
           180
          ],
          [
           101000
          ],
          [
           4000
          ],
          [
           1265
          ],
          [
           18600
          ],
          [
           5000
          ],
          [
           3679.7
          ],
          [
           5000
          ],
          [
           3200
          ],
          [
           3700
          ],
          [
           23000000
          ],
          [
           0.15
          ],
          [
           1222
          ],
          [
           1455
          ],
          [
           8400
          ],
          [
           2000
          ],
          [
           4100
          ],
          [
           1600
          ],
          [
           850
          ],
          [
           1708
          ],
          [
           2750
          ],
          [
           72.9
          ],
          [
           80000
          ],
          [
           54
          ],
          [
           17100
          ],
          [
           958
          ],
          [
           2050
          ],
          [
           360
          ],
          [
           5500
          ],
          [
           700
          ],
          [
           4000
          ],
          [
           1000
          ],
          [
           13780
          ],
          [
           24.3
          ],
          [
           8300
          ],
          [
           17000
          ],
          [
           134.3
          ],
          [
           34000
          ],
          [
           52000
          ],
          [
           1500
          ],
          [
           4960
          ],
          [
           null
          ],
          [
           13400
          ],
          [
           10400
          ],
          [
           3500
          ],
          [
           815.3
          ],
          [
           1710.5
          ],
          [
           637
          ],
          [
           7235
          ],
          [
           5560
          ],
          [
           7540
          ],
          [
           9000
          ],
          [
           720
          ],
          [
           905
          ],
          [
           3850
          ],
          [
           12000
          ],
          [
           2500
          ],
          [
           6000
          ],
          [
           21000
          ],
          [
           160000
          ],
          [
           28500
          ],
          [
           342
          ],
          [
           28000
          ],
          [
           74800
          ],
          [
           65500
          ],
          [
           230
          ],
          [
           20000
          ],
          [
           16500
          ],
          [
           600
          ]
         ],
         "geo": "geo",
         "hovertemplate": "<b>%{hovertext}</b><br><br>Reclat=%{lat}<br>Reclong=%{lon}<br>Mass=%{customdata[0]}<br>Year=%{marker.color}<extra></extra>",
         "hovertext": [
          "Aachen",
          "Aarhus",
          "Abee",
          "Achiras",
          "Adhi Kot",
          "Adzhi-Bogdo (stone)",
          "Agen",
          "Aguada",
          "Aguila Blanca",
          "Aïr",
          "Aire-sur-la-Lys",
          "Akaba",
          "Akbarpur",
          "Akwanga",
          "Al Rais",
          "Alais",
          "Albareto",
          "Alberta",
          "Aldsworth",
          "Aleppo",
          "Alessandria",
          "Alexandrovsky",
          "Alfianello",
          "Allegan",
          "Allende",
          "Ambapur Nagla",
          "Andhara",
          "Andover",
          "Andreevka",
          "Andura",
          "Angers",
          "Angra dos Reis (stone)",
          "Ankober",
          "Appley Bridge",
          "Apt",
          "Arbol Solo",
          "Archie",
          "Arroyo Aguiar",
          "Asco",
          "Ashdon",
          "Assisi",
          "Atarra",
          "Atemajac",
          "Athens",
          "Atoka",
          "Aubres",
          "Aumale",
          "Aumieres",
          "Ausson",
          "Avanhandava",
          "Avce",
          "Avilez",
          "Awere",
          "Aztec",
          "Bachmut",
          "Bahjoi",
          "Bald Mountain",
          "Baldwyn",
          "Bali",
          "Bandong",
          "Bansur",
          "Banswal",
          "Banten",
          "Barbotan",
          "Barcelona (stone)",
          "Barea",
          "Barnaul",
          "Barntrup",
          "Baroti",
          "Barwell",
          "Bath",
          "Bath Furnace",
          "Baxter",
          "Beardsley",
          "Beaver Creek",
          "Beddgelert",
          "Bells",
          "Belville",
          "Benares (a)",
          "Benld",
          "Benoni",
          "Benton",
          "Béréba",
          "Berlanguillas",
          "Bethlehem",
          "Beuste",
          "Beyrout",
          "Bhagur",
          "Bherai",
          "Bhola",
          "Bholghati",
          "Bialystok",
          "Bielokrynitschie",
          "Birni N'konni",
          "Bishopville",
          "Bishunpur",
          "Bjelaja Zerkov",
          "Bjurböle",
          "Black Moshannan Park",
          "Blackwell",
          "Blanket",
          "Blansko",
          "Bloomington",
          "Bocas",
          "Bogou",
          "Boguslavka",
          "Borgo San Donino",
          "Bori",
          "Boriskino",
          "Borkut",
          "Borodino",
          "Botschetschki",
          "Bovedy",
          "Bradford Woods",
          "Braunau",
          "Breitscheid",
          "Bremervörde",
          "Brient",
          "Bruderheim",
          "Bulls Run",
          "Bununu",
          "Bur-Gheluai",
          "Bursa",
          "Buschhof",
          "Bustee",
          "Butsura",
          "Cabezo de Mayo",
          "Cabin Creek",
          "Cacak",
          "Calivo",
          "Çanakkale",
          "Cañellas",
          "Cangas de Onis",
          "Cape Girardeau",
          "Capilla del Monte",
          "Caratash",
          "Castalia",
          "Castel Berardenga",
          "Castine",
          "Castrovillari",
          "Caswell County",
          "Centerville",
          "Cereseto",
          "Chail",
          "Chainpur",
          "Chajari",
          "Chandakapur",
          "Chandpur",
          "Chantonnay",
          "Charlotte",
          "Charsonville",
          "Charwallas",
          "Chassigny",
          "Château-Renard",
          "Chaves",
          "Chernyi Bor",
          "Cherokee Springs",
          "Chervettaz",
          "Chervony Kut",
          "Chetrinahatti",
          "Chicora",
          "Chitado",
          "Clohars",
          "Colby (Wisconsin)",
          "Cold Bokkeveld",
          "Collescipoli",
          "Conquista",
          "Cosina",
          "Cranganore",
          "Crescent",
          "Cronstad",
          "Cross Roads",
          "Crumlin",
          "Cumberland Falls",
          "Cynthiana",
          "Dandapur",
          "Daniel's Kuil",
          "Danville",
          "Darmstadt",
          "De Cewsville",
          "Deal",
          "Delhi",
          "Demina",
          "Denver",
          "Desuri",
          "Dharwar",
          "Dhurmsala",
          "Diep River",
          "Distrito Quebracho",
          "Djati-Pengilon",
          "Djermaia",
          "Dokachi",
          "Dolgovoli",
          "Domanitch",
          "Donga Kohrod",
          "Doroninsk",
          "Dosso",
          "Douar Mghila",
          "Drake Creek",
          "Dresden (Ontario)",
          "Dubrovnik",
          "Dundrum",
          "Durala",
          "Duruma",
          "Duwun",
          "Dyalpur",
          "Dyarrl Island",
          "Eagle",
          "Ehole",
          "Eichstädt",
          "Ekeby",
          "Ekh Khera",
          "Elbogen",
          "Elenovka",
          "Ellemeet",
          "Emmaville",
          "Ensisheim",
          "Épinal",
          "Erakot",
          "Erevan",
          "Ergheo",
          "Erxleben",
          "Esnandes",
          "Essebi",
          "Estherville",
          "Farmington",
          "Farmville",
          "Favars",
          "Fayetteville",
          "Feid Chair",
          "Felix",
          "Fenghsien-Ku",
          "Ferguson",
          "Fisher",
          "Florence",
          "Forest City",
          "Forest Vale",
          "Forksville",
          "Forsbach",
          "Forsyth",
          "Fort Flatters",
          "Frankfort (stone)",
          "Fuhe",
          "Fukutomi",
          "Fünen",
          "Futtehpur",
          "Galapian",
          "Galim (a)",
          "Galim (b)",
          "Gambat",
          "Gao-Guenie",
          "Garhi Yasin",
          "Garland",
          "Geidam",
          "Gifu",
          "Girgenti",
          "Git-Git",
          "Glanggang",
          "Glasatovo",
          "Gnadenfrei",
          "Gopalpur",
          "Granes",
          "Grosnaja",
          "Gross-Divina",
          "Grossliebenthal",
          "Grüneberg",
          "Grzempach",
          "Gualeguaychú",
          "Guareña",
          "Guêa",
          "Guidder",
          "Gumoschnik",
          "Gurram Konda",
          "Gütersloh",
          "Gyokukei",
          "Hachi-oji",
          "Hainaut",
          "Hallingeberg",
          "Hamlet",
          "Haraiya",
          "Haripura",
          "Harleton",
          "Harrison County",
          "Hashima",
          "Hassi-Jekna",
          "Hatford",
          "Hedeskoga",
          "Hedjaz",
          "Heredia",
          "Hessle",
          "Higashi-koen",
          "High Possil",
          "Hökmark",
          "Holbrook",
          "Holetta",
          "Homestead",
          "Honolulu",
          "Hotse",
          "Hoxie",
          "Hraschina",
          "Hungen",
          "Hvittis",
          "Ibbenbüren",
          "Ibitira",
          "Ibrisim",
          "Ichkala",
          "Idutywa",
          "Indarch",
          "Independence",
          "Inner Mongolia",
          "Ishinga",
          "Isthilart",
          "Itapicuru-Mirim",
          "Ivuna",
          "Jackalsfontein",
          "Jajh deh Kot Lalu",
          "Jalandhar",
          "Jamkheir",
          "Jelica",
          "Jemlapur",
          "Jhung",
          "Jiange",
          "Jianshi",
          "Jodzie",
          "Johnstown",
          "Jonzac",
          "Judesegeri",
          "Juromenha",
          "Juvinas",
          "Kaba",
          "Kadonah",
          "Kaee",
          "Kagarlyk",
          "Kainsaz",
          "Kakangari",
          "Kakowa",
          "Kalaba",
          "Kalumbi",
          "Kamalpur",
          "Kamiomi",
          "Kamsagar",
          "Kandahar (Afghanistan)",
          "Kangean",
          "Kangra Valley",
          "Kapoeta",
          "Kaptal-Aryk",
          "Karakol",
          "Karatu",
          "Karewar",
          "Karkh",
          "Karloowala",
          "Karoonda",
          "Kasamatsu",
          "Kayakent",
          "Kediri",
          "Kendleton",
          "Kerilis",
          "Kernouve",
          "Kesen",
          "Khairpur",
          "Khanpur",
          "Kharkov",
          "Kheragur",
          "Khetri",
          "Khmelevka",
          "Khohar",
          "Khor Temiki",
          "Kiel",
          "Kijima (1906)",
          "Kikino",
          "Kilbourn",
          "Killeter",
          "Kingai",
          "Kirbyville",
          "Kisvarsány",
          "Klein-Wenden",
          "Knyahinya",
          "Komagome",
          "Konovo",
          "Krähenberg",
          "Krasnoi-Ugol",
          "Krasnyi Klyuch",
          "Krutikha",
          "Krymka",
          "Kukschin",
          "Kulak",
          "Kuleschovka",
          "Kulp",
          "Kunashak",
          "Kushiike",
          "Kusiali",
          "Kuttippuram",
          "Kuznetzovo",
          "Kyushu",
          "La Bécasse",
          "La Charca",
          "La Colina",
          "Laborel",
          "Lahrauli",
          "L'Aigle",
          "Lakangaon",
          "Lalitpur",
          "Lancé",
          "Lancon",
          "Långhalsen",
          "Lanzenkirchen",
          "Launton",
          "Lavrentievka",
          "Le Pressoir",
          "Le Teilleul",
          "Leedey",
          "Leeuwfontein",
          "Leighton",
          "Leonovka",
          "Les Ormes",
          "Lesves",
          "Lillaverke",
          "Limerick",
          "Linum",
          "Lissa",
          "Little Piney",
          "Lixna",
          "Lodran",
          "Los Martinez",
          "Łowicz",
          "Lua",
          "Lucé",
          "Lumpkin",
          "Lundsgård",
          "Luotolax",
          "Luponnas",
          "Lusaka",
          "Mabwe-Khoywa",
          "Macau",
          "Macibini",
          "Madhipura",
          "Madiun",
          "Madrid",
          "Mafra",
          "Magnesia",
          "Malaga",
          "Malampaka",
          "Malotas",
          "Malvern",
          "Mamra Springs",
          "Manbhoom",
          "Manegaon",
          "Mangwendi",
          "Manych",
          "Mardan",
          "Maria Linden",
          "Mariaville",
          "Maridi",
          "Marion (Iowa)",
          "Marjalahti",
          "Marmande",
          "Mascombes",
          "Mässing",
          "Mauerkirchen",
          "Mauritius",
          "Mazapil",
          "Maziba",
          "Medanitos",
          "Meerut",
          "Meester-Cornelis",
          "Menow",
          "Menziswyl",
          "Mern",
          "Meru",
          "Merua",
          "Messina",
          "Meuselbach",
          "Mezel",
          "Mezö-Madaras",
          "Mhow",
          "Middlesbrough",
          "Mighei",
          "Mike",
          "Milena",
          "Millbillillie",
          "Miller (Arkansas)",
          "Minamino",
          "Mineo",
          "Min-Fan-Zhun",
          "Minnichhof",
          "Mirzapur",
          "Misshof",
          "Mjelleim",
          "Mocs",
          "Modoc (1905)",
          "Mokoia",
          "Molina",
          "Molteno",
          "Monroe",
          "Monte das Fortes",
          "Monte Milone",
          "Montferré",
          "Montlivault",
          "Monze",
          "Moore County",
          "Mooresfort",
          "Moorleah",
          "Moradabad",
          "Mornans",
          "Moti-ka-nagla",
          "Motta di Conti",
          "Mount Browne",
          "Mount Vaisi",
          "Mtola",
          "Muddoor",
          "Mulletiwu",
          "Muraid",
          "Murchison",
          "Murray",
          "Muzaffarpur",
          "Myhee Caunta",
          "Nadiabondi",
          "Nagai",
          "Nagaria",
          "Nagy-Borové",
          "Nakhla",
          "Nakhon Pathom",
          "Nammianthal",
          "Nan Yang Pao",
          "Nanjemoy",
          "Naoki",
          "Narellan",
          "Narni",
          "Nassirah",
          "Nawapali",
          "Nedagolla",
          "Nerft",
          "New Concord",
          "Ngawi",
          "N'Goureyma",
          "Nicorps",
          "Niger (L6)",
          "Niger (LL6)",
          "Nikolaevka",
          "Nikolskoe",
          "Nio",
          "N'Kandhla",
          "Nobleborough",
          "Nogata",
          "Nogoya",
          "Norfork",
          "Norton County",
          "Novo-Urei",
          "Novy-Ergi",
          "Novy-Projekt",
          "Noyan-Bogdo",
          "Nulles",
          "Numakai",
          "Nyaung",
          "Nyirábrany",
          "Ochansk",
          "Oesede",
          "Oesel",
          "Ofehértó",
          "Ogi",
          "Ohaba",
          "Ohuma",
          "Ojuelos Altos",
          "Okabe",
          "Okano",
          "Okniny",
          "Oldenburg (1930)",
          "Oliva-Gandia",
          "Olivenza",
          "Olmedilla de Alarcón",
          "Orgueil",
          "Ornans",
          "Ortenau",
          "Orvinio",
          "Oterøy",
          "Otomi",
          "Ottawa",
          "Ovambo",
          "Oviedo",
          "Owrucz",
          "Pacula",
          "Padvarninkai",
          "Paitan",
          "Palahatchie",
          "Palinshih",
          "Palmyra",
          "Palolo Valley",
          "Pampanga",
          "Pantar",
          "Paragould",
          "Parambu",
          "Paranaiba",
          "Parnallee",
          "Parsa",
          "Pasamonte",
          "Patora",
          "Patrimonio",
          "Patti",
          "Patwar",
          "Pavel",
          "Pavlodar (stone)",
          "Pavlograd",
          "Pavlovka",
          "Peace River",
          "Peckelsheim",
          "Peña Blanca Spring",
          "Peramiho",
          "Perpeti",
          "Perth",
          "Pervomaisky",
          "Pesyanoe",
          "Petersburg",
          "Pettiswood",
          "Phillips County (stone)",
          "Phu Hong",
          "Phum Sambo",
          "Phuoc-Binh",
          "Piancaldoli",
          "Picote",
          "Pillistfer",
          "Piquetberg",
          "Pirgunje",
          "Pirthalla",
          "Pitts",
          "Plantersville",
          "Ploschkovitz",
          "Pnompehn",
          "Pohlitz",
          "Pokhra",
          "Pollen",
          "Pontlyfni",
          "Portugal",
          "Po-wang Chen",
          "Prambachkirchen",
          "Pribram",
          "Pricetown",
          "Pulsora",
          "Pultusk",
          "Punganaru",
          "Putinga",
          "Queen's Mercy",
          "Quenggouk",
          "Quesa",
          "Quincay",
          "Raco",
          "Rakovka",
          "Ramnagar",
          "Rampurhat",
          "Ramsdorf",
          "Ranchapur",
          "Rancho de la Presa",
          "Rangala",
          "Raoyang",
          "Ras Tanura",
          "Rasgrad",
          "Ratyn",
          "Reliegos",
          "Rembang",
          "Renazzo",
          "Renca",
          "Renqiu",
          "Repeev Khutor",
          "Revelstoke",
          "Rewari",
          "Rich Mountain",
          "Uzcudun",
          "Richardton",
          "Richmond",
          "Rio Negro",
          "Rivolta de Bassi",
          "Rochester",
          "Rockhampton",
          "Roda",
          "Rodach",
          "Rose City",
          "Rowton",
          "Rumuruti",
          "Rupota",
          "Ryechki",
          "Sabetmahet",
          "Sagan",
          "Saint-Sauveur",
          "Saint-Séverin",
          "Sakauchi",
          "Salles",
          "Samelia",
          "San Pedro de Quiles",
          "San Pedro Jacuaro",
          "Santa Barbara",
          "Santa Cruz",
          "Santa Isabel",
          "São Jose do Rio Preto",
          "Saratov",
          "Sasagase",
          "Sauguis",
          "Savtschenskoje",
          "Sazovice",
          "Schellin",
          "Schenectady",
          "Schönenberg",
          "Searsmont",
          "Sediköy",
          "Segowlie",
          "Selakopi",
          "Seldebourak",
          "Semarkona",
          "Sena",
          "Seoni",
          "Seres",
          "Serra de Magé",
          "Sete Lagoas",
          "Sevilla",
          "Sevrukovo",
          "Shalka",
          "Sharps",
          "Shelburne",
          "Shergotty",
          "Shikarpur",
          "Shupiyan",
          "Shytal",
          "Siena",
          "Sikhote-Alin",
          "Silistra",
          "Simmern",
          "Sinai",
          "Sindhri",
          "Sinnai",
          "Sioux County",
          "Sitathali",
          "Ski",
          "Slavetic",
          "Slobodka",
          "Soheria",
          "Soko-Banja",
          "Sologne",
          "Sone",
          "Sopot",
          "Soroti",
          "St. Caprais-de-Quinsac",
          "St. Christophe-la-Chartreuse",
          "St. Denis Westrem",
          "St. Germain-du-Pinel",
          "St. Louis",
          "St. Mark's",
          "St. Mary's County",
          "St. Mesmin",
          "St. Michel",
          "St.-Chinian",
          "Ställdalen",
          "Stannern",
          "Stavropol",
          "Ste. Marguerite",
          "Stolzenau",
          "Strathmore",
          "Stretchleigh",
          "Success",
          "Suchy Dul",
          "Sultanpur",
          "Sungach",
          "Supuhee",
          "Sylacauga",
          "Tabor",
          "Tadjera",
          "Takenouchi",
          "Tané",
          "Taonan",
          "Tatahouine",
          "Tathlith",
          "Tauk",
          "Tauti",
          "Tenham",
          "Tennasilm",
          "Thal",
          "Tieschitz",
          "Tilden",
          "Timochin",
          "Tirupati",
          "Tjabe",
          "Tjerebon",
          "Tomakovka"
         ],
         "lat": [
          50.775,
          56.18333,
          54.21667,
          -33.16667,
          32.1,
          44.83333,
          44.21667,
          -31.6,
          -30.86667,
          19.08333,
          50.66667,
          29.51667,
          29.71667,
          8.91667,
          24.41667,
          44.11667,
          44.65,
          2,
          51.78333,
          36.23333,
          44.88333,
          50.95,
          45.26667,
          42.53333,
          26.96667,
          27.66667,
          26.58333,
          44.61667,
          48.7,
          20.88333,
          47.46667,
          -22.96667,
          9.53333,
          53.58333,
          43.86667,
          -33,
          38.5,
          -31.41667,
          42.45,
          52.05,
          43.03333,
          25.25417,
          20.06667,
          34.75,
          34.31667,
          44.38333,
          36.16667,
          44.33333,
          43.08333,
          -21.46028,
          46,
          25,
          2.71667,
          36.8,
          48.6,
          28.48333,
          35.96667,
          34.5,
          5.38333,
          -6.91667,
          27.7,
          30.4,
          -6.33333,
          43.95,
          41.36667,
          42.38333,
          52.73333,
          52,
          31.61667,
          52.56528,
          45.41667,
          38.25,
          36.75,
          39.8,
          51.16667,
          53.01667,
          33.6,
          -32.33333,
          25.36667,
          39.08333,
          -26.16667,
          45.95,
          11.65,
          41.68333,
          42.53333,
          43.21667,
          33.88333,
          20.88333,
          20.83333,
          22.68333,
          22.08333,
          53.1,
          50.13333,
          13.76667,
          34.16667,
          25.38333,
          49.78333,
          60.4,
          40.91667,
          36.83333,
          31.83333,
          49.36667,
          40.48,
          23,
          12.5,
          44.55,
          44.86667,
          21.95,
          54.23333,
          48.15,
          55.46667,
          51.33333,
          54.56667,
          40.5,
          50.6,
          50.66694,
          53.4,
          52.13333,
          53.9,
          null,
          10.01667,
          5,
          40.2,
          46.45,
          26.78333,
          27.08333,
          37.98333,
          35.5,
          43.83889,
          11.75,
          39.8,
          41.25,
          43.38333,
          37.26667,
          -30.88333,
          38.5,
          36.08333,
          43.35,
          44.38333,
          39.8,
          36.5,
          43.2,
          45.08333,
          25.36667,
          25.85,
          -30.78333,
          20.26667,
          27.28333,
          46.68333,
          36.16667,
          47.93333,
          29.48333,
          47.71667,
          47.93333,
          41.93333,
          53.7,
          35.03333,
          46.55,
          50.83333,
          14.5,
          40.93333,
          -17.35,
          null,
          44.9,
          -33.13333,
          42.53333,
          -19.85,
          21.16667,
          10.2,
          35.95,
          -27.7,
          35.63333,
          54.61667,
          36.83333,
          38.4,
          26.91667,
          -28.2,
          34.4,
          49.86667,
          43,
          40.25,
          28.56667,
          51.46667,
          39.7825,
          25.73333,
          14.88333,
          32.23333,
          -33.75,
          -31.88333,
          -7.5,
          12.73333,
          23.5,
          50.75,
          40,
          21.86667,
          51.2,
          13.05,
          32.33333,
          36.4,
          42.52,
          42.45833,
          52.55,
          30.3,
          -4,
          33.43333,
          26.25,
          -3,
          40.78167,
          -17.3,
          48.9,
          56.03333,
          28.26667,
          50.18333,
          47.83333,
          51.75,
          -29.46667,
          47.86667,
          48.18333,
          19.03333,
          40.3,
          1.16667,
          52.21667,
          46.25,
          2.88333,
          43.41667,
          39.75,
          35.55,
          44.38333,
          36.05,
          36.88333,
          32.53333,
          34.6,
          36.1,
          47.81667,
          30.83333,
          43.25,
          -33.35,
          36.78333,
          50.95,
          33.01667,
          28.25,
          34.48333,
          31.47556,
          33.18333,
          55.33333,
          25.95,
          44.3,
          7.05,
          7.05,
          27.35,
          11.65,
          27.88333,
          41.68333,
          12.91667,
          35.53333,
          37.31667,
          9.6,
          -7.25,
          57.35,
          50.66667,
          24.23333,
          42.9,
          43.66667,
          49.26667,
          46.35,
          51.93333,
          52.86667,
          -33,
          38.73333,
          43.76667,
          9.91667,
          42.9,
          13.78333,
          51.91667,
          35,
          35.65,
          50.31667,
          57.81667,
          41.38333,
          26.8,
          28.38333,
          32.675,
          38.25,
          35.2945,
          28.95,
          51.65,
          55.46667,
          27.33333,
          10,
          59.85,
          33.6,
          55.9,
          64.43333,
          34.9,
          9.06667,
          41.8,
          21.3,
          35.66667,
          39.35,
          46.1,
          50.3,
          61.18333,
          52.28333,
          -20,
          38,
          58.2,
          -32.1,
          39.75,
          39.08333,
          41,
          -8.93333,
          -31.18333,
          -3.4,
          -8.41667,
          -32.5,
          26.75,
          31,
          18.75,
          43.83333,
          null,
          31.3,
          31.91667,
          30.80833,
          55.7,
          40.35,
          45.43333,
          12.85,
          38.74028,
          44.71667,
          47.35,
          27.08333,
          27.25,
          49.86667,
          55.43333,
          12.38333,
          45.13333,
          -6.83333,
          17.83333,
          26.03333,
          36.04167,
          14.18333,
          31.6,
          -7,
          32.08333,
          4.7,
          42.45,
          47.21667,
          -3.5,
          12.9,
          27.8,
          31.58333,
          -35.08333,
          35.36667,
          39.26333,
          -7.75,
          29.45,
          48.4,
          48.11667,
          38.98333,
          29.53333,
          25.55,
          50.625,
          26.95,
          28.01667,
          56.75,
          25.1,
          16,
          54.4,
          36.85,
          55,
          43.58333,
          54.66667,
          11.63333,
          30.75,
          48.16667,
          51.6,
          48.9,
          35.73333,
          42.51667,
          49.32694,
          54.03333,
          54.33333,
          56.8,
          47.83333,
          51.15,
          30.73111,
          50.75,
          41.11667,
          55.78333,
          37.05,
          29.68333,
          10.83333,
          55.2,
          32.03333,
          47.08333,
          20.66667,
          -37.33333,
          44.28333,
          26.78333,
          48.76667,
          21.86667,
          24.45,
          47.7,
          43.75,
          58.85,
          47.75,
          51.9,
          52.45,
          47.16667,
          48.53333,
          35.88333,
          -25.66667,
          34.58333,
          52.26667,
          48.35,
          50.36667,
          56.65,
          52.56667,
          52.75,
          50.2,
          37.91667,
          56,
          29.53333,
          38,
          52,
          24.95,
          47.85,
          32.03333,
          56.21667,
          61.2,
          46.21667,
          -7.21667,
          19,
          -5.2,
          -28.83333,
          25.91667,
          -7.75,
          40.41667,
          -26.16667,
          37.86667,
          32.21667,
          -3.13333,
          -28.93333,
          -29.45,
          45.21667,
          23.05,
          20.96667,
          -17.65,
          45.81667,
          34.23333,
          null,
          42.71667,
          4.66667,
          41.9,
          61.5,
          44.5,
          45.36667,
          48.13333,
          48.18333,
          -20,
          24.68333,
          -1.21667,
          -27.25,
          29.01667,
          -6.23333,
          53.18333,
          46.81867,
          55.05,
          0,
          25.48333,
          38.18333,
          50.58333,
          45.76667,
          46.5,
          25.9,
          54.56667,
          48.06667,
          46.23333,
          46.18333,
          -26.45,
          35.4,
          35.07833,
          37.28333,
          32.33333,
          47.7,
          25.68333,
          56.66667,
          61.73333,
          46.8,
          38.5,
          -39.63333,
          38.11667,
          -31.25,
          35.25,
          38.01667,
          43.26667,
          43.39056,
          47.63333,
          -15.96667,
          35.41667,
          52.45,
          -40.975,
          28.78333,
          44.6,
          26.83333,
          45.2,
          -29.8,
          44.08333,
          -11.5,
          12.63333,
          9.33333,
          24.5,
          -36.61667,
          36.6,
          26.13333,
          23.05,
          12,
          38.12167,
          26.98333,
          49.16667,
          31.31667,
          13.73333,
          12.28333,
          35.66667,
          38.41667,
          19.25,
          -34.05,
          42.51667,
          -21.73333,
          21.25,
          18.68333,
          56.5,
          40,
          -7.45,
          13.85,
          49.03333,
          null,
          null,
          52.45,
          56.11667,
          34.2,
          -28.56667,
          44.08333,
          33.725,
          -32.36667,
          36.21667,
          39.68333,
          54.81667,
          58.55,
          56,
          42.91667,
          41.63333,
          43.33333,
          21.20833,
          47.55,
          57.78333,
          52.28333,
          58.5,
          47.88333,
          33.28333,
          46.06667,
          6.75,
          38.18333,
          36.18333,
          35.08333,
          50.83333,
          52.95,
          39,
          38.71667,
          39.56667,
          43.88333,
          47.11667,
          48.5,
          42.13333,
          58.88333,
          38.4,
          38.6,
          -18,
          43.4,
          51.33333,
          21.05,
          55.66667,
          17.74333,
          32.31667,
          43.48333,
          39.8,
          21.3,
          15.08333,
          8.06667,
          36.06667,
          -6.23333,
          -19.13333,
          9.23333,
          26.2,
          36.21667,
          20.93694,
          -19.53333,
          38.13333,
          23.15,
          43.46667,
          52.3,
          48.53333,
          52.03333,
          56.13333,
          51.66667,
          30.125,
          -10.66667,
          23.325,
          56.4,
          56.63333,
          55.5,
          35.3,
          53.53333,
          40,
          11.25,
          12,
          15.71667,
          44.24417,
          41.36667,
          58.66667,
          -32.86667,
          25.8,
          29.58333,
          31.95,
          30.7,
          50.53333,
          11.58333,
          50.93333,
          26.71667,
          66.34833,
          53.03639,
          38.5,
          31.41667,
          48.3025,
          49.66667,
          39.11667,
          23.36667,
          52.76667,
          13.33333,
          -29.03333,
          -30.11667,
          17.76667,
          39,
          46.6,
          -26.66667,
          52.98333,
          26.45,
          24.16667,
          51.88333,
          23.98333,
          19.86667,
          25.38333,
          38.2,
          26.66667,
          43.5,
          52.2,
          42.475,
          -6.73333,
          44.76667,
          -32.75,
          38.66667,
          48.6,
          51.33333,
          28.2,
          35.03333,
          -44.11667,
          46.88333,
          37.46667,
          -26.1,
          45.48333,
          41.08333,
          -23.38333,
          42.3,
          50.35,
          44.51667,
          52.76667,
          0.26667,
          -10.26667,
          51.13333,
          27.43333,
          51.53333,
          43.73333,
          45.3,
          35.66667,
          46.05,
          25.66667,
          -31.01667,
          19.76667,
          -29.2,
          24.16667,
          -33.9,
          -20.81,
          52.55,
          34.71667,
          43.15,
          47.21667,
          49.23333,
          53.35,
          42.86083,
          48.11667,
          44.36667,
          38.3,
          26.75,
          -7.23333,
          22.83333,
          22.25,
          41.71667,
          21.68389,
          41.05,
          -8.38333,
          -19.46667,
          37.41667,
          50.61667,
          23.1,
          37.83333,
          44.05,
          24.55,
          25.85,
          33.71667,
          24.33333,
          43.11667,
          46.16,
          44.11667,
          49.98333,
          30.9,
          26.21667,
          39.3,
          42.58333,
          20.91667,
          59.73333,
          45.68333,
          55,
          27.13333,
          43.66667,
          47.36667,
          35.16667,
          44.41667,
          1.7,
          44.75,
          46.95,
          51.05,
          48.01667,
          38.7,
          -32.01667,
          38.16667,
          48.45,
          61.65,
          43.43333,
          59.93333,
          49.28333,
          45.05,
          50.76667,
          52.53333,
          56.58333,
          50.38333,
          36.48333,
          50.53806,
          25.93333,
          44.86667,
          26.71667,
          33.18836,
          49.4,
          36.18333,
          35.38333,
          35.43333,
          45.4,
          32.95,
          19.38333,
          35.13333,
          46.71667,
          -25.73333,
          58.03333,
          33.4,
          49.6,
          38.2,
          54.5,
          13.63333,
          -7.08333,
          -6.66667,
          47.85
         ],
         "legendgroup": "",
         "lon": [
          6.08333,
          10.23333,
          -113,
          -64.95,
          71.8,
          95.16667,
          0.61667,
          -65.23333,
          -64.55,
          8.38333,
          2.33333,
          35.05,
          77.95,
          8.43333,
          39.51667,
          4.08333,
          11.01667,
          22.66667,
          -1.78333,
          37.13333,
          8.75,
          31.81667,
          10.15,
          -85.88333,
          -105.31667,
          78.25,
          85.56667,
          -70.75,
          37.5,
          76.86667,
          -0.55,
          -44.31667,
          39.71667,
          -2.71667,
          5.38333,
          -66,
          -94.3,
          -60.66667,
          9.03333,
          0.3,
          12.55,
          80.625,
          -103.66667,
          -87,
          -96.15,
          5.16667,
          3.66667,
          3.23333,
          0.58333,
          -49.95083,
          13.5,
          -103.5,
          32.83333,
          -108,
          38,
          78.5,
          -82.48333,
          -88.66667,
          16.38333,
          107.6,
          76.33333,
          78.2,
          106,
          -0.05,
          2.16667,
          -2.5,
          84.08333,
          9.1,
          76.8,
          -1.33972,
          -98.31667,
          -83.75,
          -93.5,
          -101.2,
          -117.33333,
          -4.1,
          -96.46667,
          -64.86667,
          82.91667,
          -89.15,
          28.41667,
          -67.55,
          -3.65,
          -3.8,
          -73.83333,
          -0.23333,
          35.5,
          74.83333,
          71.46667,
          90.65,
          86.9,
          23.2,
          27.16667,
          5.3,
          -80.28333,
          82.6,
          30.16667,
          25.8,
          -78.08333,
          -97.33333,
          -98.83333,
          16.63333,
          -89.00417,
          -102,
          0.7,
          131.63333,
          10.05,
          78.03333,
          52.48333,
          24.28333,
          35.86667,
          33.88333,
          -6.33333,
          -80.08333,
          16.3,
          8.18361,
          9.1,
          59.31667,
          -112.88333,
          null,
          9.58333,
          48,
          29.23333,
          25.78333,
          82.83333,
          84.08333,
          -1.16667,
          -93.5,
          20.33333,
          122.33333,
          26.6,
          1.66667,
          -5.15,
          -89.58333,
          -64.55,
          27,
          -78.06667,
          11.5,
          -68.75,
          16.2,
          -79.25,
          -96.91667,
          8.3,
          81.66667,
          83.48333,
          -58.05,
          76.01667,
          79.05,
          1.05,
          -87.33333,
          1.56667,
          75.5,
          5.36667,
          2.91667,
          -7.46667,
          30.1,
          -81.88333,
          6.81667,
          34,
          76.5,
          -79.73333,
          13.96667,
          null,
          -90.28333,
          19.38333,
          12.61667,
          -47.55,
          -100.86667,
          76.26667,
          -97.58333,
          27.3,
          -78.13333,
          -6.21667,
          -84.35,
          -84.25,
          83.96667,
          24.56667,
          -87.06667,
          8.65,
          -80,
          -74,
          77.25,
          84.76667,
          -104.93056,
          73.61667,
          75.6,
          76.46667,
          18.56667,
          -60.46667,
          111.5,
          15.05,
          90.33333,
          25.3,
          29,
          82.45,
          112.3,
          3.16667,
          -6.3,
          -86.5,
          -82.26,
          18.44167,
          -8.03333,
          76.63333,
          39.5,
          127.26667,
          82,
          151,
          -96.47167,
          15.83333,
          11.21667,
          13,
          78.78333,
          12.73333,
          37.66667,
          4,
          151.61667,
          7.35,
          6.46667,
          81.89167,
          44.5,
          44.16667,
          11.25,
          -1.1,
          30.83333,
          -94.83333,
          -97.03333,
          -77.53333,
          2.81667,
          -94.16667,
          8.45,
          -87.16667,
          116.75,
          -81.41667,
          -96.85,
          -97.76667,
          -93.66667,
          146.85833,
          -78.08333,
          7.31667,
          -83.96667,
          7,
          -87.83333,
          113.56694,
          130.2,
          10.33333,
          80.81667,
          0.4,
          12.43333,
          12.43333,
          68.53333,
          -2.18333,
          68.53333,
          -112.13333,
          11.91667,
          136.88333,
          13.56667,
          9.91667,
          107.7,
          37.61667,
          16.76667,
          89.05,
          2.25,
          45.38333,
          18.71667,
          30.58333,
          15.5,
          16.63333,
          -58.61667,
          -6.01667,
          20.23333,
          13.98333,
          24.7,
          78.56667,
          8.38333,
          127.5,
          139.33333,
          3.73333,
          16.23333,
          -86.6,
          82.53333,
          75.78333,
          -94.51167,
          -86.16667,
          136.70033,
          0.81667,
          -1.51667,
          13.78333,
          35.66667,
          -84.1,
          17.66667,
          130.43333,
          -4.23333,
          21.2,
          -110.18333,
          38.41667,
          -91.86667,
          -157.86667,
          115.5,
          -100.45,
          16.33333,
          8.91667,
          22.68333,
          7.7,
          -45,
          35,
          82.93333,
          28.33333,
          46.66667,
          -94.4,
          112,
          33.8,
          -57.95,
          -44.33333,
          32.43333,
          21.9,
          68.41667,
          75,
          75.33333,
          20.44167,
          null,
          72.38333,
          104.91667,
          109.5,
          24.4,
          -104.9,
          -0.45,
          76.8,
          -7.27,
          4.3,
          21.3,
          78.33333,
          79.96667,
          30.83333,
          53.25,
          78.51667,
          21.66667,
          29.5,
          73.98333,
          81.46667,
          139.95667,
          75.8,
          65.78333,
          115.5,
          76.3,
          33.63333,
          73.36667,
          81.01667,
          35.58333,
          7.15,
          67.16667,
          71.6,
          139.91667,
          136.76667,
          31.78,
          112.01667,
          -96,
          -3.3,
          -3.08333,
          141.61667,
          72.3,
          83.11667,
          35.075,
          77.88333,
          75.81667,
          75.33333,
          81.53333,
          36,
          10.15,
          138.38333,
          34,
          -89.6,
          -7.66667,
          24.68333,
          -95.95,
          22.30833,
          10.8,
          22.4,
          139.75,
          26.16667,
          7.46472,
          40.9,
          56.08333,
          77,
          30.76667,
          31.7,
          66.80222,
          33.5,
          45,
          61.36667,
          138.38333,
          78.38333,
          76.03333,
          75.33333,
          130.63333,
          1.75,
          -101.28333,
          -61.53333,
          5.58333,
          82.71667,
          0.63333,
          76.03333,
          78.56667,
          1.06667,
          5.11667,
          16.73333,
          16.23333,
          -1.11667,
          51.56667,
          0.43333,
          -0.86667,
          -99.33333,
          28.36667,
          -87.5,
          32.85,
          3.25,
          4.73333,
          15.86667,
          -8.78333,
          12.9,
          14.85,
          -92.08333,
          26.43333,
          71.8,
          -0.83333,
          19.91667,
          75.15,
          0.48333,
          -84.76667,
          13.03333,
          27.7,
          5,
          29.43333,
          97,
          -36.66667,
          31.95,
          86.36667,
          111.53333,
          -3.71667,
          -49.93333,
          27.51667,
          -104,
          33.51667,
          -63.23333,
          26.76667,
          62.08333,
          86.7,
          76.1,
          31.6,
          44.63333,
          72.08333,
          null,
          -99.38333,
          29.25,
          -91.6,
          30.5,
          0.15,
          1.86667,
          12.61667,
          13.13333,
          57,
          -101.68333,
          30,
          -67.5,
          77.8,
          106.88333,
          13.15,
          7.21817,
          12.06667,
          37.66667,
          81.98333,
          15.56667,
          11.1,
          3.25,
          25.73333,
          83.61667,
          -1.16667,
          30.96667,
          17.53333,
          16.1,
          120.36667,
          -92.05,
          136.93333,
          14.7,
          120.66667,
          16.6,
          83.25,
          23,
          5.93333,
          24.03333,
          -101.1,
          174.4,
          -1.16667,
          26.46667,
          -80.5,
          -8.25,
          13.35,
          1.9625,
          1.58333,
          27.35,
          -79.38333,
          -8.33333,
          145.6,
          78.83333,
          5.13333,
          77.33333,
          8.5,
          141.7,
          6.86667,
          33.5,
          77.01667,
          80.83333,
          90.21667,
          145.2,
          -88.1,
          85.53333,
          72.63333,
          1,
          140.06167,
          78.21667,
          19.5,
          30.35,
          100.08333,
          79.2,
          103.5,
          -77.16667,
          77,
          150.68889,
          12.51667,
          165.9,
          83.66667,
          83.48333,
          21.5,
          -81.76667,
          111.41667,
          -4.38333,
          -1.43333,
          null,
          null,
          78.63333,
          37.33333,
          131.56667,
          30.7,
          -69.48333,
          130.75,
          -59.83333,
          -92.26667,
          -99.86667,
          46,
          31.33333,
          22,
          102.46667,
          0.75,
          141.86667,
          94.91667,
          22.025,
          55.26667,
          8.05,
          23,
          22.03333,
          130.2,
          23.58333,
          8.5,
          -5.4,
          139.21667,
          135.2,
          25.5,
          8.16667,
          -0.03333,
          -7.06667,
          -2.1,
          1.38333,
          6.15,
          8,
          12.93333,
          9.4,
          140.35,
          -95.21667,
          16,
          -5.86667,
          28.83333,
          -99.3,
          25,
          120.45583,
          -89.71667,
          118.61667,
          -91.5,
          -157.78333,
          120.7,
          124.28333,
          -90.5,
          -40.7,
          -51.66667,
          78.35,
          85.4,
          -103.4,
          82.05,
          -48.56667,
          14.96667,
          91.18333,
          25.51667,
          77.03333,
          35.98333,
          43,
          -117.93333,
          9.25,
          -103.11667,
          35.5,
          91,
          -3.43333,
          39.43333,
          66.08333,
          -86.63333,
          -7.33333,
          -99.25,
          108.58333,
          105.48333,
          108.1,
          11.50222,
          -6.23333,
          25.73333,
          18.71667,
          88.45,
          76,
          -83.51667,
          -96.11667,
          14.11667,
          104.91667,
          12.13333,
          82.66667,
          14.015,
          -4.31944,
          -8,
          118.5,
          13.94083,
          14.03333,
          -83.85,
          75.18333,
          21.26667,
          78.95,
          -53.05,
          28.7,
          95.18333,
          -0.66667,
          0.25,
          -65.45,
          37.03333,
          82.9,
          87.76667,
          6.93333,
          87.08333,
          -100.81667,
          72.01667,
          115.7,
          50.15,
          26.53333,
          17.98333,
          -5.33333,
          111.36667,
          11.28333,
          -65.28333,
          116.13333,
          45.66667,
          -118.95,
          76.66667,
          -83.03333,
          -66.15,
          -102.31667,
          -77.5,
          -49.8,
          9.51667,
          -86.28333,
          150.51667,
          0.55,
          10.8,
          -83.95,
          -2.51667,
          36.53333,
          38.76667,
          34.5,
          82.08333,
          14.88333,
          1.38333,
          0.23333,
          136.3,
          4.63333,
          74.86667,
          -71.4,
          -100.65,
          -51.86667,
          -99.33333,
          -61.7,
          -49.38056,
          46.55,
          137.78333,
          -0.85,
          29.86667,
          17.56667,
          15.05,
          -73.95028,
          10.46667,
          -69.2,
          27.13333,
          84.78333,
          107.33333,
          4.98333,
          79,
          -0.05,
          79.50083,
          23.56667,
          -36.76667,
          -44.21667,
          -6,
          36.6,
          87.3,
          -76.7,
          -80.16667,
          84.83333,
          87.5775,
          74.83333,
          90.16667,
          11.6,
          134.65333,
          27.26667,
          7.53333,
          32.48333,
          69.55,
          9.2,
          -103.66667,
          82.58333,
          10.86667,
          15.6,
          35,
          84.06667,
          21.86667,
          1.73333,
          135.33333,
          23.5,
          33.63333,
          0.05,
          -1.5,
          3.75,
          -1.15,
          -90.23333,
          27.41667,
          -76.38333,
          3.93333,
          27.2,
          2.95,
          14.95,
          15.56667,
          41.98333,
          3,
          9.05,
          -3.25,
          -3.95,
          -90.66667,
          16.26333,
          84.28333,
          133.16667,
          84.21667,
          -86.2945,
          14.65,
          5.41667,
          134.9,
          136.23333,
          122.9,
          10.41667,
          43.73333,
          44.45,
          23.5,
          142.95,
          26.95,
          70.6,
          17.11667,
          -89.68333,
          35.2,
          79.41667,
          111.53333,
          106.58333,
          34.76667
         ],
         "marker": {
          "color": [
           1880,
           1951,
           1952,
           1902,
           1919,
           1949,
           1814,
           1930,
           1920,
           1925,
           1769,
           1949,
           1838,
           1959,
           1957,
           1806,
           1766,
           1949,
           1835,
           1873,
           1860,
           1900,
           1883,
           1899,
           1969,
           1895,
           1880,
           1898,
           1969,
           1939,
           1822,
           1869,
           1942,
           1914,
           1803,
           1954,
           1932,
           1950,
           1805,
           1923,
           1886,
           1920,
           1896,
           1933,
           1945,
           1836,
           1865,
           1842,
           1858,
           1952,
           1908,
           1855,
           1968,
           1938,
           1814,
           1934,
           1929,
           1922,
           1907,
           1871,
           1892,
           1913,
           1933,
           1790,
           1704,
           1842,
           1904,
           1886,
           1910,
           1965,
           1892,
           1902,
           1916,
           1929,
           1893,
           1949,
           1961,
           1937,
           1798,
           1938,
           1943,
           1949,
           1924,
           1811,
           1859,
           1859,
           1921,
           1877,
           1893,
           1940,
           1905,
           1827,
           1887,
           1923,
           1843,
           1895,
           1796,
           1899,
           1941,
           1906,
           1909,
           1833,
           1938,
           1804,
           1962,
           1916,
           1808,
           1894,
           1930,
           1852,
           1812,
           1823,
           1969,
           1886,
           1847,
           1956,
           1855,
           1933,
           1960,
           1964,
           1942,
           1919,
           1946,
           1863,
           1852,
           1861,
           1870,
           1886,
           1919,
           1916,
           1964,
           1861,
           1866,
           1846,
           1934,
           1902,
           1874,
           1791,
           1848,
           1583,
           1810,
           1956,
           1840,
           1814,
           1907,
           1933,
           1838,
           1885,
           1812,
           1835,
           1810,
           1834,
           1815,
           1841,
           1925,
           1964,
           1933,
           1901,
           1939,
           1880,
           1938,
           1966,
           1822,
           1917,
           1838,
           1890,
           1965,
           1844,
           1917,
           1936,
           1877,
           1892,
           1902,
           1919,
           1877,
           1878,
           1868,
           1868,
           1804,
           1887,
           1829,
           1897,
           1911,
           1967,
           1962,
           1848,
           1860,
           1906,
           1957,
           1884,
           1961,
           1903,
           1864,
           1907,
           1899,
           1805,
           1962,
           1932,
           1827,
           1939,
           1951,
           1865,
           1815,
           1853,
           1943,
           1872,
           1933,
           1947,
           1961,
           1785,
           1939,
           1916,
           1400,
           1951,
           1925,
           1900,
           1492,
           1822,
           1940,
           1911,
           1889,
           1812,
           1837,
           1957,
           1879,
           1890,
           1934,
           1844,
           1934,
           1875,
           1900,
           1924,
           1889,
           1894,
           1922,
           1890,
           1942,
           1924,
           1900,
           1829,
           1944,
           1868,
           1945,
           1882,
           1654,
           1822,
           1826,
           1952,
           1952,
           1897,
           1960,
           1917,
           1950,
           1950,
           1909,
           1853,
           1947,
           1939,
           1918,
           1879,
           1865,
           1964,
           1861,
           1837,
           1881,
           1841,
           1910,
           1932,
           1892,
           1891,
           1949,
           1904,
           1814,
           1851,
           1930,
           1817,
           1934,
           1944,
           1959,
           1878,
           1921,
           1961,
           1859,
           1910,
           1890,
           1628,
           1922,
           1910,
           1857,
           1869,
           1897,
           1804,
           1954,
           1912,
           1923,
           1875,
           1825,
           1956,
           1963,
           1751,
           1877,
           1901,
           1870,
           1957,
           1949,
           1936,
           1956,
           1891,
           1917,
           1963,
           1954,
           1928,
           1879,
           1938,
           1903,
           1926,
           1621,
           1866,
           1889,
           1901,
           1873,
           1964,
           1890,
           1877,
           1924,
           1819,
           1876,
           1968,
           1821,
           1857,
           1822,
           1838,
           1908,
           1937,
           1890,
           1858,
           1951,
           1879,
           1942,
           1913,
           1902,
           1959,
           1908,
           1897,
           1942,
           1937,
           1840,
           1963,
           1949,
           1905,
           1955,
           1930,
           1938,
           1961,
           1940,
           1939,
           1874,
           1869,
           1850,
           1873,
           1932,
           1787,
           1860,
           1867,
           1929,
           1910,
           1932,
           1962,
           1906,
           1809,
           1911,
           1844,
           1967,
           1906,
           1914,
           1843,
           1866,
           1926,
           1931,
           1869,
           1829,
           1946,
           1906,
           1946,
           1938,
           1961,
           1811,
           1906,
           1949,
           1920,
           1860,
           1914,
           1932,
           1886,
           1879,
           1878,
           1924,
           1871,
           1955,
           1803,
           1910,
           1887,
           1872,
           1897,
           1947,
           1925,
           1830,
           1938,
           1845,
           1845,
           1943,
           1912,
           1907,
           1900,
           1857,
           1896,
           1930,
           1813,
           1854,
           1808,
           1839,
           1820,
           1868,
           1894,
           1935,
           1926,
           1768,
           1869,
           1889,
           1813,
           1753,
           1951,
           1937,
           1836,
           1936,
           1950,
           1935,
           1896,
           1941,
           1899,
           1933,
           1930,
           1931,
           1933,
           1927,
           1863,
           1843,
           1934,
           1951,
           1948,
           1925,
           1898,
           1941,
           1847,
           1902,
           1848,
           1836,
           1803,
           1768,
           1801,
           1885,
           1942,
           1953,
           1861,
           1915,
           1862,
           1903,
           1878,
           1945,
           1920,
           1955,
           1897,
           1949,
           1852,
           1827,
           1881,
           1889,
           1944,
           1842,
           1960,
           1930,
           1632,
           1826,
           1952,
           1905,
           1910,
           1890,
           1898,
           1882,
           1905,
           1908,
           1858,
           1953,
           1849,
           1950,
           1846,
           1923,
           1838,
           1950,
           1913,
           1810,
           1930,
           1808,
           1875,
           1868,
           1868,
           1902,
           1637,
           1944,
           1865,
           1795,
           1924,
           1969,
           1950,
           1964,
           1842,
           1956,
           1922,
           1875,
           1895,
           1911,
           1923,
           1886,
           1917,
           1825,
           1928,
           1928,
           921,
           1936,
           1890,
           1870,
           1864,
           1860,
           1883,
           1900,
           1750,
           1967,
           1967,
           1935,
           1954,
           1897,
           1912,
           1823,
           861,
           1879,
           1918,
           1948,
           1886,
           1662,
           1908,
           1933,
           1851,
           1925,
           1939,
           1914,
           1887,
           1927,
           1855,
           1900,
           1741,
           1857,
           1963,
           1926,
           1958,
           1904,
           1834,
           1930,
           1520,
           1924,
           1929,
           1864,
           1868,
           1671,
           1872,
           1928,
           1867,
           1896,
           1900,
           1856,
           1775,
           1881,
           1929,
           1910,
           1910,
           1914,
           1926,
           1949,
           1859,
           1938,
           1930,
           1967,
           1956,
           1857,
           1942,
           1933,
           1969,
           1950,
           1922,
           1935,
           1966,
           1938,
           1826,
           1882,
           1963,
           1953,
           1946,
           1899,
           1935,
           1830,
           1933,
           1933,
           1855,
           1779,
           1901,
           1887,
           1933,
           1941,
           1968,
           1843,
           1863,
           1881,
           1882,
           1884,
           1921,
           1930,
           1723,
           1868,
           1819,
           1866,
           1942,
           1931,
           1796,
           1933,
           1932,
           1959,
           1893,
           1863,
           1868,
           1811,
           1937,
           1925,
           1857,
           1898,
           1851,
           1957,
           1878,
           1940,
           1916,
           1958,
           1917,
           1899,
           1937,
           1919,
           1961,
           1740,
           1880,
           1947,
           1919,
           1824,
           1925,
           1916,
           1933,
           1965,
           1929,
           1903,
           1948,
           1918,
           1828,
           1934,
           1491,
           1876,
           1895,
           1871,
           1775,
           1921,
           1876,
           1934,
           1949,
           1914,
           1855,
           1636,
           1914,
           1966,
           1913,
           1798,
           1921,
           1956,
           1968,
           1873,
           1939,
           1924,
           1962,
           1918,
           1688,
           1868,
           1894,
           1934,
           1715,
           1968,
           1846,
           1871,
           1917,
           1853,
           1939,
           1947,
           1940,
           1773,
           1966,
           1818,
           1923,
           1908,
           1862,
           1874,
           1850,
           1921,
           1904,
           1865,
           1921,
           1912,
           1863,
           1794,
           1947,
           1917,
           1920,
           1916,
           1901,
           1956,
           1933,
           1875,
           1848,
           1868,
           1818,
           1960,
           1877,
           1860,
           1866,
           1927,
           1945,
           1883,
           1841,
           1855,
           1890,
           1950,
           1903,
           1919,
           1866,
           1910,
           1959,
           1876,
           1808,
           1857,
           1962,
           1647,
           1917,
           1623,
           1924,
           1969,
           1916,
           1935,
           1865,
           1954,
           1753,
           1867,
           1880,
           1918,
           1965,
           1931,
           1967,
           1929,
           1937,
           1879,
           1872,
           1950,
           1878,
           1927,
           1807,
           1934,
           1869,
           1922,
           1905
          ],
          "coloraxis": "coloraxis",
          "symbol": "circle"
         },
         "mode": "markers",
         "name": "",
         "showlegend": false,
         "type": "scattergeo"
        }
       ],
       "layout": {
        "coloraxis": {
         "colorbar": {
          "title": {
           "text": "Year"
          }
         },
         "colorscale": [
          [
           0,
           "#440154"
          ],
          [
           0.1111111111111111,
           "#482878"
          ],
          [
           0.2222222222222222,
           "#3e4989"
          ],
          [
           0.3333333333333333,
           "#31688e"
          ],
          [
           0.4444444444444444,
           "#26828e"
          ],
          [
           0.5555555555555556,
           "#1f9e89"
          ],
          [
           0.6666666666666666,
           "#35b779"
          ],
          [
           0.7777777777777778,
           "#6ece58"
          ],
          [
           0.8888888888888888,
           "#b5de2b"
          ],
          [
           1,
           "#fde725"
          ]
         ]
        },
        "geo": {
         "center": {},
         "domain": {
          "x": [
           0,
           1
          ],
          "y": [
           0,
           1
          ]
         }
        },
        "legend": {
         "tracegroupgap": 0
        },
        "margin": {
         "t": 60
        },
        "template": {
         "data": {
          "bar": [
           {
            "error_x": {
             "color": "rgb(36,36,36)"
            },
            "error_y": {
             "color": "rgb(36,36,36)"
            },
            "marker": {
             "line": {
              "color": "white",
              "width": 0.5
             },
             "pattern": {
              "fillmode": "overlay",
              "size": 10,
              "solidity": 0.2
             }
            },
            "type": "bar"
           }
          ],
          "barpolar": [
           {
            "marker": {
             "line": {
              "color": "white",
              "width": 0.5
             },
             "pattern": {
              "fillmode": "overlay",
              "size": 10,
              "solidity": 0.2
             }
            },
            "type": "barpolar"
           }
          ],
          "carpet": [
           {
            "aaxis": {
             "endlinecolor": "rgb(36,36,36)",
             "gridcolor": "white",
             "linecolor": "white",
             "minorgridcolor": "white",
             "startlinecolor": "rgb(36,36,36)"
            },
            "baxis": {
             "endlinecolor": "rgb(36,36,36)",
             "gridcolor": "white",
             "linecolor": "white",
             "minorgridcolor": "white",
             "startlinecolor": "rgb(36,36,36)"
            },
            "type": "carpet"
           }
          ],
          "choropleth": [
           {
            "colorbar": {
             "outlinewidth": 1,
             "tickcolor": "rgb(36,36,36)",
             "ticks": "outside"
            },
            "type": "choropleth"
           }
          ],
          "contour": [
           {
            "colorbar": {
             "outlinewidth": 1,
             "tickcolor": "rgb(36,36,36)",
             "ticks": "outside"
            },
            "colorscale": [
             [
              0,
              "#440154"
             ],
             [
              0.1111111111111111,
              "#482878"
             ],
             [
              0.2222222222222222,
              "#3e4989"
             ],
             [
              0.3333333333333333,
              "#31688e"
             ],
             [
              0.4444444444444444,
              "#26828e"
             ],
             [
              0.5555555555555556,
              "#1f9e89"
             ],
             [
              0.6666666666666666,
              "#35b779"
             ],
             [
              0.7777777777777778,
              "#6ece58"
             ],
             [
              0.8888888888888888,
              "#b5de2b"
             ],
             [
              1,
              "#fde725"
             ]
            ],
            "type": "contour"
           }
          ],
          "contourcarpet": [
           {
            "colorbar": {
             "outlinewidth": 1,
             "tickcolor": "rgb(36,36,36)",
             "ticks": "outside"
            },
            "type": "contourcarpet"
           }
          ],
          "heatmap": [
           {
            "colorbar": {
             "outlinewidth": 1,
             "tickcolor": "rgb(36,36,36)",
             "ticks": "outside"
            },
            "colorscale": [
             [
              0,
              "#440154"
             ],
             [
              0.1111111111111111,
              "#482878"
             ],
             [
              0.2222222222222222,
              "#3e4989"
             ],
             [
              0.3333333333333333,
              "#31688e"
             ],
             [
              0.4444444444444444,
              "#26828e"
             ],
             [
              0.5555555555555556,
              "#1f9e89"
             ],
             [
              0.6666666666666666,
              "#35b779"
             ],
             [
              0.7777777777777778,
              "#6ece58"
             ],
             [
              0.8888888888888888,
              "#b5de2b"
             ],
             [
              1,
              "#fde725"
             ]
            ],
            "type": "heatmap"
           }
          ],
          "heatmapgl": [
           {
            "colorbar": {
             "outlinewidth": 1,
             "tickcolor": "rgb(36,36,36)",
             "ticks": "outside"
            },
            "colorscale": [
             [
              0,
              "#440154"
             ],
             [
              0.1111111111111111,
              "#482878"
             ],
             [
              0.2222222222222222,
              "#3e4989"
             ],
             [
              0.3333333333333333,
              "#31688e"
             ],
             [
              0.4444444444444444,
              "#26828e"
             ],
             [
              0.5555555555555556,
              "#1f9e89"
             ],
             [
              0.6666666666666666,
              "#35b779"
             ],
             [
              0.7777777777777778,
              "#6ece58"
             ],
             [
              0.8888888888888888,
              "#b5de2b"
             ],
             [
              1,
              "#fde725"
             ]
            ],
            "type": "heatmapgl"
           }
          ],
          "histogram": [
           {
            "marker": {
             "line": {
              "color": "white",
              "width": 0.6
             }
            },
            "type": "histogram"
           }
          ],
          "histogram2d": [
           {
            "colorbar": {
             "outlinewidth": 1,
             "tickcolor": "rgb(36,36,36)",
             "ticks": "outside"
            },
            "colorscale": [
             [
              0,
              "#440154"
             ],
             [
              0.1111111111111111,
              "#482878"
             ],
             [
              0.2222222222222222,
              "#3e4989"
             ],
             [
              0.3333333333333333,
              "#31688e"
             ],
             [
              0.4444444444444444,
              "#26828e"
             ],
             [
              0.5555555555555556,
              "#1f9e89"
             ],
             [
              0.6666666666666666,
              "#35b779"
             ],
             [
              0.7777777777777778,
              "#6ece58"
             ],
             [
              0.8888888888888888,
              "#b5de2b"
             ],
             [
              1,
              "#fde725"
             ]
            ],
            "type": "histogram2d"
           }
          ],
          "histogram2dcontour": [
           {
            "colorbar": {
             "outlinewidth": 1,
             "tickcolor": "rgb(36,36,36)",
             "ticks": "outside"
            },
            "colorscale": [
             [
              0,
              "#440154"
             ],
             [
              0.1111111111111111,
              "#482878"
             ],
             [
              0.2222222222222222,
              "#3e4989"
             ],
             [
              0.3333333333333333,
              "#31688e"
             ],
             [
              0.4444444444444444,
              "#26828e"
             ],
             [
              0.5555555555555556,
              "#1f9e89"
             ],
             [
              0.6666666666666666,
              "#35b779"
             ],
             [
              0.7777777777777778,
              "#6ece58"
             ],
             [
              0.8888888888888888,
              "#b5de2b"
             ],
             [
              1,
              "#fde725"
             ]
            ],
            "type": "histogram2dcontour"
           }
          ],
          "mesh3d": [
           {
            "colorbar": {
             "outlinewidth": 1,
             "tickcolor": "rgb(36,36,36)",
             "ticks": "outside"
            },
            "type": "mesh3d"
           }
          ],
          "parcoords": [
           {
            "line": {
             "colorbar": {
              "outlinewidth": 1,
              "tickcolor": "rgb(36,36,36)",
              "ticks": "outside"
             }
            },
            "type": "parcoords"
           }
          ],
          "pie": [
           {
            "automargin": true,
            "type": "pie"
           }
          ],
          "scatter": [
           {
            "fillpattern": {
             "fillmode": "overlay",
             "size": 10,
             "solidity": 0.2
            },
            "type": "scatter"
           }
          ],
          "scatter3d": [
           {
            "line": {
             "colorbar": {
              "outlinewidth": 1,
              "tickcolor": "rgb(36,36,36)",
              "ticks": "outside"
             }
            },
            "marker": {
             "colorbar": {
              "outlinewidth": 1,
              "tickcolor": "rgb(36,36,36)",
              "ticks": "outside"
             }
            },
            "type": "scatter3d"
           }
          ],
          "scattercarpet": [
           {
            "marker": {
             "colorbar": {
              "outlinewidth": 1,
              "tickcolor": "rgb(36,36,36)",
              "ticks": "outside"
             }
            },
            "type": "scattercarpet"
           }
          ],
          "scattergeo": [
           {
            "marker": {
             "colorbar": {
              "outlinewidth": 1,
              "tickcolor": "rgb(36,36,36)",
              "ticks": "outside"
             }
            },
            "type": "scattergeo"
           }
          ],
          "scattergl": [
           {
            "marker": {
             "colorbar": {
              "outlinewidth": 1,
              "tickcolor": "rgb(36,36,36)",
              "ticks": "outside"
             }
            },
            "type": "scattergl"
           }
          ],
          "scattermapbox": [
           {
            "marker": {
             "colorbar": {
              "outlinewidth": 1,
              "tickcolor": "rgb(36,36,36)",
              "ticks": "outside"
             }
            },
            "type": "scattermapbox"
           }
          ],
          "scatterpolar": [
           {
            "marker": {
             "colorbar": {
              "outlinewidth": 1,
              "tickcolor": "rgb(36,36,36)",
              "ticks": "outside"
             }
            },
            "type": "scatterpolar"
           }
          ],
          "scatterpolargl": [
           {
            "marker": {
             "colorbar": {
              "outlinewidth": 1,
              "tickcolor": "rgb(36,36,36)",
              "ticks": "outside"
             }
            },
            "type": "scatterpolargl"
           }
          ],
          "scatterternary": [
           {
            "marker": {
             "colorbar": {
              "outlinewidth": 1,
              "tickcolor": "rgb(36,36,36)",
              "ticks": "outside"
             }
            },
            "type": "scatterternary"
           }
          ],
          "surface": [
           {
            "colorbar": {
             "outlinewidth": 1,
             "tickcolor": "rgb(36,36,36)",
             "ticks": "outside"
            },
            "colorscale": [
             [
              0,
              "#440154"
             ],
             [
              0.1111111111111111,
              "#482878"
             ],
             [
              0.2222222222222222,
              "#3e4989"
             ],
             [
              0.3333333333333333,
              "#31688e"
             ],
             [
              0.4444444444444444,
              "#26828e"
             ],
             [
              0.5555555555555556,
              "#1f9e89"
             ],
             [
              0.6666666666666666,
              "#35b779"
             ],
             [
              0.7777777777777778,
              "#6ece58"
             ],
             [
              0.8888888888888888,
              "#b5de2b"
             ],
             [
              1,
              "#fde725"
             ]
            ],
            "type": "surface"
           }
          ],
          "table": [
           {
            "cells": {
             "fill": {
              "color": "rgb(237,237,237)"
             },
             "line": {
              "color": "white"
             }
            },
            "header": {
             "fill": {
              "color": "rgb(217,217,217)"
             },
             "line": {
              "color": "white"
             }
            },
            "type": "table"
           }
          ]
         },
         "layout": {
          "annotationdefaults": {
           "arrowhead": 0,
           "arrowwidth": 1
          },
          "autotypenumbers": "strict",
          "coloraxis": {
           "colorbar": {
            "outlinewidth": 1,
            "tickcolor": "rgb(36,36,36)",
            "ticks": "outside"
           }
          },
          "colorscale": {
           "diverging": [
            [
             0,
             "rgb(103,0,31)"
            ],
            [
             0.1,
             "rgb(178,24,43)"
            ],
            [
             0.2,
             "rgb(214,96,77)"
            ],
            [
             0.3,
             "rgb(244,165,130)"
            ],
            [
             0.4,
             "rgb(253,219,199)"
            ],
            [
             0.5,
             "rgb(247,247,247)"
            ],
            [
             0.6,
             "rgb(209,229,240)"
            ],
            [
             0.7,
             "rgb(146,197,222)"
            ],
            [
             0.8,
             "rgb(67,147,195)"
            ],
            [
             0.9,
             "rgb(33,102,172)"
            ],
            [
             1,
             "rgb(5,48,97)"
            ]
           ],
           "sequential": [
            [
             0,
             "#440154"
            ],
            [
             0.1111111111111111,
             "#482878"
            ],
            [
             0.2222222222222222,
             "#3e4989"
            ],
            [
             0.3333333333333333,
             "#31688e"
            ],
            [
             0.4444444444444444,
             "#26828e"
            ],
            [
             0.5555555555555556,
             "#1f9e89"
            ],
            [
             0.6666666666666666,
             "#35b779"
            ],
            [
             0.7777777777777778,
             "#6ece58"
            ],
            [
             0.8888888888888888,
             "#b5de2b"
            ],
            [
             1,
             "#fde725"
            ]
           ],
           "sequentialminus": [
            [
             0,
             "#440154"
            ],
            [
             0.1111111111111111,
             "#482878"
            ],
            [
             0.2222222222222222,
             "#3e4989"
            ],
            [
             0.3333333333333333,
             "#31688e"
            ],
            [
             0.4444444444444444,
             "#26828e"
            ],
            [
             0.5555555555555556,
             "#1f9e89"
            ],
            [
             0.6666666666666666,
             "#35b779"
            ],
            [
             0.7777777777777778,
             "#6ece58"
            ],
            [
             0.8888888888888888,
             "#b5de2b"
            ],
            [
             1,
             "#fde725"
            ]
           ]
          },
          "colorway": [
           "#1F77B4",
           "#FF7F0E",
           "#2CA02C",
           "#D62728",
           "#9467BD",
           "#8C564B",
           "#E377C2",
           "#7F7F7F",
           "#BCBD22",
           "#17BECF"
          ],
          "font": {
           "color": "rgb(36,36,36)"
          },
          "geo": {
           "bgcolor": "white",
           "lakecolor": "white",
           "landcolor": "white",
           "showlakes": true,
           "showland": true,
           "subunitcolor": "white"
          },
          "hoverlabel": {
           "align": "left"
          },
          "hovermode": "closest",
          "mapbox": {
           "style": "light"
          },
          "paper_bgcolor": "white",
          "plot_bgcolor": "white",
          "polar": {
           "angularaxis": {
            "gridcolor": "rgb(232,232,232)",
            "linecolor": "rgb(36,36,36)",
            "showgrid": false,
            "showline": true,
            "ticks": "outside"
           },
           "bgcolor": "white",
           "radialaxis": {
            "gridcolor": "rgb(232,232,232)",
            "linecolor": "rgb(36,36,36)",
            "showgrid": false,
            "showline": true,
            "ticks": "outside"
           }
          },
          "scene": {
           "xaxis": {
            "backgroundcolor": "white",
            "gridcolor": "rgb(232,232,232)",
            "gridwidth": 2,
            "linecolor": "rgb(36,36,36)",
            "showbackground": true,
            "showgrid": false,
            "showline": true,
            "ticks": "outside",
            "zeroline": false,
            "zerolinecolor": "rgb(36,36,36)"
           },
           "yaxis": {
            "backgroundcolor": "white",
            "gridcolor": "rgb(232,232,232)",
            "gridwidth": 2,
            "linecolor": "rgb(36,36,36)",
            "showbackground": true,
            "showgrid": false,
            "showline": true,
            "ticks": "outside",
            "zeroline": false,
            "zerolinecolor": "rgb(36,36,36)"
           },
           "zaxis": {
            "backgroundcolor": "white",
            "gridcolor": "rgb(232,232,232)",
            "gridwidth": 2,
            "linecolor": "rgb(36,36,36)",
            "showbackground": true,
            "showgrid": false,
            "showline": true,
            "ticks": "outside",
            "zeroline": false,
            "zerolinecolor": "rgb(36,36,36)"
           }
          },
          "shapedefaults": {
           "fillcolor": "black",
           "line": {
            "width": 0
           },
           "opacity": 0.3
          },
          "ternary": {
           "aaxis": {
            "gridcolor": "rgb(232,232,232)",
            "linecolor": "rgb(36,36,36)",
            "showgrid": false,
            "showline": true,
            "ticks": "outside"
           },
           "baxis": {
            "gridcolor": "rgb(232,232,232)",
            "linecolor": "rgb(36,36,36)",
            "showgrid": false,
            "showline": true,
            "ticks": "outside"
           },
           "bgcolor": "white",
           "caxis": {
            "gridcolor": "rgb(232,232,232)",
            "linecolor": "rgb(36,36,36)",
            "showgrid": false,
            "showline": true,
            "ticks": "outside"
           }
          },
          "title": {
           "x": 0.05
          },
          "xaxis": {
           "automargin": true,
           "gridcolor": "rgb(232,232,232)",
           "linecolor": "rgb(36,36,36)",
           "showgrid": false,
           "showline": true,
           "ticks": "outside",
           "title": {
            "standoff": 15
           },
           "zeroline": false,
           "zerolinecolor": "rgb(36,36,36)"
          },
          "yaxis": {
           "automargin": true,
           "gridcolor": "rgb(232,232,232)",
           "linecolor": "rgb(36,36,36)",
           "showgrid": false,
           "showline": true,
           "ticks": "outside",
           "title": {
            "standoff": 15
           },
           "zeroline": false,
           "zerolinecolor": "rgb(36,36,36)"
          }
         }
        },
        "title": {
         "text": "Meteroite fall Location before year 1970"
        }
       }
      },
      "text/html": [
       "<div>                            <div id=\"1a81f88d-554e-4069-8cc8-0a6f98097b17\" class=\"plotly-graph-div\" style=\"height:525px; width:100%;\"></div>            <script type=\"text/javascript\">                require([\"plotly\"], function(Plotly) {                    window.PLOTLYENV=window.PLOTLYENV || {};                                    if (document.getElementById(\"1a81f88d-554e-4069-8cc8-0a6f98097b17\")) {                    Plotly.newPlot(                        \"1a81f88d-554e-4069-8cc8-0a6f98097b17\",                        [{\"customdata\":[[21.0],[720.0],[107000.0],[780.0],[4239.0],[910.0],[30000.0],[1620.0],[1440.0],[24000.0],[null],[779.0],[1800.0],[3000.0],[160.0],[6000.0],[2000.0],[625.0],[700.0],[3200.0],[908.0],[9251.0],[228000.0],[32000.0],[2000000.0],[6400.0],[2700.0],[3200.0],[600.0],[17900.0],[null],[1500.0],[6500.0],[15000.0],[3200.0],[810.0],[5070.0],[7450.0],[41.0],[1300.0],[2000.0],[1280.0],[94.2],[265.0],[1384.2],[800.0],[50000.0],[2000.0],[50000.0],[9330.0],[1230.0],[146.0],[134.0],[2830.0],[18000.0],[10322.0],[3700.0],[345.0],[1000.0],[11500.0],[15000.0],[14.0],[629.0],[6400.0],[null],[3200.0],[23.2],[17.0],[4500.0],[44000.0],[21000.0],[86000.0],[611.0],[16000.0],[14000.0],[794.0],[375.0],[null],[3700.0],[1770.5],[3880.0],[2840.0],[18000.0],[1440.0],[13.9],[2000.0],[1100.0],[18.0],[100.0],[1047.0],[2500.0],[4000.0],[1900.0],[560.0],[6000.0],[1039.0],[1850.0],[330000.0],[705.0],[2381.0],[5100.0],[470.0],[67.8],[56.0],[8800.0],[256000.0],[1676.0],[8600.0],[1342.0],[7000.0],[500.0],[614.0],[5460.0],[762.0],[39000.0],[1500.0],[7250.0],[219.0],[303000.0],[2250.0],[357.0],[120000.0],[25000.0],[5000.0],[1500.0],[29000.0],[25000.0],[48500.0],[212.0],[2400.0],[4000.0],[945.0],[34000.0],[2300.0],[750.0],[8.0],[7300.0],[null],[94.0],[15000.0],[1360.0],[45.6],[6460.0],[0.5],[8200.0],[18300.0],[8800.0],[1100.0],[31500.0],[4300.0],[27000.0],[12000.0],[4000.0],[30000.0],[2945.0],[6000.0],[8400.0],[705.0],[1700.0],[72.0],[303.0],[null],[48.6],[104000.0],[5200.0],[5000.0],[20350.0],[1200.0],[1460.0],[78.4],[3650.0],[167.0],[4255.0],[17000.0],[6000.0],[5650.0],[1064.0],[2000.0],[100.0],[340.0],[28.0],[0.8],[16400.0],[230.0],[25400.0],[1800.0],[32000.0],[1000.0],[400.0],[166000.0],[3950.0],[3840.0],[1600.0],[438.0],[230.0],[3891.0],[1250.0],[1161.0],[5000.0],[47700.0],[1900.0],[2270.0],[13200.0],[577.0],[2117.0],[300.0],[188.0],[10000.0],[2400.0],[3000.0],[3336.0],[840.0],[107000.0],[54640.0],[1470.0],[127.0],[127000.0],[277.0],[113.0],[107.2],[20000.0],[2250.0],[1500.0],[500.0],[320000.0],[89400.0],[56000.0],[1500.0],[2360.0],[380.0],[3200.0],[82.0],[220.0],[17600.0],[3640.0],[152000.0],[26000.0],[6067.0],[240.0],[16300.0],[null],[650.0],[23000.0],[11620.0],[null],[4000.0],[132.7],[36.1],[28.0],[6400.0],[null],[380.0],[102.0],[725.0],[14290.0],[18000.0],[480.0],[1303.0],[152000.0],[1750.0],[1600.0],[9000.0],[3500.0],[10500.0],[8000.0],[1000.0],[690.0],[22000.0],[39000.0],[1915.0],[968.0],[5700.0],[28.0],[1000.0],[1320.0],[0.2],[9000.0],[1456.0],[3710.0],[1000.0],[315.0],[8360.0],[680.0],[1110.6],[1250.0],[29000.0],[3500.0],[6100.0],[1000.0],[20000.0],[750.0],[4500.0],[305.5],[220000.0],[1415.0],[230000.0],[2420.0],[180.0],[266.1],[49000.0],[112.0],[14000.0],[2000.0],[2500.0],[null],[3973.0],[3457.0],[27000.0],[880.0],[3000.0],[1300.0],[3050.0],[2024.0],[704.5],[48000.0],[973.0],[1967.0],[22.0],[34000.0],[450.0],[5900.0],[222.0],[600000.0],[30.0],[40300.0],[5000.0],[680.0],[25250.0],[91000.0],[3000.0],[89.0],[230.0],[1900.0],[200000.0],[350.0],[577.0],[950.0],[4500.0],[2770.0],[448.0],[1293.0],[299.0],[1630.0],[400.0],[11355.0],[3500.0],[3000.0],[2220.0],[180.0],[22000.0],[2950.0],[41730.0],[710.0],[85000.0],[3300.0],[6937.0],[5000.0],[80000.0],[135000.0],[13600.0],[3698.0],[1500.0],[450.0],[100.0],[6109.0],[9700.0],[3200.0],[737.6],[331.0],[195.0],[772.0],[140.0],[67.4],[97.7],[1550.0],[3250.0],[500000.0],[238.0],[90.0],[16500.0],[2440.0],[4000.0],[845.2],[50000.0],[2250.0],[453.6],[6000.0],[3719.0],[200000.0],[4460.0],[5.0],[45000.0],[4047.0],[45000.0],[2800.0],[399.0],[2000.0],[3833.0],[900.0],[37000.0],[212.5],[372.0],[51700.0],[7000.0],[2300.0],[7000.0],[1060.0],[800.0],[3000.0],[780.0],[51500.0],[460.0],[877.0],[700.0],[125.0],[2000.0],[6862.0],[50000.0],[1862.0],[12800.0],[491.0],[5213.0],[1000.0],[25.0],[59000.0],[9241.0],[3500.0],[340.0],[11000.0],[885.0],[14000.0],[null],[540.0],[1500.0],[1995.0],[1000.0],[400.0],[400.0],[600.0],[5000.0],[150.0],[470.0],[null],[807.0],[1000.0],[1700.0],[50.0],[22300.0],[3555.0],[4500.0],[114.0],[340.0],[3200.0],[28400.0],[45000.0],[3000.0],[1000.0],[1600.0],[19000.0],[220.0],[4000.0],[4975.0],[31.0],[22.0],[24750.0],[10500.0],[28.9],[4000.0],[6000.0],[71400.0],[2405.0],[870.0],[1300.0],[22700.0],[350.0],[1600.0],[8000.0],[224.2],[10000.0],[330000.0],[16700.0],[1040.0],[42.0],[5500.0],[550.0],[8510.0],[5800.0],[100.7],[300000.0],[35000.0],[4500.0],[144000.0],[150.0],[8600.0],[4885.0],[3130.0],[149000.0],[500.0],[null],[1880.0],[3520.0],[8887.5],[70.0],[1300.0],[1500.0],[9150.0],[11300.0],[17000.0],[1100.0],[4400.0],[25.5],[4703.0],[100000.0],[12600.0],[1245.0],[null],[8165.0],[1810.0],[20.0],[6100.0],[10000.0],[23200.0],[4500.0],[52900.0],[7500.0],[17000.0],[367.5],[null],[347.0],[105.0],[4500.0],[10250.0],[230000.0],[1393.0],[37500.0],[null],[3.3],[3.3],[3996.0],[6000.0],[467.0],[17200.0],[2300.0],[472.0],[4000.0],[1050.0],[1100000.0],[1900.0],[null],[1001.0],[250.0],[5000.0],[363.0],[737.6],[1100.0],[500000.0],[1400.0],[6000.0],[3750.0],[14360.0],[16250.0],[7700.0],[5850.0],[194.0],[4742.0],[12000.0],[16570.0],[null],[150000.0],[40000.0],[14000.0],[6000.0],[4500.0],[3400.0],[246.0],[6510.0],[840.0],[121.5],[205.0],[null],[3400.0],[3858.0],[515.0],[null],[18000.0],[135.0],[682.0],[10500.0],[2130.0],[408000.0],[2000.0],[100000.0],[77600.0],[800.0],[5100.0],[4375.0],[2121.0],[12.0],[37350.0],[2968.0],[142.5],[40000.0],[2000.0],[45760.0],[117.8],[70000.0],[165.0],[23474.0],[2.0],[66000.0],[3393.0],[1800.0],[null],[57900.0],[500.0],[7800.0],[11000.0],[13.1],[null],[23250.0],[37.0],[842.0],[1161.0],[3760.0],[2085.0],[39.0],[96.0],[3000.0],[350.0],[253.6],[157.0],[4500.0],[665.0],[2125.0],[5555.0],[900.0],[560.0],[250000.0],[100.0],[300000.0],[7000.0],[6045.0],[10750.0],[65.0],[5000.0],[9000.0],[3766.0],[100.0],[4682.0],[290.4],[300.0],[3224.5],[4910.0],[6.1],[24700.0],[910.0],[17300.0],[10000.0],[1000.0],[300.0],[355.0],[7000.0],[1.0],[3332.0],[668.0],[20000.0],[90000.0],[1800.0],[1310.0],[103.3],[340.0],[1641.0],[400.0],[2900.0],[10600.0],[3500.0],[67.0],[6000.0],[13000.0],[1250.0],[null],[14000.0],[271000.0],[4180.0],[9000.0],[2462.0],[282.0],[460.0],[400.0],[60.0],[5500.0],[927.0],[200000.0],[695.0],[4000.0],[2500.0],[412.0],[7000.0],[283.3],[8000.0],[5400.0],[240.0],[6930.0],[1590.0],[150.0],[691.0],[4000.0],[20000.0],[8500.0],[1800.0],[350.0],[180.0],[101000.0],[4000.0],[1265.0],[18600.0],[5000.0],[3679.7],[5000.0],[3200.0],[3700.0],[23000000.0],[0.15],[1222.0],[1455.0],[8400.0],[2000.0],[4100.0],[1600.0],[850.0],[1708.0],[2750.0],[72.9],[80000.0],[54.0],[17100.0],[958.0],[2050.0],[360.0],[5500.0],[700.0],[4000.0],[1000.0],[13780.0],[24.3],[8300.0],[17000.0],[134.3],[34000.0],[52000.0],[1500.0],[4960.0],[null],[13400.0],[10400.0],[3500.0],[815.3],[1710.5],[637.0],[7235.0],[5560.0],[7540.0],[9000.0],[720.0],[905.0],[3850.0],[12000.0],[2500.0],[6000.0],[21000.0],[160000.0],[28500.0],[342.0],[28000.0],[74800.0],[65500.0],[230.0],[20000.0],[16500.0],[600.0]],\"geo\":\"geo\",\"hovertemplate\":\"<b>%{hovertext}</b><br><br>Reclat=%{lat}<br>Reclong=%{lon}<br>Mass=%{customdata[0]}<br>Year=%{marker.color}<extra></extra>\",\"hovertext\":[\"Aachen\",\"Aarhus\",\"Abee\",\"Achiras\",\"Adhi Kot\",\"Adzhi-Bogdo (stone)\",\"Agen\",\"Aguada\",\"Aguila Blanca\",\"A\\u00efr\",\"Aire-sur-la-Lys\",\"Akaba\",\"Akbarpur\",\"Akwanga\",\"Al Rais\",\"Alais\",\"Albareto\",\"Alberta\",\"Aldsworth\",\"Aleppo\",\"Alessandria\",\"Alexandrovsky\",\"Alfianello\",\"Allegan\",\"Allende\",\"Ambapur Nagla\",\"Andhara\",\"Andover\",\"Andreevka\",\"Andura\",\"Angers\",\"Angra dos Reis (stone)\",\"Ankober\",\"Appley Bridge\",\"Apt\",\"Arbol Solo\",\"Archie\",\"Arroyo Aguiar\",\"Asco\",\"Ashdon\",\"Assisi\",\"Atarra\",\"Atemajac\",\"Athens\",\"Atoka\",\"Aubres\",\"Aumale\",\"Aumieres\",\"Ausson\",\"Avanhandava\",\"Avce\",\"Avilez\",\"Awere\",\"Aztec\",\"Bachmut\",\"Bahjoi\",\"Bald Mountain\",\"Baldwyn\",\"Bali\",\"Bandong\",\"Bansur\",\"Banswal\",\"Banten\",\"Barbotan\",\"Barcelona (stone)\",\"Barea\",\"Barnaul\",\"Barntrup\",\"Baroti\",\"Barwell\",\"Bath\",\"Bath Furnace\",\"Baxter\",\"Beardsley\",\"Beaver Creek\",\"Beddgelert\",\"Bells\",\"Belville\",\"Benares (a)\",\"Benld\",\"Benoni\",\"Benton\",\"B\\u00e9r\\u00e9ba\",\"Berlanguillas\",\"Bethlehem\",\"Beuste\",\"Beyrout\",\"Bhagur\",\"Bherai\",\"Bhola\",\"Bholghati\",\"Bialystok\",\"Bielokrynitschie\",\"Birni N'konni\",\"Bishopville\",\"Bishunpur\",\"Bjelaja Zerkov\",\"Bjurb\\u00f6le\",\"Black Moshannan Park\",\"Blackwell\",\"Blanket\",\"Blansko\",\"Bloomington\",\"Bocas\",\"Bogou\",\"Boguslavka\",\"Borgo San Donino\",\"Bori\",\"Boriskino\",\"Borkut\",\"Borodino\",\"Botschetschki\",\"Bovedy\",\"Bradford Woods\",\"Braunau\",\"Breitscheid\",\"Bremerv\\u00f6rde\",\"Brient\",\"Bruderheim\",\"Bulls Run\",\"Bununu\",\"Bur-Gheluai\",\"Bursa\",\"Buschhof\",\"Bustee\",\"Butsura\",\"Cabezo de Mayo\",\"Cabin Creek\",\"Cacak\",\"Calivo\",\"\\u00c7anakkale\",\"Ca\\u00f1ellas\",\"Cangas de Onis\",\"Cape Girardeau\",\"Capilla del Monte\",\"Caratash\",\"Castalia\",\"Castel Berardenga\",\"Castine\",\"Castrovillari\",\"Caswell County\",\"Centerville\",\"Cereseto\",\"Chail\",\"Chainpur\",\"Chajari\",\"Chandakapur\",\"Chandpur\",\"Chantonnay\",\"Charlotte\",\"Charsonville\",\"Charwallas\",\"Chassigny\",\"Ch\\u00e2teau-Renard\",\"Chaves\",\"Chernyi Bor\",\"Cherokee Springs\",\"Chervettaz\",\"Chervony Kut\",\"Chetrinahatti\",\"Chicora\",\"Chitado\",\"Clohars\",\"Colby (Wisconsin)\",\"Cold Bokkeveld\",\"Collescipoli\",\"Conquista\",\"Cosina\",\"Cranganore\",\"Crescent\",\"Cronstad\",\"Cross Roads\",\"Crumlin\",\"Cumberland Falls\",\"Cynthiana\",\"Dandapur\",\"Daniel's Kuil\",\"Danville\",\"Darmstadt\",\"De Cewsville\",\"Deal\",\"Delhi\",\"Demina\",\"Denver\",\"Desuri\",\"Dharwar\",\"Dhurmsala\",\"Diep River\",\"Distrito Quebracho\",\"Djati-Pengilon\",\"Djermaia\",\"Dokachi\",\"Dolgovoli\",\"Domanitch\",\"Donga Kohrod\",\"Doroninsk\",\"Dosso\",\"Douar Mghila\",\"Drake Creek\",\"Dresden (Ontario)\",\"Dubrovnik\",\"Dundrum\",\"Durala\",\"Duruma\",\"Duwun\",\"Dyalpur\",\"Dyarrl Island\",\"Eagle\",\"Ehole\",\"Eichst\\u00e4dt\",\"Ekeby\",\"Ekh Khera\",\"Elbogen\",\"Elenovka\",\"Ellemeet\",\"Emmaville\",\"Ensisheim\",\"\\u00c9pinal\",\"Erakot\",\"Erevan\",\"Ergheo\",\"Erxleben\",\"Esnandes\",\"Essebi\",\"Estherville\",\"Farmington\",\"Farmville\",\"Favars\",\"Fayetteville\",\"Feid Chair\",\"Felix\",\"Fenghsien-Ku\",\"Ferguson\",\"Fisher\",\"Florence\",\"Forest City\",\"Forest Vale\",\"Forksville\",\"Forsbach\",\"Forsyth\",\"Fort Flatters\",\"Frankfort (stone)\",\"Fuhe\",\"Fukutomi\",\"F\\u00fcnen\",\"Futtehpur\",\"Galapian\",\"Galim (a)\",\"Galim (b)\",\"Gambat\",\"Gao-Guenie\",\"Garhi Yasin\",\"Garland\",\"Geidam\",\"Gifu\",\"Girgenti\",\"Git-Git\",\"Glanggang\",\"Glasatovo\",\"Gnadenfrei\",\"Gopalpur\",\"Granes\",\"Grosnaja\",\"Gross-Divina\",\"Grossliebenthal\",\"Gr\\u00fcneberg\",\"Grzempach\",\"Gualeguaych\\u00fa\",\"Guare\\u00f1a\",\"Gu\\u00eaa\",\"Guidder\",\"Gumoschnik\",\"Gurram Konda\",\"G\\u00fctersloh\",\"Gyokukei\",\"Hachi-oji\",\"Hainaut\",\"Hallingeberg\",\"Hamlet\",\"Haraiya\",\"Haripura\",\"Harleton\",\"Harrison County\",\"Hashima\",\"Hassi-Jekna\",\"Hatford\",\"Hedeskoga\",\"Hedjaz\",\"Heredia\",\"Hessle\",\"Higashi-koen\",\"High Possil\",\"H\\u00f6kmark\",\"Holbrook\",\"Holetta\",\"Homestead\",\"Honolulu\",\"Hotse\",\"Hoxie\",\"Hraschina\",\"Hungen\",\"Hvittis\",\"Ibbenb\\u00fcren\",\"Ibitira\",\"Ibrisim\",\"Ichkala\",\"Idutywa\",\"Indarch\",\"Independence\",\"Inner Mongolia\",\"Ishinga\",\"Isthilart\",\"Itapicuru-Mirim\",\"Ivuna\",\"Jackalsfontein\",\"Jajh deh Kot Lalu\",\"Jalandhar\",\"Jamkheir\",\"Jelica\",\"Jemlapur\",\"Jhung\",\"Jiange\",\"Jianshi\",\"Jodzie\",\"Johnstown\",\"Jonzac\",\"Judesegeri\",\"Juromenha\",\"Juvinas\",\"Kaba\",\"Kadonah\",\"Kaee\",\"Kagarlyk\",\"Kainsaz\",\"Kakangari\",\"Kakowa\",\"Kalaba\",\"Kalumbi\",\"Kamalpur\",\"Kamiomi\",\"Kamsagar\",\"Kandahar (Afghanistan)\",\"Kangean\",\"Kangra Valley\",\"Kapoeta\",\"Kaptal-Aryk\",\"Karakol\",\"Karatu\",\"Karewar\",\"Karkh\",\"Karloowala\",\"Karoonda\",\"Kasamatsu\",\"Kayakent\",\"Kediri\",\"Kendleton\",\"Kerilis\",\"Kernouve\",\"Kesen\",\"Khairpur\",\"Khanpur\",\"Kharkov\",\"Kheragur\",\"Khetri\",\"Khmelevka\",\"Khohar\",\"Khor Temiki\",\"Kiel\",\"Kijima (1906)\",\"Kikino\",\"Kilbourn\",\"Killeter\",\"Kingai\",\"Kirbyville\",\"Kisvars\\u00e1ny\",\"Klein-Wenden\",\"Knyahinya\",\"Komagome\",\"Konovo\",\"Kr\\u00e4henberg\",\"Krasnoi-Ugol\",\"Krasnyi Klyuch\",\"Krutikha\",\"Krymka\",\"Kukschin\",\"Kulak\",\"Kuleschovka\",\"Kulp\",\"Kunashak\",\"Kushiike\",\"Kusiali\",\"Kuttippuram\",\"Kuznetzovo\",\"Kyushu\",\"La B\\u00e9casse\",\"La Charca\",\"La Colina\",\"Laborel\",\"Lahrauli\",\"L'Aigle\",\"Lakangaon\",\"Lalitpur\",\"Lanc\\u00e9\",\"Lancon\",\"L\\u00e5nghalsen\",\"Lanzenkirchen\",\"Launton\",\"Lavrentievka\",\"Le Pressoir\",\"Le Teilleul\",\"Leedey\",\"Leeuwfontein\",\"Leighton\",\"Leonovka\",\"Les Ormes\",\"Lesves\",\"Lillaverke\",\"Limerick\",\"Linum\",\"Lissa\",\"Little Piney\",\"Lixna\",\"Lodran\",\"Los Martinez\",\"\\u0141owicz\",\"Lua\",\"Luc\\u00e9\",\"Lumpkin\",\"Lundsg\\u00e5rd\",\"Luotolax\",\"Luponnas\",\"Lusaka\",\"Mabwe-Khoywa\",\"Macau\",\"Macibini\",\"Madhipura\",\"Madiun\",\"Madrid\",\"Mafra\",\"Magnesia\",\"Malaga\",\"Malampaka\",\"Malotas\",\"Malvern\",\"Mamra Springs\",\"Manbhoom\",\"Manegaon\",\"Mangwendi\",\"Manych\",\"Mardan\",\"Maria Linden\",\"Mariaville\",\"Maridi\",\"Marion (Iowa)\",\"Marjalahti\",\"Marmande\",\"Mascombes\",\"M\\u00e4ssing\",\"Mauerkirchen\",\"Mauritius\",\"Mazapil\",\"Maziba\",\"Medanitos\",\"Meerut\",\"Meester-Cornelis\",\"Menow\",\"Menziswyl\",\"Mern\",\"Meru\",\"Merua\",\"Messina\",\"Meuselbach\",\"Mezel\",\"Mez\\u00f6-Madaras\",\"Mhow\",\"Middlesbrough\",\"Mighei\",\"Mike\",\"Milena\",\"Millbillillie\",\"Miller (Arkansas)\",\"Minamino\",\"Mineo\",\"Min-Fan-Zhun\",\"Minnichhof\",\"Mirzapur\",\"Misshof\",\"Mjelleim\",\"Mocs\",\"Modoc (1905)\",\"Mokoia\",\"Molina\",\"Molteno\",\"Monroe\",\"Monte das Fortes\",\"Monte Milone\",\"Montferr\\u00e9\",\"Montlivault\",\"Monze\",\"Moore County\",\"Mooresfort\",\"Moorleah\",\"Moradabad\",\"Mornans\",\"Moti-ka-nagla\",\"Motta di Conti\",\"Mount Browne\",\"Mount Vaisi\",\"Mtola\",\"Muddoor\",\"Mulletiwu\",\"Muraid\",\"Murchison\",\"Murray\",\"Muzaffarpur\",\"Myhee Caunta\",\"Nadiabondi\",\"Nagai\",\"Nagaria\",\"Nagy-Borov\\u00e9\",\"Nakhla\",\"Nakhon Pathom\",\"Nammianthal\",\"Nan Yang Pao\",\"Nanjemoy\",\"Naoki\",\"Narellan\",\"Narni\",\"Nassirah\",\"Nawapali\",\"Nedagolla\",\"Nerft\",\"New Concord\",\"Ngawi\",\"N'Goureyma\",\"Nicorps\",\"Niger (L6)\",\"Niger (LL6)\",\"Nikolaevka\",\"Nikolskoe\",\"Nio\",\"N'Kandhla\",\"Nobleborough\",\"Nogata\",\"Nogoya\",\"Norfork\",\"Norton County\",\"Novo-Urei\",\"Novy-Ergi\",\"Novy-Projekt\",\"Noyan-Bogdo\",\"Nulles\",\"Numakai\",\"Nyaung\",\"Nyir\\u00e1brany\",\"Ochansk\",\"Oesede\",\"Oesel\",\"Ofeh\\u00e9rt\\u00f3\",\"Ogi\",\"Ohaba\",\"Ohuma\",\"Ojuelos Altos\",\"Okabe\",\"Okano\",\"Okniny\",\"Oldenburg (1930)\",\"Oliva-Gandia\",\"Olivenza\",\"Olmedilla de Alarc\\u00f3n\",\"Orgueil\",\"Ornans\",\"Ortenau\",\"Orvinio\",\"Oter\\u00f8y\",\"Otomi\",\"Ottawa\",\"Ovambo\",\"Oviedo\",\"Owrucz\",\"Pacula\",\"Padvarninkai\",\"Paitan\",\"Palahatchie\",\"Palinshih\",\"Palmyra\",\"Palolo Valley\",\"Pampanga\",\"Pantar\",\"Paragould\",\"Parambu\",\"Paranaiba\",\"Parnallee\",\"Parsa\",\"Pasamonte\",\"Patora\",\"Patrimonio\",\"Patti\",\"Patwar\",\"Pavel\",\"Pavlodar (stone)\",\"Pavlograd\",\"Pavlovka\",\"Peace River\",\"Peckelsheim\",\"Pe\\u00f1a Blanca Spring\",\"Peramiho\",\"Perpeti\",\"Perth\",\"Pervomaisky\",\"Pesyanoe\",\"Petersburg\",\"Pettiswood\",\"Phillips County (stone)\",\"Phu Hong\",\"Phum Sambo\",\"Phuoc-Binh\",\"Piancaldoli\",\"Picote\",\"Pillistfer\",\"Piquetberg\",\"Pirgunje\",\"Pirthalla\",\"Pitts\",\"Plantersville\",\"Ploschkovitz\",\"Pnompehn\",\"Pohlitz\",\"Pokhra\",\"Pollen\",\"Pontlyfni\",\"Portugal\",\"Po-wang Chen\",\"Prambachkirchen\",\"Pribram\",\"Pricetown\",\"Pulsora\",\"Pultusk\",\"Punganaru\",\"Putinga\",\"Queen's Mercy\",\"Quenggouk\",\"Quesa\",\"Quincay\",\"Raco\",\"Rakovka\",\"Ramnagar\",\"Rampurhat\",\"Ramsdorf\",\"Ranchapur\",\"Rancho de la Presa\",\"Rangala\",\"Raoyang\",\"Ras Tanura\",\"Rasgrad\",\"Ratyn\",\"Reliegos\",\"Rembang\",\"Renazzo\",\"Renca\",\"Renqiu\",\"Repeev Khutor\",\"Revelstoke\",\"Rewari\",\"Rich Mountain\",\"Uzcudun\",\"Richardton\",\"Richmond\",\"Rio Negro\",\"Rivolta de Bassi\",\"Rochester\",\"Rockhampton\",\"Roda\",\"Rodach\",\"Rose City\",\"Rowton\",\"Rumuruti\",\"Rupota\",\"Ryechki\",\"Sabetmahet\",\"Sagan\",\"Saint-Sauveur\",\"Saint-S\\u00e9verin\",\"Sakauchi\",\"Salles\",\"Samelia\",\"San Pedro de Quiles\",\"San Pedro Jacuaro\",\"Santa Barbara\",\"Santa Cruz\",\"Santa Isabel\",\"S\\u00e3o Jose do Rio Preto\",\"Saratov\",\"Sasagase\",\"Sauguis\",\"Savtschenskoje\",\"Sazovice\",\"Schellin\",\"Schenectady\",\"Sch\\u00f6nenberg\",\"Searsmont\",\"Sedik\\u00f6y\",\"Segowlie\",\"Selakopi\",\"Seldebourak\",\"Semarkona\",\"Sena\",\"Seoni\",\"Seres\",\"Serra de Mag\\u00e9\",\"Sete Lagoas\",\"Sevilla\",\"Sevrukovo\",\"Shalka\",\"Sharps\",\"Shelburne\",\"Shergotty\",\"Shikarpur\",\"Shupiyan\",\"Shytal\",\"Siena\",\"Sikhote-Alin\",\"Silistra\",\"Simmern\",\"Sinai\",\"Sindhri\",\"Sinnai\",\"Sioux County\",\"Sitathali\",\"Ski\",\"Slavetic\",\"Slobodka\",\"Soheria\",\"Soko-Banja\",\"Sologne\",\"Sone\",\"Sopot\",\"Soroti\",\"St. Caprais-de-Quinsac\",\"St. Christophe-la-Chartreuse\",\"St. Denis Westrem\",\"St. Germain-du-Pinel\",\"St. Louis\",\"St. Mark's\",\"St. Mary's County\",\"St. Mesmin\",\"St. Michel\",\"St.-Chinian\",\"St\\u00e4lldalen\",\"Stannern\",\"Stavropol\",\"Ste. Marguerite\",\"Stolzenau\",\"Strathmore\",\"Stretchleigh\",\"Success\",\"Suchy Dul\",\"Sultanpur\",\"Sungach\",\"Supuhee\",\"Sylacauga\",\"Tabor\",\"Tadjera\",\"Takenouchi\",\"Tan\\u00e9\",\"Taonan\",\"Tatahouine\",\"Tathlith\",\"Tauk\",\"Tauti\",\"Tenham\",\"Tennasilm\",\"Thal\",\"Tieschitz\",\"Tilden\",\"Timochin\",\"Tirupati\",\"Tjabe\",\"Tjerebon\",\"Tomakovka\"],\"lat\":[50.775,56.18333,54.21667,-33.16667,32.1,44.83333,44.21667,-31.6,-30.86667,19.08333,50.66667,29.51667,29.71667,8.91667,24.41667,44.11667,44.65,2.0,51.78333,36.23333,44.88333,50.95,45.26667,42.53333,26.96667,27.66667,26.58333,44.61667,48.7,20.88333,47.46667,-22.96667,9.53333,53.58333,43.86667,-33.0,38.5,-31.41667,42.45,52.05,43.03333,25.25417,20.06667,34.75,34.31667,44.38333,36.16667,44.33333,43.08333,-21.46028,46.0,25.0,2.71667,36.8,48.6,28.48333,35.96667,34.5,5.38333,-6.91667,27.7,30.4,-6.33333,43.95,41.36667,42.38333,52.73333,52.0,31.61667,52.56528,45.41667,38.25,36.75,39.8,51.16667,53.01667,33.6,-32.33333,25.36667,39.08333,-26.16667,45.95,11.65,41.68333,42.53333,43.21667,33.88333,20.88333,20.83333,22.68333,22.08333,53.1,50.13333,13.76667,34.16667,25.38333,49.78333,60.4,40.91667,36.83333,31.83333,49.36667,40.48,23.0,12.5,44.55,44.86667,21.95,54.23333,48.15,55.46667,51.33333,54.56667,40.5,50.6,50.66694,53.4,52.13333,53.9,null,10.01667,5.0,40.2,46.45,26.78333,27.08333,37.98333,35.5,43.83889,11.75,39.8,41.25,43.38333,37.26667,-30.88333,38.5,36.08333,43.35,44.38333,39.8,36.5,43.2,45.08333,25.36667,25.85,-30.78333,20.26667,27.28333,46.68333,36.16667,47.93333,29.48333,47.71667,47.93333,41.93333,53.7,35.03333,46.55,50.83333,14.5,40.93333,-17.35,null,44.9,-33.13333,42.53333,-19.85,21.16667,10.2,35.95,-27.7,35.63333,54.61667,36.83333,38.4,26.91667,-28.2,34.4,49.86667,43.0,40.25,28.56667,51.46667,39.7825,25.73333,14.88333,32.23333,-33.75,-31.88333,-7.5,12.73333,23.5,50.75,40.0,21.86667,51.2,13.05,32.33333,36.4,42.52,42.45833,52.55,30.3,-4.0,33.43333,26.25,-3.0,40.78167,-17.3,48.9,56.03333,28.26667,50.18333,47.83333,51.75,-29.46667,47.86667,48.18333,19.03333,40.3,1.16667,52.21667,46.25,2.88333,43.41667,39.75,35.55,44.38333,36.05,36.88333,32.53333,34.6,36.1,47.81667,30.83333,43.25,-33.35,36.78333,50.95,33.01667,28.25,34.48333,31.47556,33.18333,55.33333,25.95,44.3,7.05,7.05,27.35,11.65,27.88333,41.68333,12.91667,35.53333,37.31667,9.6,-7.25,57.35,50.66667,24.23333,42.9,43.66667,49.26667,46.35,51.93333,52.86667,-33.0,38.73333,43.76667,9.91667,42.9,13.78333,51.91667,35.0,35.65,50.31667,57.81667,41.38333,26.8,28.38333,32.675,38.25,35.2945,28.95,51.65,55.46667,27.33333,10.0,59.85,33.6,55.9,64.43333,34.9,9.06667,41.8,21.3,35.66667,39.35,46.1,50.3,61.18333,52.28333,-20.0,38.0,58.2,-32.1,39.75,39.08333,41.0,-8.93333,-31.18333,-3.4,-8.41667,-32.5,26.75,31.0,18.75,43.83333,null,31.3,31.91667,30.80833,55.7,40.35,45.43333,12.85,38.74028,44.71667,47.35,27.08333,27.25,49.86667,55.43333,12.38333,45.13333,-6.83333,17.83333,26.03333,36.04167,14.18333,31.6,-7.0,32.08333,4.7,42.45,47.21667,-3.5,12.9,27.8,31.58333,-35.08333,35.36667,39.26333,-7.75,29.45,48.4,48.11667,38.98333,29.53333,25.55,50.625,26.95,28.01667,56.75,25.1,16.0,54.4,36.85,55.0,43.58333,54.66667,11.63333,30.75,48.16667,51.6,48.9,35.73333,42.51667,49.32694,54.03333,54.33333,56.8,47.83333,51.15,30.73111,50.75,41.11667,55.78333,37.05,29.68333,10.83333,55.2,32.03333,47.08333,20.66667,-37.33333,44.28333,26.78333,48.76667,21.86667,24.45,47.7,43.75,58.85,47.75,51.9,52.45,47.16667,48.53333,35.88333,-25.66667,34.58333,52.26667,48.35,50.36667,56.65,52.56667,52.75,50.2,37.91667,56.0,29.53333,38.0,52.0,24.95,47.85,32.03333,56.21667,61.2,46.21667,-7.21667,19.0,-5.2,-28.83333,25.91667,-7.75,40.41667,-26.16667,37.86667,32.21667,-3.13333,-28.93333,-29.45,45.21667,23.05,20.96667,-17.65,45.81667,34.23333,null,42.71667,4.66667,41.9,61.5,44.5,45.36667,48.13333,48.18333,-20.0,24.68333,-1.21667,-27.25,29.01667,-6.23333,53.18333,46.81867,55.05,0.0,25.48333,38.18333,50.58333,45.76667,46.5,25.9,54.56667,48.06667,46.23333,46.18333,-26.45,35.4,35.07833,37.28333,32.33333,47.7,25.68333,56.66667,61.73333,46.8,38.5,-39.63333,38.11667,-31.25,35.25,38.01667,43.26667,43.39056,47.63333,-15.96667,35.41667,52.45,-40.975,28.78333,44.6,26.83333,45.2,-29.8,44.08333,-11.5,12.63333,9.33333,24.5,-36.61667,36.6,26.13333,23.05,12.0,38.12167,26.98333,49.16667,31.31667,13.73333,12.28333,35.66667,38.41667,19.25,-34.05,42.51667,-21.73333,21.25,18.68333,56.5,40.0,-7.45,13.85,49.03333,null,null,52.45,56.11667,34.2,-28.56667,44.08333,33.725,-32.36667,36.21667,39.68333,54.81667,58.55,56.0,42.91667,41.63333,43.33333,21.20833,47.55,57.78333,52.28333,58.5,47.88333,33.28333,46.06667,6.75,38.18333,36.18333,35.08333,50.83333,52.95,39.0,38.71667,39.56667,43.88333,47.11667,48.5,42.13333,58.88333,38.4,38.6,-18.0,43.4,51.33333,21.05,55.66667,17.74333,32.31667,43.48333,39.8,21.3,15.08333,8.06667,36.06667,-6.23333,-19.13333,9.23333,26.2,36.21667,20.93694,-19.53333,38.13333,23.15,43.46667,52.3,48.53333,52.03333,56.13333,51.66667,30.125,-10.66667,23.325,56.4,56.63333,55.5,35.3,53.53333,40.0,11.25,12.0,15.71667,44.24417,41.36667,58.66667,-32.86667,25.8,29.58333,31.95,30.7,50.53333,11.58333,50.93333,26.71667,66.34833,53.03639,38.5,31.41667,48.3025,49.66667,39.11667,23.36667,52.76667,13.33333,-29.03333,-30.11667,17.76667,39.0,46.6,-26.66667,52.98333,26.45,24.16667,51.88333,23.98333,19.86667,25.38333,38.2,26.66667,43.5,52.2,42.475,-6.73333,44.76667,-32.75,38.66667,48.6,51.33333,28.2,35.03333,-44.11667,46.88333,37.46667,-26.1,45.48333,41.08333,-23.38333,42.3,50.35,44.51667,52.76667,0.26667,-10.26667,51.13333,27.43333,51.53333,43.73333,45.3,35.66667,46.05,25.66667,-31.01667,19.76667,-29.2,24.16667,-33.9,-20.81,52.55,34.71667,43.15,47.21667,49.23333,53.35,42.86083,48.11667,44.36667,38.3,26.75,-7.23333,22.83333,22.25,41.71667,21.68389,41.05,-8.38333,-19.46667,37.41667,50.61667,23.1,37.83333,44.05,24.55,25.85,33.71667,24.33333,43.11667,46.16,44.11667,49.98333,30.9,26.21667,39.3,42.58333,20.91667,59.73333,45.68333,55.0,27.13333,43.66667,47.36667,35.16667,44.41667,1.7,44.75,46.95,51.05,48.01667,38.7,-32.01667,38.16667,48.45,61.65,43.43333,59.93333,49.28333,45.05,50.76667,52.53333,56.58333,50.38333,36.48333,50.53806,25.93333,44.86667,26.71667,33.18836,49.4,36.18333,35.38333,35.43333,45.4,32.95,19.38333,35.13333,46.71667,-25.73333,58.03333,33.4,49.6,38.2,54.5,13.63333,-7.08333,-6.66667,47.85],\"legendgroup\":\"\",\"lon\":[6.08333,10.23333,-113.0,-64.95,71.8,95.16667,0.61667,-65.23333,-64.55,8.38333,2.33333,35.05,77.95,8.43333,39.51667,4.08333,11.01667,22.66667,-1.78333,37.13333,8.75,31.81667,10.15,-85.88333,-105.31667,78.25,85.56667,-70.75,37.5,76.86667,-0.55,-44.31667,39.71667,-2.71667,5.38333,-66.0,-94.3,-60.66667,9.03333,0.3,12.55,80.625,-103.66667,-87.0,-96.15,5.16667,3.66667,3.23333,0.58333,-49.95083,13.5,-103.5,32.83333,-108.0,38.0,78.5,-82.48333,-88.66667,16.38333,107.6,76.33333,78.2,106.0,-0.05,2.16667,-2.5,84.08333,9.1,76.8,-1.33972,-98.31667,-83.75,-93.5,-101.2,-117.33333,-4.1,-96.46667,-64.86667,82.91667,-89.15,28.41667,-67.55,-3.65,-3.8,-73.83333,-0.23333,35.5,74.83333,71.46667,90.65,86.9,23.2,27.16667,5.3,-80.28333,82.6,30.16667,25.8,-78.08333,-97.33333,-98.83333,16.63333,-89.00417,-102.0,0.7,131.63333,10.05,78.03333,52.48333,24.28333,35.86667,33.88333,-6.33333,-80.08333,16.3,8.18361,9.1,59.31667,-112.88333,null,9.58333,48.0,29.23333,25.78333,82.83333,84.08333,-1.16667,-93.5,20.33333,122.33333,26.6,1.66667,-5.15,-89.58333,-64.55,27.0,-78.06667,11.5,-68.75,16.2,-79.25,-96.91667,8.3,81.66667,83.48333,-58.05,76.01667,79.05,1.05,-87.33333,1.56667,75.5,5.36667,2.91667,-7.46667,30.1,-81.88333,6.81667,34.0,76.5,-79.73333,13.96667,null,-90.28333,19.38333,12.61667,-47.55,-100.86667,76.26667,-97.58333,27.3,-78.13333,-6.21667,-84.35,-84.25,83.96667,24.56667,-87.06667,8.65,-80.0,-74.0,77.25,84.76667,-104.93056,73.61667,75.6,76.46667,18.56667,-60.46667,111.5,15.05,90.33333,25.3,29.0,82.45,112.3,3.16667,-6.3,-86.5,-82.26,18.44167,-8.03333,76.63333,39.5,127.26667,82.0,151.0,-96.47167,15.83333,11.21667,13.0,78.78333,12.73333,37.66667,4.0,151.61667,7.35,6.46667,81.89167,44.5,44.16667,11.25,-1.1,30.83333,-94.83333,-97.03333,-77.53333,2.81667,-94.16667,8.45,-87.16667,116.75,-81.41667,-96.85,-97.76667,-93.66667,146.85833,-78.08333,7.31667,-83.96667,7.0,-87.83333,113.56694,130.2,10.33333,80.81667,0.4,12.43333,12.43333,68.53333,-2.18333,68.53333,-112.13333,11.91667,136.88333,13.56667,9.91667,107.7,37.61667,16.76667,89.05,2.25,45.38333,18.71667,30.58333,15.5,16.63333,-58.61667,-6.01667,20.23333,13.98333,24.7,78.56667,8.38333,127.5,139.33333,3.73333,16.23333,-86.6,82.53333,75.78333,-94.51167,-86.16667,136.70033,0.81667,-1.51667,13.78333,35.66667,-84.1,17.66667,130.43333,-4.23333,21.2,-110.18333,38.41667,-91.86667,-157.86667,115.5,-100.45,16.33333,8.91667,22.68333,7.7,-45.0,35.0,82.93333,28.33333,46.66667,-94.4,112.0,33.8,-57.95,-44.33333,32.43333,21.9,68.41667,75.0,75.33333,20.44167,null,72.38333,104.91667,109.5,24.4,-104.9,-0.45,76.8,-7.27,4.3,21.3,78.33333,79.96667,30.83333,53.25,78.51667,21.66667,29.5,73.98333,81.46667,139.95667,75.8,65.78333,115.5,76.3,33.63333,73.36667,81.01667,35.58333,7.15,67.16667,71.6,139.91667,136.76667,31.78,112.01667,-96.0,-3.3,-3.08333,141.61667,72.3,83.11667,35.075,77.88333,75.81667,75.33333,81.53333,36.0,10.15,138.38333,34.0,-89.6,-7.66667,24.68333,-95.95,22.30833,10.8,22.4,139.75,26.16667,7.46472,40.9,56.08333,77.0,30.76667,31.7,66.80222,33.5,45.0,61.36667,138.38333,78.38333,76.03333,75.33333,130.63333,1.75,-101.28333,-61.53333,5.58333,82.71667,0.63333,76.03333,78.56667,1.06667,5.11667,16.73333,16.23333,-1.11667,51.56667,0.43333,-0.86667,-99.33333,28.36667,-87.5,32.85,3.25,4.73333,15.86667,-8.78333,12.9,14.85,-92.08333,26.43333,71.8,-0.83333,19.91667,75.15,0.48333,-84.76667,13.03333,27.7,5.0,29.43333,97.0,-36.66667,31.95,86.36667,111.53333,-3.71667,-49.93333,27.51667,-104.0,33.51667,-63.23333,26.76667,62.08333,86.7,76.1,31.6,44.63333,72.08333,null,-99.38333,29.25,-91.6,30.5,0.15,1.86667,12.61667,13.13333,57.0,-101.68333,30.0,-67.5,77.8,106.88333,13.15,7.21817,12.06667,37.66667,81.98333,15.56667,11.1,3.25,25.73333,83.61667,-1.16667,30.96667,17.53333,16.1,120.36667,-92.05,136.93333,14.7,120.66667,16.6,83.25,23.0,5.93333,24.03333,-101.1,174.4,-1.16667,26.46667,-80.5,-8.25,13.35,1.9625,1.58333,27.35,-79.38333,-8.33333,145.6,78.83333,5.13333,77.33333,8.5,141.7,6.86667,33.5,77.01667,80.83333,90.21667,145.2,-88.1,85.53333,72.63333,1.0,140.06167,78.21667,19.5,30.35,100.08333,79.2,103.5,-77.16667,77.0,150.68889,12.51667,165.9,83.66667,83.48333,21.5,-81.76667,111.41667,-4.38333,-1.43333,null,null,78.63333,37.33333,131.56667,30.7,-69.48333,130.75,-59.83333,-92.26667,-99.86667,46.0,31.33333,22.0,102.46667,0.75,141.86667,94.91667,22.025,55.26667,8.05,23.0,22.03333,130.2,23.58333,8.5,-5.4,139.21667,135.2,25.5,8.16667,-0.03333,-7.06667,-2.1,1.38333,6.15,8.0,12.93333,9.4,140.35,-95.21667,16.0,-5.86667,28.83333,-99.3,25.0,120.45583,-89.71667,118.61667,-91.5,-157.78333,120.7,124.28333,-90.5,-40.7,-51.66667,78.35,85.4,-103.4,82.05,-48.56667,14.96667,91.18333,25.51667,77.03333,35.98333,43.0,-117.93333,9.25,-103.11667,35.5,91.0,-3.43333,39.43333,66.08333,-86.63333,-7.33333,-99.25,108.58333,105.48333,108.1,11.50222,-6.23333,25.73333,18.71667,88.45,76.0,-83.51667,-96.11667,14.11667,104.91667,12.13333,82.66667,14.015,-4.31944,-8.0,118.5,13.94083,14.03333,-83.85,75.18333,21.26667,78.95,-53.05,28.7,95.18333,-0.66667,0.25,-65.45,37.03333,82.9,87.76667,6.93333,87.08333,-100.81667,72.01667,115.7,50.15,26.53333,17.98333,-5.33333,111.36667,11.28333,-65.28333,116.13333,45.66667,-118.95,76.66667,-83.03333,-66.15,-102.31667,-77.5,-49.8,9.51667,-86.28333,150.51667,0.55,10.8,-83.95,-2.51667,36.53333,38.76667,34.5,82.08333,14.88333,1.38333,0.23333,136.3,4.63333,74.86667,-71.4,-100.65,-51.86667,-99.33333,-61.7,-49.38056,46.55,137.78333,-0.85,29.86667,17.56667,15.05,-73.95028,10.46667,-69.2,27.13333,84.78333,107.33333,4.98333,79.0,-0.05,79.50083,23.56667,-36.76667,-44.21667,-6.0,36.6,87.3,-76.7,-80.16667,84.83333,87.5775,74.83333,90.16667,11.6,134.65333,27.26667,7.53333,32.48333,69.55,9.2,-103.66667,82.58333,10.86667,15.6,35.0,84.06667,21.86667,1.73333,135.33333,23.5,33.63333,0.05,-1.5,3.75,-1.15,-90.23333,27.41667,-76.38333,3.93333,27.2,2.95,14.95,15.56667,41.98333,3.0,9.05,-3.25,-3.95,-90.66667,16.26333,84.28333,133.16667,84.21667,-86.2945,14.65,5.41667,134.9,136.23333,122.9,10.41667,43.73333,44.45,23.5,142.95,26.95,70.6,17.11667,-89.68333,35.2,79.41667,111.53333,106.58333,34.76667],\"marker\":{\"color\":[1880,1951,1952,1902,1919,1949,1814,1930,1920,1925,1769,1949,1838,1959,1957,1806,1766,1949,1835,1873,1860,1900,1883,1899,1969,1895,1880,1898,1969,1939,1822,1869,1942,1914,1803,1954,1932,1950,1805,1923,1886,1920,1896,1933,1945,1836,1865,1842,1858,1952,1908,1855,1968,1938,1814,1934,1929,1922,1907,1871,1892,1913,1933,1790,1704,1842,1904,1886,1910,1965,1892,1902,1916,1929,1893,1949,1961,1937,1798,1938,1943,1949,1924,1811,1859,1859,1921,1877,1893,1940,1905,1827,1887,1923,1843,1895,1796,1899,1941,1906,1909,1833,1938,1804,1962,1916,1808,1894,1930,1852,1812,1823,1969,1886,1847,1956,1855,1933,1960,1964,1942,1919,1946,1863,1852,1861,1870,1886,1919,1916,1964,1861,1866,1846,1934,1902,1874,1791,1848,1583,1810,1956,1840,1814,1907,1933,1838,1885,1812,1835,1810,1834,1815,1841,1925,1964,1933,1901,1939,1880,1938,1966,1822,1917,1838,1890,1965,1844,1917,1936,1877,1892,1902,1919,1877,1878,1868,1868,1804,1887,1829,1897,1911,1967,1962,1848,1860,1906,1957,1884,1961,1903,1864,1907,1899,1805,1962,1932,1827,1939,1951,1865,1815,1853,1943,1872,1933,1947,1961,1785,1939,1916,1400,1951,1925,1900,1492,1822,1940,1911,1889,1812,1837,1957,1879,1890,1934,1844,1934,1875,1900,1924,1889,1894,1922,1890,1942,1924,1900,1829,1944,1868,1945,1882,1654,1822,1826,1952,1952,1897,1960,1917,1950,1950,1909,1853,1947,1939,1918,1879,1865,1964,1861,1837,1881,1841,1910,1932,1892,1891,1949,1904,1814,1851,1930,1817,1934,1944,1959,1878,1921,1961,1859,1910,1890,1628,1922,1910,1857,1869,1897,1804,1954,1912,1923,1875,1825,1956,1963,1751,1877,1901,1870,1957,1949,1936,1956,1891,1917,1963,1954,1928,1879,1938,1903,1926,1621,1866,1889,1901,1873,1964,1890,1877,1924,1819,1876,1968,1821,1857,1822,1838,1908,1937,1890,1858,1951,1879,1942,1913,1902,1959,1908,1897,1942,1937,1840,1963,1949,1905,1955,1930,1938,1961,1940,1939,1874,1869,1850,1873,1932,1787,1860,1867,1929,1910,1932,1962,1906,1809,1911,1844,1967,1906,1914,1843,1866,1926,1931,1869,1829,1946,1906,1946,1938,1961,1811,1906,1949,1920,1860,1914,1932,1886,1879,1878,1924,1871,1955,1803,1910,1887,1872,1897,1947,1925,1830,1938,1845,1845,1943,1912,1907,1900,1857,1896,1930,1813,1854,1808,1839,1820,1868,1894,1935,1926,1768,1869,1889,1813,1753,1951,1937,1836,1936,1950,1935,1896,1941,1899,1933,1930,1931,1933,1927,1863,1843,1934,1951,1948,1925,1898,1941,1847,1902,1848,1836,1803,1768,1801,1885,1942,1953,1861,1915,1862,1903,1878,1945,1920,1955,1897,1949,1852,1827,1881,1889,1944,1842,1960,1930,1632,1826,1952,1905,1910,1890,1898,1882,1905,1908,1858,1953,1849,1950,1846,1923,1838,1950,1913,1810,1930,1808,1875,1868,1868,1902,1637,1944,1865,1795,1924,1969,1950,1964,1842,1956,1922,1875,1895,1911,1923,1886,1917,1825,1928,1928,921,1936,1890,1870,1864,1860,1883,1900,1750,1967,1967,1935,1954,1897,1912,1823,861,1879,1918,1948,1886,1662,1908,1933,1851,1925,1939,1914,1887,1927,1855,1900,1741,1857,1963,1926,1958,1904,1834,1930,1520,1924,1929,1864,1868,1671,1872,1928,1867,1896,1900,1856,1775,1881,1929,1910,1910,1914,1926,1949,1859,1938,1930,1967,1956,1857,1942,1933,1969,1950,1922,1935,1966,1938,1826,1882,1963,1953,1946,1899,1935,1830,1933,1933,1855,1779,1901,1887,1933,1941,1968,1843,1863,1881,1882,1884,1921,1930,1723,1868,1819,1866,1942,1931,1796,1933,1932,1959,1893,1863,1868,1811,1937,1925,1857,1898,1851,1957,1878,1940,1916,1958,1917,1899,1937,1919,1961,1740,1880,1947,1919,1824,1925,1916,1933,1965,1929,1903,1948,1918,1828,1934,1491,1876,1895,1871,1775,1921,1876,1934,1949,1914,1855,1636,1914,1966,1913,1798,1921,1956,1968,1873,1939,1924,1962,1918,1688,1868,1894,1934,1715,1968,1846,1871,1917,1853,1939,1947,1940,1773,1966,1818,1923,1908,1862,1874,1850,1921,1904,1865,1921,1912,1863,1794,1947,1917,1920,1916,1901,1956,1933,1875,1848,1868,1818,1960,1877,1860,1866,1927,1945,1883,1841,1855,1890,1950,1903,1919,1866,1910,1959,1876,1808,1857,1962,1647,1917,1623,1924,1969,1916,1935,1865,1954,1753,1867,1880,1918,1965,1931,1967,1929,1937,1879,1872,1950,1878,1927,1807,1934,1869,1922,1905],\"coloraxis\":\"coloraxis\",\"symbol\":\"circle\"},\"mode\":\"markers\",\"name\":\"\",\"showlegend\":false,\"type\":\"scattergeo\"}],                        {\"template\":{\"data\":{\"barpolar\":[{\"marker\":{\"line\":{\"color\":\"white\",\"width\":0.5},\"pattern\":{\"fillmode\":\"overlay\",\"size\":10,\"solidity\":0.2}},\"type\":\"barpolar\"}],\"bar\":[{\"error_x\":{\"color\":\"rgb(36,36,36)\"},\"error_y\":{\"color\":\"rgb(36,36,36)\"},\"marker\":{\"line\":{\"color\":\"white\",\"width\":0.5},\"pattern\":{\"fillmode\":\"overlay\",\"size\":10,\"solidity\":0.2}},\"type\":\"bar\"}],\"carpet\":[{\"aaxis\":{\"endlinecolor\":\"rgb(36,36,36)\",\"gridcolor\":\"white\",\"linecolor\":\"white\",\"minorgridcolor\":\"white\",\"startlinecolor\":\"rgb(36,36,36)\"},\"baxis\":{\"endlinecolor\":\"rgb(36,36,36)\",\"gridcolor\":\"white\",\"linecolor\":\"white\",\"minorgridcolor\":\"white\",\"startlinecolor\":\"rgb(36,36,36)\"},\"type\":\"carpet\"}],\"choropleth\":[{\"colorbar\":{\"outlinewidth\":1,\"tickcolor\":\"rgb(36,36,36)\",\"ticks\":\"outside\"},\"type\":\"choropleth\"}],\"contourcarpet\":[{\"colorbar\":{\"outlinewidth\":1,\"tickcolor\":\"rgb(36,36,36)\",\"ticks\":\"outside\"},\"type\":\"contourcarpet\"}],\"contour\":[{\"colorbar\":{\"outlinewidth\":1,\"tickcolor\":\"rgb(36,36,36)\",\"ticks\":\"outside\"},\"colorscale\":[[0.0,\"#440154\"],[0.1111111111111111,\"#482878\"],[0.2222222222222222,\"#3e4989\"],[0.3333333333333333,\"#31688e\"],[0.4444444444444444,\"#26828e\"],[0.5555555555555556,\"#1f9e89\"],[0.6666666666666666,\"#35b779\"],[0.7777777777777778,\"#6ece58\"],[0.8888888888888888,\"#b5de2b\"],[1.0,\"#fde725\"]],\"type\":\"contour\"}],\"heatmapgl\":[{\"colorbar\":{\"outlinewidth\":1,\"tickcolor\":\"rgb(36,36,36)\",\"ticks\":\"outside\"},\"colorscale\":[[0.0,\"#440154\"],[0.1111111111111111,\"#482878\"],[0.2222222222222222,\"#3e4989\"],[0.3333333333333333,\"#31688e\"],[0.4444444444444444,\"#26828e\"],[0.5555555555555556,\"#1f9e89\"],[0.6666666666666666,\"#35b779\"],[0.7777777777777778,\"#6ece58\"],[0.8888888888888888,\"#b5de2b\"],[1.0,\"#fde725\"]],\"type\":\"heatmapgl\"}],\"heatmap\":[{\"colorbar\":{\"outlinewidth\":1,\"tickcolor\":\"rgb(36,36,36)\",\"ticks\":\"outside\"},\"colorscale\":[[0.0,\"#440154\"],[0.1111111111111111,\"#482878\"],[0.2222222222222222,\"#3e4989\"],[0.3333333333333333,\"#31688e\"],[0.4444444444444444,\"#26828e\"],[0.5555555555555556,\"#1f9e89\"],[0.6666666666666666,\"#35b779\"],[0.7777777777777778,\"#6ece58\"],[0.8888888888888888,\"#b5de2b\"],[1.0,\"#fde725\"]],\"type\":\"heatmap\"}],\"histogram2dcontour\":[{\"colorbar\":{\"outlinewidth\":1,\"tickcolor\":\"rgb(36,36,36)\",\"ticks\":\"outside\"},\"colorscale\":[[0.0,\"#440154\"],[0.1111111111111111,\"#482878\"],[0.2222222222222222,\"#3e4989\"],[0.3333333333333333,\"#31688e\"],[0.4444444444444444,\"#26828e\"],[0.5555555555555556,\"#1f9e89\"],[0.6666666666666666,\"#35b779\"],[0.7777777777777778,\"#6ece58\"],[0.8888888888888888,\"#b5de2b\"],[1.0,\"#fde725\"]],\"type\":\"histogram2dcontour\"}],\"histogram2d\":[{\"colorbar\":{\"outlinewidth\":1,\"tickcolor\":\"rgb(36,36,36)\",\"ticks\":\"outside\"},\"colorscale\":[[0.0,\"#440154\"],[0.1111111111111111,\"#482878\"],[0.2222222222222222,\"#3e4989\"],[0.3333333333333333,\"#31688e\"],[0.4444444444444444,\"#26828e\"],[0.5555555555555556,\"#1f9e89\"],[0.6666666666666666,\"#35b779\"],[0.7777777777777778,\"#6ece58\"],[0.8888888888888888,\"#b5de2b\"],[1.0,\"#fde725\"]],\"type\":\"histogram2d\"}],\"histogram\":[{\"marker\":{\"line\":{\"color\":\"white\",\"width\":0.6}},\"type\":\"histogram\"}],\"mesh3d\":[{\"colorbar\":{\"outlinewidth\":1,\"tickcolor\":\"rgb(36,36,36)\",\"ticks\":\"outside\"},\"type\":\"mesh3d\"}],\"parcoords\":[{\"line\":{\"colorbar\":{\"outlinewidth\":1,\"tickcolor\":\"rgb(36,36,36)\",\"ticks\":\"outside\"}},\"type\":\"parcoords\"}],\"pie\":[{\"automargin\":true,\"type\":\"pie\"}],\"scatter3d\":[{\"line\":{\"colorbar\":{\"outlinewidth\":1,\"tickcolor\":\"rgb(36,36,36)\",\"ticks\":\"outside\"}},\"marker\":{\"colorbar\":{\"outlinewidth\":1,\"tickcolor\":\"rgb(36,36,36)\",\"ticks\":\"outside\"}},\"type\":\"scatter3d\"}],\"scattercarpet\":[{\"marker\":{\"colorbar\":{\"outlinewidth\":1,\"tickcolor\":\"rgb(36,36,36)\",\"ticks\":\"outside\"}},\"type\":\"scattercarpet\"}],\"scattergeo\":[{\"marker\":{\"colorbar\":{\"outlinewidth\":1,\"tickcolor\":\"rgb(36,36,36)\",\"ticks\":\"outside\"}},\"type\":\"scattergeo\"}],\"scattergl\":[{\"marker\":{\"colorbar\":{\"outlinewidth\":1,\"tickcolor\":\"rgb(36,36,36)\",\"ticks\":\"outside\"}},\"type\":\"scattergl\"}],\"scattermapbox\":[{\"marker\":{\"colorbar\":{\"outlinewidth\":1,\"tickcolor\":\"rgb(36,36,36)\",\"ticks\":\"outside\"}},\"type\":\"scattermapbox\"}],\"scatterpolargl\":[{\"marker\":{\"colorbar\":{\"outlinewidth\":1,\"tickcolor\":\"rgb(36,36,36)\",\"ticks\":\"outside\"}},\"type\":\"scatterpolargl\"}],\"scatterpolar\":[{\"marker\":{\"colorbar\":{\"outlinewidth\":1,\"tickcolor\":\"rgb(36,36,36)\",\"ticks\":\"outside\"}},\"type\":\"scatterpolar\"}],\"scatter\":[{\"fillpattern\":{\"fillmode\":\"overlay\",\"size\":10,\"solidity\":0.2},\"type\":\"scatter\"}],\"scatterternary\":[{\"marker\":{\"colorbar\":{\"outlinewidth\":1,\"tickcolor\":\"rgb(36,36,36)\",\"ticks\":\"outside\"}},\"type\":\"scatterternary\"}],\"surface\":[{\"colorbar\":{\"outlinewidth\":1,\"tickcolor\":\"rgb(36,36,36)\",\"ticks\":\"outside\"},\"colorscale\":[[0.0,\"#440154\"],[0.1111111111111111,\"#482878\"],[0.2222222222222222,\"#3e4989\"],[0.3333333333333333,\"#31688e\"],[0.4444444444444444,\"#26828e\"],[0.5555555555555556,\"#1f9e89\"],[0.6666666666666666,\"#35b779\"],[0.7777777777777778,\"#6ece58\"],[0.8888888888888888,\"#b5de2b\"],[1.0,\"#fde725\"]],\"type\":\"surface\"}],\"table\":[{\"cells\":{\"fill\":{\"color\":\"rgb(237,237,237)\"},\"line\":{\"color\":\"white\"}},\"header\":{\"fill\":{\"color\":\"rgb(217,217,217)\"},\"line\":{\"color\":\"white\"}},\"type\":\"table\"}]},\"layout\":{\"annotationdefaults\":{\"arrowhead\":0,\"arrowwidth\":1},\"autotypenumbers\":\"strict\",\"coloraxis\":{\"colorbar\":{\"outlinewidth\":1,\"tickcolor\":\"rgb(36,36,36)\",\"ticks\":\"outside\"}},\"colorscale\":{\"diverging\":[[0.0,\"rgb(103,0,31)\"],[0.1,\"rgb(178,24,43)\"],[0.2,\"rgb(214,96,77)\"],[0.3,\"rgb(244,165,130)\"],[0.4,\"rgb(253,219,199)\"],[0.5,\"rgb(247,247,247)\"],[0.6,\"rgb(209,229,240)\"],[0.7,\"rgb(146,197,222)\"],[0.8,\"rgb(67,147,195)\"],[0.9,\"rgb(33,102,172)\"],[1.0,\"rgb(5,48,97)\"]],\"sequential\":[[0.0,\"#440154\"],[0.1111111111111111,\"#482878\"],[0.2222222222222222,\"#3e4989\"],[0.3333333333333333,\"#31688e\"],[0.4444444444444444,\"#26828e\"],[0.5555555555555556,\"#1f9e89\"],[0.6666666666666666,\"#35b779\"],[0.7777777777777778,\"#6ece58\"],[0.8888888888888888,\"#b5de2b\"],[1.0,\"#fde725\"]],\"sequentialminus\":[[0.0,\"#440154\"],[0.1111111111111111,\"#482878\"],[0.2222222222222222,\"#3e4989\"],[0.3333333333333333,\"#31688e\"],[0.4444444444444444,\"#26828e\"],[0.5555555555555556,\"#1f9e89\"],[0.6666666666666666,\"#35b779\"],[0.7777777777777778,\"#6ece58\"],[0.8888888888888888,\"#b5de2b\"],[1.0,\"#fde725\"]]},\"colorway\":[\"#1F77B4\",\"#FF7F0E\",\"#2CA02C\",\"#D62728\",\"#9467BD\",\"#8C564B\",\"#E377C2\",\"#7F7F7F\",\"#BCBD22\",\"#17BECF\"],\"font\":{\"color\":\"rgb(36,36,36)\"},\"geo\":{\"bgcolor\":\"white\",\"lakecolor\":\"white\",\"landcolor\":\"white\",\"showlakes\":true,\"showland\":true,\"subunitcolor\":\"white\"},\"hoverlabel\":{\"align\":\"left\"},\"hovermode\":\"closest\",\"mapbox\":{\"style\":\"light\"},\"paper_bgcolor\":\"white\",\"plot_bgcolor\":\"white\",\"polar\":{\"angularaxis\":{\"gridcolor\":\"rgb(232,232,232)\",\"linecolor\":\"rgb(36,36,36)\",\"showgrid\":false,\"showline\":true,\"ticks\":\"outside\"},\"bgcolor\":\"white\",\"radialaxis\":{\"gridcolor\":\"rgb(232,232,232)\",\"linecolor\":\"rgb(36,36,36)\",\"showgrid\":false,\"showline\":true,\"ticks\":\"outside\"}},\"scene\":{\"xaxis\":{\"backgroundcolor\":\"white\",\"gridcolor\":\"rgb(232,232,232)\",\"gridwidth\":2,\"linecolor\":\"rgb(36,36,36)\",\"showbackground\":true,\"showgrid\":false,\"showline\":true,\"ticks\":\"outside\",\"zeroline\":false,\"zerolinecolor\":\"rgb(36,36,36)\"},\"yaxis\":{\"backgroundcolor\":\"white\",\"gridcolor\":\"rgb(232,232,232)\",\"gridwidth\":2,\"linecolor\":\"rgb(36,36,36)\",\"showbackground\":true,\"showgrid\":false,\"showline\":true,\"ticks\":\"outside\",\"zeroline\":false,\"zerolinecolor\":\"rgb(36,36,36)\"},\"zaxis\":{\"backgroundcolor\":\"white\",\"gridcolor\":\"rgb(232,232,232)\",\"gridwidth\":2,\"linecolor\":\"rgb(36,36,36)\",\"showbackground\":true,\"showgrid\":false,\"showline\":true,\"ticks\":\"outside\",\"zeroline\":false,\"zerolinecolor\":\"rgb(36,36,36)\"}},\"shapedefaults\":{\"fillcolor\":\"black\",\"line\":{\"width\":0},\"opacity\":0.3},\"ternary\":{\"aaxis\":{\"gridcolor\":\"rgb(232,232,232)\",\"linecolor\":\"rgb(36,36,36)\",\"showgrid\":false,\"showline\":true,\"ticks\":\"outside\"},\"baxis\":{\"gridcolor\":\"rgb(232,232,232)\",\"linecolor\":\"rgb(36,36,36)\",\"showgrid\":false,\"showline\":true,\"ticks\":\"outside\"},\"bgcolor\":\"white\",\"caxis\":{\"gridcolor\":\"rgb(232,232,232)\",\"linecolor\":\"rgb(36,36,36)\",\"showgrid\":false,\"showline\":true,\"ticks\":\"outside\"}},\"title\":{\"x\":0.05},\"xaxis\":{\"automargin\":true,\"gridcolor\":\"rgb(232,232,232)\",\"linecolor\":\"rgb(36,36,36)\",\"showgrid\":false,\"showline\":true,\"ticks\":\"outside\",\"title\":{\"standoff\":15},\"zeroline\":false,\"zerolinecolor\":\"rgb(36,36,36)\"},\"yaxis\":{\"automargin\":true,\"gridcolor\":\"rgb(232,232,232)\",\"linecolor\":\"rgb(36,36,36)\",\"showgrid\":false,\"showline\":true,\"ticks\":\"outside\",\"title\":{\"standoff\":15},\"zeroline\":false,\"zerolinecolor\":\"rgb(36,36,36)\"}}},\"geo\":{\"domain\":{\"x\":[0.0,1.0],\"y\":[0.0,1.0]},\"center\":{}},\"coloraxis\":{\"colorbar\":{\"title\":{\"text\":\"Year\"}},\"colorscale\":[[0.0,\"#440154\"],[0.1111111111111111,\"#482878\"],[0.2222222222222222,\"#3e4989\"],[0.3333333333333333,\"#31688e\"],[0.4444444444444444,\"#26828e\"],[0.5555555555555556,\"#1f9e89\"],[0.6666666666666666,\"#35b779\"],[0.7777777777777778,\"#6ece58\"],[0.8888888888888888,\"#b5de2b\"],[1.0,\"#fde725\"]]},\"legend\":{\"tracegroupgap\":0},\"margin\":{\"t\":60},\"title\":{\"text\":\"Meteroite fall Location before year 1970\"}},                        {\"responsive\": true}                    ).then(function(){\n",
       "                            \n",
       "var gd = document.getElementById('1a81f88d-554e-4069-8cc8-0a6f98097b17');\n",
       "var x = new MutationObserver(function (mutations, observer) {{\n",
       "        var display = window.getComputedStyle(gd).display;\n",
       "        if (!display || display === 'none') {{\n",
       "            console.log([gd, 'removed!']);\n",
       "            Plotly.purge(gd);\n",
       "            observer.disconnect();\n",
       "        }}\n",
       "}});\n",
       "\n",
       "// Listen for the removal of the full notebook cells\n",
       "var notebookContainer = gd.closest('#notebook-container');\n",
       "if (notebookContainer) {{\n",
       "    x.observe(notebookContainer, {childList: true});\n",
       "}}\n",
       "\n",
       "// Listen for the clearing of the current output cell\n",
       "var outputEl = gd.closest('.output');\n",
       "if (outputEl) {{\n",
       "    x.observe(outputEl, {childList: true});\n",
       "}}\n",
       "\n",
       "                        })                };                });            </script>        </div>"
      ]
     },
     "metadata": {},
     "output_type": "display_data"
    }
   ],
   "source": [
    "# Create map shows meteroite location which fell before 1970\n",
    "fig2 = px.scatter_geo(coordinate_before_1970,\n",
    "                          lat=\"Reclat\",\n",
    "                          lon=\"Reclong\",\n",
    "                          hover_name=\"Name\",\n",
    "                          color=coordinate_before_1970[\"Year\"],\n",
    "                          template=\"simple_white\",\n",
    "                          hover_data=['Mass']\n",
    "                         )\n",
    "\n",
    "fig2.update_layout(title = \"Meteroite fall Location before year 1970\")\n",
    "fig2.show()"
   ]
  },
  {
   "cell_type": "markdown",
   "id": "b0cfc425",
   "metadata": {},
   "source": [
    "**`After analyzing we observe that, 780 meteriotes fell before the year 1970.`** "
   ]
  },
  {
   "cell_type": "markdown",
   "id": "2c972f74",
   "metadata": {},
   "source": [
    "### Assuming that the mass of the earth meteorites was in kg, get all those whose mass was more than 10000kg <a name=\"ten\"></a>"
   ]
  },
  {
   "cell_type": "code",
   "execution_count": 19,
   "id": "8d298d4c",
   "metadata": {},
   "outputs": [
    {
     "data": {
      "text/html": [
       "<div>\n",
       "<style scoped>\n",
       "    .dataframe tbody tr th:only-of-type {\n",
       "        vertical-align: middle;\n",
       "    }\n",
       "\n",
       "    .dataframe tbody tr th {\n",
       "        vertical-align: top;\n",
       "    }\n",
       "\n",
       "    .dataframe thead th {\n",
       "        text-align: right;\n",
       "    }\n",
       "</style>\n",
       "<table border=\"1\" class=\"dataframe\">\n",
       "  <thead>\n",
       "    <tr style=\"text-align: right;\">\n",
       "      <th></th>\n",
       "      <th>Name</th>\n",
       "      <th>Nametype</th>\n",
       "      <th>Recclass</th>\n",
       "      <th>Mass</th>\n",
       "      <th>Fall</th>\n",
       "      <th>Year</th>\n",
       "      <th>Reclat</th>\n",
       "      <th>Reclong</th>\n",
       "      <th>Coordinates geolocation</th>\n",
       "    </tr>\n",
       "  </thead>\n",
       "  <tbody>\n",
       "    <tr>\n",
       "      <th>2</th>\n",
       "      <td>Abee</td>\n",
       "      <td>Valid</td>\n",
       "      <td>EH4</td>\n",
       "      <td>107000.0</td>\n",
       "      <td>Fell</td>\n",
       "      <td>1952</td>\n",
       "      <td>54.21667</td>\n",
       "      <td>-113.00000</td>\n",
       "      <td>-113, 54.21667</td>\n",
       "    </tr>\n",
       "    <tr>\n",
       "      <th>7</th>\n",
       "      <td>Agen</td>\n",
       "      <td>Valid</td>\n",
       "      <td>H5</td>\n",
       "      <td>30000.0</td>\n",
       "      <td>Fell</td>\n",
       "      <td>1814</td>\n",
       "      <td>44.21667</td>\n",
       "      <td>0.61667</td>\n",
       "      <td>0.61667, 44.21667</td>\n",
       "    </tr>\n",
       "    <tr>\n",
       "      <th>11</th>\n",
       "      <td>Aïr</td>\n",
       "      <td>Valid</td>\n",
       "      <td>L6</td>\n",
       "      <td>24000.0</td>\n",
       "      <td>Fell</td>\n",
       "      <td>1925</td>\n",
       "      <td>19.08333</td>\n",
       "      <td>8.38333</td>\n",
       "      <td>8.38333, 19.08333</td>\n",
       "    </tr>\n",
       "    <tr>\n",
       "      <th>16</th>\n",
       "      <td>Akyumak</td>\n",
       "      <td>Valid</td>\n",
       "      <td>Iron, IVA</td>\n",
       "      <td>50000.0</td>\n",
       "      <td>Fell</td>\n",
       "      <td>1981</td>\n",
       "      <td>39.91667</td>\n",
       "      <td>42.81667</td>\n",
       "      <td>42.81667, 39.91667</td>\n",
       "    </tr>\n",
       "    <tr>\n",
       "      <th>27</th>\n",
       "      <td>Alfianello</td>\n",
       "      <td>Valid</td>\n",
       "      <td>L6</td>\n",
       "      <td>228000.0</td>\n",
       "      <td>Fell</td>\n",
       "      <td>1883</td>\n",
       "      <td>45.26667</td>\n",
       "      <td>10.15000</td>\n",
       "      <td>10.15, 45.26667</td>\n",
       "    </tr>\n",
       "    <tr>\n",
       "      <th>...</th>\n",
       "      <td>...</td>\n",
       "      <td>...</td>\n",
       "      <td>...</td>\n",
       "      <td>...</td>\n",
       "      <td>...</td>\n",
       "      <td>...</td>\n",
       "      <td>...</td>\n",
       "      <td>...</td>\n",
       "      <td>...</td>\n",
       "    </tr>\n",
       "    <tr>\n",
       "      <th>991</th>\n",
       "      <td>Tieschitz</td>\n",
       "      <td>Valid</td>\n",
       "      <td>H/L3.6</td>\n",
       "      <td>28000.0</td>\n",
       "      <td>Fell</td>\n",
       "      <td>1878</td>\n",
       "      <td>49.60000</td>\n",
       "      <td>17.11667</td>\n",
       "      <td>17.11667, 49.6</td>\n",
       "    </tr>\n",
       "    <tr>\n",
       "      <th>992</th>\n",
       "      <td>Tilden</td>\n",
       "      <td>Valid</td>\n",
       "      <td>L6</td>\n",
       "      <td>74800.0</td>\n",
       "      <td>Fell</td>\n",
       "      <td>1927</td>\n",
       "      <td>38.20000</td>\n",
       "      <td>-89.68333</td>\n",
       "      <td>-89.68333, 38.2</td>\n",
       "    </tr>\n",
       "    <tr>\n",
       "      <th>994</th>\n",
       "      <td>Timochin</td>\n",
       "      <td>Valid</td>\n",
       "      <td>H5</td>\n",
       "      <td>65500.0</td>\n",
       "      <td>Fell</td>\n",
       "      <td>1807</td>\n",
       "      <td>54.50000</td>\n",
       "      <td>35.20000</td>\n",
       "      <td>35.2, 54.5</td>\n",
       "    </tr>\n",
       "    <tr>\n",
       "      <th>997</th>\n",
       "      <td>Tjabe</td>\n",
       "      <td>Valid</td>\n",
       "      <td>H6</td>\n",
       "      <td>20000.0</td>\n",
       "      <td>Fell</td>\n",
       "      <td>1869</td>\n",
       "      <td>-7.08333</td>\n",
       "      <td>111.53333</td>\n",
       "      <td>111.53333, -7.08333</td>\n",
       "    </tr>\n",
       "    <tr>\n",
       "      <th>998</th>\n",
       "      <td>Tjerebon</td>\n",
       "      <td>Valid</td>\n",
       "      <td>L5</td>\n",
       "      <td>16500.0</td>\n",
       "      <td>Fell</td>\n",
       "      <td>1922</td>\n",
       "      <td>-6.66667</td>\n",
       "      <td>106.58333</td>\n",
       "      <td>106.58333, -6.66667</td>\n",
       "    </tr>\n",
       "  </tbody>\n",
       "</table>\n",
       "<p>243 rows × 9 columns</p>\n",
       "</div>"
      ],
      "text/plain": [
       "           Name Nametype   Recclass      Mass  Fall  Year    Reclat  \\\n",
       "2          Abee    Valid        EH4  107000.0  Fell  1952  54.21667   \n",
       "7          Agen    Valid         H5   30000.0  Fell  1814  44.21667   \n",
       "11          Aïr    Valid         L6   24000.0  Fell  1925  19.08333   \n",
       "16      Akyumak    Valid  Iron, IVA   50000.0  Fell  1981  39.91667   \n",
       "27   Alfianello    Valid         L6  228000.0  Fell  1883  45.26667   \n",
       "..          ...      ...        ...       ...   ...   ...       ...   \n",
       "991   Tieschitz    Valid     H/L3.6   28000.0  Fell  1878  49.60000   \n",
       "992      Tilden    Valid         L6   74800.0  Fell  1927  38.20000   \n",
       "994    Timochin    Valid         H5   65500.0  Fell  1807  54.50000   \n",
       "997       Tjabe    Valid         H6   20000.0  Fell  1869  -7.08333   \n",
       "998    Tjerebon    Valid         L5   16500.0  Fell  1922  -6.66667   \n",
       "\n",
       "       Reclong Coordinates geolocation  \n",
       "2   -113.00000          -113, 54.21667  \n",
       "7      0.61667       0.61667, 44.21667  \n",
       "11     8.38333       8.38333, 19.08333  \n",
       "16    42.81667      42.81667, 39.91667  \n",
       "27    10.15000         10.15, 45.26667  \n",
       "..         ...                     ...  \n",
       "991   17.11667          17.11667, 49.6  \n",
       "992  -89.68333         -89.68333, 38.2  \n",
       "994   35.20000              35.2, 54.5  \n",
       "997  111.53333     111.53333, -7.08333  \n",
       "998  106.58333     106.58333, -6.66667  \n",
       "\n",
       "[243 rows x 9 columns]"
      ]
     },
     "execution_count": 19,
     "metadata": {},
     "output_type": "execute_result"
    }
   ],
   "source": [
    "# meteroites whose mass is more than 10000kg\n",
    "meteroite_mass_more_10000kg = meteroite_df[meteroite_df[\"Mass\"] > 10000]\n",
    "meteroite_mass_more_10000kg"
   ]
  },
  {
   "cell_type": "code",
   "execution_count": 20,
   "id": "19413ccb",
   "metadata": {},
   "outputs": [
    {
     "data": {
      "application/vnd.plotly.v1+json": {
       "config": {
        "plotlyServerURL": "https://plot.ly"
       },
       "data": [
        {
         "hovertemplate": "Recclass=%{x}<br>y=%{y}<br>Year=%{marker.color}<extra></extra>",
         "legendgroup": "",
         "marker": {
          "color": [
           1952,
           1814,
           1925,
           1981,
           1883,
           1899,
           1969,
           1939,
           1914,
           1865,
           1858,
           1814,
           1934,
           1993,
           1871,
           1892,
           1965,
           2006,
           1994,
           1892,
           1902,
           1929,
           1893,
           2004,
           2001,
           2002,
           1924,
           1999,
           1899,
           1916,
           1847,
           1960,
           1919,
           1946,
           1861,
           2008,
           1870,
           1886,
           1991,
           1866,
           1583,
           1933,
           1812,
           1810,
           1834,
           1841,
           2013,
           2007,
           1917,
           1965,
           1919,
           1981,
           1911,
           2001,
           1962,
           2001,
           1976,
           1860,
           1884,
           1995,
           1939,
           1815,
           1977,
           1400,
           1951,
           1492,
           1889,
           1879,
           1890,
           1934,
           1996,
           1894,
           1890,
           1942,
           1829,
           1945,
           1882,
           1909,
           1853,
           1918,
           1837,
           1932,
           1892,
           1984,
           1981,
           1628,
           1869,
           1912,
           1875,
           1751,
           1901,
           1891,
           1903,
           1979,
           1889,
           1890,
           1976,
           1924,
           1997,
           1984,
           1968,
           1821,
           1971,
           1937,
           1942,
           1905,
           1930,
           2003,
           1961,
           1869,
           1850,
           1873,
           1983,
           2002,
           1866,
           1986,
           1869,
           1946,
           1949,
           1998,
           1914,
           1886,
           1985,
           1803,
           1872,
           1987,
           1943,
           1813,
           1808,
           1994,
           1970,
           1935,
           1889,
           1753,
           1981,
           2007,
           1934,
           1847,
           1902,
           1768,
           1992,
           1915,
           1862,
           1920,
           1852,
           1960,
           1930,
           1882,
           1905,
           1858,
           1923,
           1902,
           1991,
           1637,
           1969,
           1950,
           1923,
           1917,
           1928,
           1864,
           1860,
           1994,
           2003,
           1900,
           1975,
           1912,
           1948,
           1978,
           1887,
           1741,
           1857,
           1834,
           1930,
           1924,
           1929,
           1981,
           1864,
           2003,
           1998,
           1914,
           1859,
           1930,
           1956,
           2003,
           1857,
           1935,
           1826,
           1963,
           1992,
           1946,
           1935,
           1933,
           1901,
           1941,
           1863,
           1996,
           1998,
           1868,
           1937,
           1898,
           1990,
           1986,
           1983,
           1740,
           1947,
           1948,
           1918,
           1921,
           1914,
           1914,
           1966,
           1918,
           1966,
           1874,
           1904,
           1947,
           1989,
           1877,
           1866,
           1993,
           1903,
           1910,
           1876,
           1808,
           1990,
           1917,
           1623,
           1994,
           1986,
           2008,
           1975,
           2008,
           1931,
           1937,
           1879,
           1872,
           2011,
           2002,
           1878,
           1927,
           1807,
           1869,
           1922
          ],
          "coloraxis": "coloraxis",
          "symbol": "circle"
         },
         "mode": "markers",
         "name": "",
         "orientation": "v",
         "showlegend": false,
         "type": "scatter",
         "x": [
          "EH4",
          "H5",
          "L6",
          "Iron, IVA",
          "L6",
          "H5",
          "CV3",
          "H6",
          "LL6",
          "L6",
          "L5",
          "L6",
          "Iron, IAB-sLL",
          "Iron, ungrouped",
          "LL6",
          "L6",
          "L5",
          "H5",
          "L5",
          "H4",
          "L6",
          "H5",
          "H5",
          "LL6",
          "L6",
          "LL6",
          "Eucrite-mmict",
          "Diogenite",
          "L/LL4",
          "Iron, IIAB",
          "Iron, IIAB",
          "L6",
          "H5",
          "L6",
          "H6",
          "H4",
          "L/LL6",
          "Iron, IIIAB",
          "L5",
          "H5",
          "Stone-uncl",
          "L5",
          "L6",
          "H6",
          "H6",
          "L6",
          "LL5",
          "H5",
          "L6",
          "H4",
          "Aubrite",
          "LL6",
          "L6",
          "H5",
          "H6",
          "H3.8",
          "H3.8",
          "LL6",
          "H6",
          "Mesosiderite",
          "H6",
          "L6",
          "H5",
          "Iron, IID",
          "L5",
          "LL6",
          "L5",
          "Mesosiderite-A3/4",
          "L5",
          "H4",
          "H3-5",
          "L6",
          "H5",
          "H4",
          "L6",
          "L5",
          "L5",
          "L6",
          "L6",
          "H4",
          "H5",
          "H6",
          "H6",
          "CBa",
          "H4/5",
          "Stone-uncl",
          "H5",
          "L/LL6",
          "L5",
          "Iron, IID",
          "EL6",
          "EH4",
          "L6",
          "L6",
          "LL6",
          "Iron, IIIAB",
          "H5",
          "Diogenite",
          "H5",
          "L6",
          "Iron, IIIAB",
          "Eucrite-mmict",
          "H4",
          "CO3.2",
          "Howardite",
          "L6",
          "CK4",
          "H4",
          "Iron, IIIAB",
          "H6",
          "H4",
          "EL6",
          "H6",
          "LL6",
          "L/LL5",
          "L6",
          "LL5",
          "LL3.2",
          "L6",
          "H5",
          "L6",
          "L6",
          "L6",
          "L6",
          "CO3.5",
          "H5",
          "L6",
          "H5",
          "L6",
          "Howardite",
          "H5",
          "Mesosiderite-A3",
          "L6",
          "H3-5",
          "L6",
          "H4/5",
          "LL6",
          "L6",
          "Pallasite, PMG",
          "L6",
          "L5/6",
          "H5",
          "H4",
          "H5",
          "L3.7",
          "Eucrite-mmict",
          "H5",
          "L5-6",
          "L6",
          "H5",
          "H5",
          "H6",
          "L5",
          "Stone-uncl",
          "CM2",
          "CM2",
          "L6",
          "L6",
          "H6",
          "L6",
          "L6",
          "L4",
          "H5",
          "Iron, ungrouped",
          "Iron, IVA",
          "Iron, IID",
          "Aubrite",
          "H5",
          "H4",
          "H6",
          "H5",
          "LL6",
          "L6",
          "LL5",
          "H5",
          "Pallasite, PMG",
          "CI1",
          "H3-5",
          "H4",
          "Iron",
          "L5",
          "LL5",
          "L6",
          "L5",
          "LL3.6",
          "Mesosiderite-A1",
          "L6",
          "L6",
          "H6",
          "Aubrite",
          "L6",
          "L6",
          "L6",
          "L5",
          "EL6",
          "Eucrite-mmict",
          "H6",
          "H5",
          "L6",
          "Iron, IAB-ung",
          "H",
          "Iron, IIAB",
          "L5",
          "Stone-uncl",
          "L5",
          "L",
          "H5",
          "H5",
          "L5",
          "EH5",
          "LL6",
          "L4",
          "H6",
          "L5",
          "L5",
          "Iron, IIAB",
          "H6",
          "LL4",
          "H5",
          "L6",
          "EH5",
          "L6",
          "H5",
          "Eucrite-mmict",
          "Iron, IIIAB",
          "L6",
          "Stone-uncl",
          "H5",
          "L6",
          "LL6",
          "L6",
          "H5",
          "Diogenite",
          "L6",
          "L6",
          "L4",
          "L6",
          "H4/5",
          "H/L3.6",
          "L6",
          "H5",
          "H6",
          "L5"
         ],
         "xaxis": "x",
         "y": [
          107,
          30,
          24,
          50,
          228,
          32,
          2000,
          17.9,
          15,
          50,
          50,
          18,
          10.322,
          16.7,
          11.5,
          15,
          44,
          29.56,
          15.5,
          21,
          86,
          16,
          14,
          25,
          19,
          45,
          18,
          25,
          330,
          256,
          39,
          303,
          120,
          25,
          29,
          41,
          25,
          48.5,
          23.68,
          34,
          15,
          18.3,
          31.5,
          27,
          12,
          30,
          100,
          100,
          104,
          20.35,
          17,
          18,
          16.4,
          12.5,
          25.4,
          12,
          45,
          32,
          166,
          128.8,
          47.7,
          13.2,
          17.226,
          107,
          54.64,
          127,
          20,
          320,
          89.4,
          56,
          10.2,
          17.6,
          152,
          26,
          16.3,
          23,
          11.62,
          14.29,
          18,
          152,
          10.5,
          22,
          39,
          100,
          34.65,
          29,
          20,
          220,
          230,
          49,
          14,
          27,
          48,
          20.5,
          34,
          600,
          4000,
          40.3,
          100,
          32.49,
          25.25,
          91,
          13.4,
          200,
          11.355,
          22,
          41.73,
          16.82,
          85,
          80,
          135,
          13.6,
          100,
          19,
          500,
          11.51,
          16.5,
          50,
          200,
          1100,
          45,
          45,
          45,
          37,
          51.7,
          14.25,
          51.5,
          50,
          12.8,
          40,
          17,
          59,
          11,
          14,
          93.2,
          70.5,
          22.3,
          28.4,
          45,
          19,
          150,
          24.75,
          10.5,
          71.4,
          22.7,
          330,
          16.7,
          300,
          35,
          144,
          149,
          11.3,
          110,
          17,
          100,
          12.6,
          23.2,
          52.9,
          17,
          10.25,
          230,
          12,
          19.256,
          37.5,
          14.25,
          17.2,
          1100,
          50,
          500,
          14.36,
          16.25,
          12,
          16.57,
          150,
          40,
          250,
          14,
          17,
          20,
          18,
          10.5,
          408,
          100,
          18,
          77.6,
          37.35,
          40,
          45.76,
          12.57,
          70,
          23.474,
          66,
          57.9,
          11,
          23.25,
          42,
          71.4,
          250,
          300,
          10.75,
          17.45,
          10.2,
          67.225,
          24.7,
          17.3,
          20,
          90,
          10.6,
          13,
          14,
          271,
          200,
          20,
          101,
          18.6,
          23000,
          40,
          80,
          17.1,
          36.9,
          13.78,
          17,
          34,
          52,
          325,
          13.4,
          10.4,
          25.4,
          260,
          110,
          10.5,
          100,
          12,
          21,
          160,
          28.5,
          14.2,
          45.3,
          28,
          74.8,
          65.5,
          20,
          16.5
         ],
         "yaxis": "y"
        }
       ],
       "layout": {
        "coloraxis": {
         "colorbar": {
          "title": {
           "text": "Year"
          }
         },
         "colorscale": [
          [
           0,
           "#0d0887"
          ],
          [
           0.1111111111111111,
           "#46039f"
          ],
          [
           0.2222222222222222,
           "#7201a8"
          ],
          [
           0.3333333333333333,
           "#9c179e"
          ],
          [
           0.4444444444444444,
           "#bd3786"
          ],
          [
           0.5555555555555556,
           "#d8576b"
          ],
          [
           0.6666666666666666,
           "#ed7953"
          ],
          [
           0.7777777777777778,
           "#fb9f3a"
          ],
          [
           0.8888888888888888,
           "#fdca26"
          ],
          [
           1,
           "#f0f921"
          ]
         ]
        },
        "legend": {
         "tracegroupgap": 0
        },
        "margin": {
         "t": 60
        },
        "template": {
         "data": {
          "bar": [
           {
            "error_x": {
             "color": "#2a3f5f"
            },
            "error_y": {
             "color": "#2a3f5f"
            },
            "marker": {
             "line": {
              "color": "#E5ECF6",
              "width": 0.5
             },
             "pattern": {
              "fillmode": "overlay",
              "size": 10,
              "solidity": 0.2
             }
            },
            "type": "bar"
           }
          ],
          "barpolar": [
           {
            "marker": {
             "line": {
              "color": "#E5ECF6",
              "width": 0.5
             },
             "pattern": {
              "fillmode": "overlay",
              "size": 10,
              "solidity": 0.2
             }
            },
            "type": "barpolar"
           }
          ],
          "carpet": [
           {
            "aaxis": {
             "endlinecolor": "#2a3f5f",
             "gridcolor": "white",
             "linecolor": "white",
             "minorgridcolor": "white",
             "startlinecolor": "#2a3f5f"
            },
            "baxis": {
             "endlinecolor": "#2a3f5f",
             "gridcolor": "white",
             "linecolor": "white",
             "minorgridcolor": "white",
             "startlinecolor": "#2a3f5f"
            },
            "type": "carpet"
           }
          ],
          "choropleth": [
           {
            "colorbar": {
             "outlinewidth": 0,
             "ticks": ""
            },
            "type": "choropleth"
           }
          ],
          "contour": [
           {
            "colorbar": {
             "outlinewidth": 0,
             "ticks": ""
            },
            "colorscale": [
             [
              0,
              "#0d0887"
             ],
             [
              0.1111111111111111,
              "#46039f"
             ],
             [
              0.2222222222222222,
              "#7201a8"
             ],
             [
              0.3333333333333333,
              "#9c179e"
             ],
             [
              0.4444444444444444,
              "#bd3786"
             ],
             [
              0.5555555555555556,
              "#d8576b"
             ],
             [
              0.6666666666666666,
              "#ed7953"
             ],
             [
              0.7777777777777778,
              "#fb9f3a"
             ],
             [
              0.8888888888888888,
              "#fdca26"
             ],
             [
              1,
              "#f0f921"
             ]
            ],
            "type": "contour"
           }
          ],
          "contourcarpet": [
           {
            "colorbar": {
             "outlinewidth": 0,
             "ticks": ""
            },
            "type": "contourcarpet"
           }
          ],
          "heatmap": [
           {
            "colorbar": {
             "outlinewidth": 0,
             "ticks": ""
            },
            "colorscale": [
             [
              0,
              "#0d0887"
             ],
             [
              0.1111111111111111,
              "#46039f"
             ],
             [
              0.2222222222222222,
              "#7201a8"
             ],
             [
              0.3333333333333333,
              "#9c179e"
             ],
             [
              0.4444444444444444,
              "#bd3786"
             ],
             [
              0.5555555555555556,
              "#d8576b"
             ],
             [
              0.6666666666666666,
              "#ed7953"
             ],
             [
              0.7777777777777778,
              "#fb9f3a"
             ],
             [
              0.8888888888888888,
              "#fdca26"
             ],
             [
              1,
              "#f0f921"
             ]
            ],
            "type": "heatmap"
           }
          ],
          "heatmapgl": [
           {
            "colorbar": {
             "outlinewidth": 0,
             "ticks": ""
            },
            "colorscale": [
             [
              0,
              "#0d0887"
             ],
             [
              0.1111111111111111,
              "#46039f"
             ],
             [
              0.2222222222222222,
              "#7201a8"
             ],
             [
              0.3333333333333333,
              "#9c179e"
             ],
             [
              0.4444444444444444,
              "#bd3786"
             ],
             [
              0.5555555555555556,
              "#d8576b"
             ],
             [
              0.6666666666666666,
              "#ed7953"
             ],
             [
              0.7777777777777778,
              "#fb9f3a"
             ],
             [
              0.8888888888888888,
              "#fdca26"
             ],
             [
              1,
              "#f0f921"
             ]
            ],
            "type": "heatmapgl"
           }
          ],
          "histogram": [
           {
            "marker": {
             "pattern": {
              "fillmode": "overlay",
              "size": 10,
              "solidity": 0.2
             }
            },
            "type": "histogram"
           }
          ],
          "histogram2d": [
           {
            "colorbar": {
             "outlinewidth": 0,
             "ticks": ""
            },
            "colorscale": [
             [
              0,
              "#0d0887"
             ],
             [
              0.1111111111111111,
              "#46039f"
             ],
             [
              0.2222222222222222,
              "#7201a8"
             ],
             [
              0.3333333333333333,
              "#9c179e"
             ],
             [
              0.4444444444444444,
              "#bd3786"
             ],
             [
              0.5555555555555556,
              "#d8576b"
             ],
             [
              0.6666666666666666,
              "#ed7953"
             ],
             [
              0.7777777777777778,
              "#fb9f3a"
             ],
             [
              0.8888888888888888,
              "#fdca26"
             ],
             [
              1,
              "#f0f921"
             ]
            ],
            "type": "histogram2d"
           }
          ],
          "histogram2dcontour": [
           {
            "colorbar": {
             "outlinewidth": 0,
             "ticks": ""
            },
            "colorscale": [
             [
              0,
              "#0d0887"
             ],
             [
              0.1111111111111111,
              "#46039f"
             ],
             [
              0.2222222222222222,
              "#7201a8"
             ],
             [
              0.3333333333333333,
              "#9c179e"
             ],
             [
              0.4444444444444444,
              "#bd3786"
             ],
             [
              0.5555555555555556,
              "#d8576b"
             ],
             [
              0.6666666666666666,
              "#ed7953"
             ],
             [
              0.7777777777777778,
              "#fb9f3a"
             ],
             [
              0.8888888888888888,
              "#fdca26"
             ],
             [
              1,
              "#f0f921"
             ]
            ],
            "type": "histogram2dcontour"
           }
          ],
          "mesh3d": [
           {
            "colorbar": {
             "outlinewidth": 0,
             "ticks": ""
            },
            "type": "mesh3d"
           }
          ],
          "parcoords": [
           {
            "line": {
             "colorbar": {
              "outlinewidth": 0,
              "ticks": ""
             }
            },
            "type": "parcoords"
           }
          ],
          "pie": [
           {
            "automargin": true,
            "type": "pie"
           }
          ],
          "scatter": [
           {
            "fillpattern": {
             "fillmode": "overlay",
             "size": 10,
             "solidity": 0.2
            },
            "type": "scatter"
           }
          ],
          "scatter3d": [
           {
            "line": {
             "colorbar": {
              "outlinewidth": 0,
              "ticks": ""
             }
            },
            "marker": {
             "colorbar": {
              "outlinewidth": 0,
              "ticks": ""
             }
            },
            "type": "scatter3d"
           }
          ],
          "scattercarpet": [
           {
            "marker": {
             "colorbar": {
              "outlinewidth": 0,
              "ticks": ""
             }
            },
            "type": "scattercarpet"
           }
          ],
          "scattergeo": [
           {
            "marker": {
             "colorbar": {
              "outlinewidth": 0,
              "ticks": ""
             }
            },
            "type": "scattergeo"
           }
          ],
          "scattergl": [
           {
            "marker": {
             "colorbar": {
              "outlinewidth": 0,
              "ticks": ""
             }
            },
            "type": "scattergl"
           }
          ],
          "scattermapbox": [
           {
            "marker": {
             "colorbar": {
              "outlinewidth": 0,
              "ticks": ""
             }
            },
            "type": "scattermapbox"
           }
          ],
          "scatterpolar": [
           {
            "marker": {
             "colorbar": {
              "outlinewidth": 0,
              "ticks": ""
             }
            },
            "type": "scatterpolar"
           }
          ],
          "scatterpolargl": [
           {
            "marker": {
             "colorbar": {
              "outlinewidth": 0,
              "ticks": ""
             }
            },
            "type": "scatterpolargl"
           }
          ],
          "scatterternary": [
           {
            "marker": {
             "colorbar": {
              "outlinewidth": 0,
              "ticks": ""
             }
            },
            "type": "scatterternary"
           }
          ],
          "surface": [
           {
            "colorbar": {
             "outlinewidth": 0,
             "ticks": ""
            },
            "colorscale": [
             [
              0,
              "#0d0887"
             ],
             [
              0.1111111111111111,
              "#46039f"
             ],
             [
              0.2222222222222222,
              "#7201a8"
             ],
             [
              0.3333333333333333,
              "#9c179e"
             ],
             [
              0.4444444444444444,
              "#bd3786"
             ],
             [
              0.5555555555555556,
              "#d8576b"
             ],
             [
              0.6666666666666666,
              "#ed7953"
             ],
             [
              0.7777777777777778,
              "#fb9f3a"
             ],
             [
              0.8888888888888888,
              "#fdca26"
             ],
             [
              1,
              "#f0f921"
             ]
            ],
            "type": "surface"
           }
          ],
          "table": [
           {
            "cells": {
             "fill": {
              "color": "#EBF0F8"
             },
             "line": {
              "color": "white"
             }
            },
            "header": {
             "fill": {
              "color": "#C8D4E3"
             },
             "line": {
              "color": "white"
             }
            },
            "type": "table"
           }
          ]
         },
         "layout": {
          "annotationdefaults": {
           "arrowcolor": "#2a3f5f",
           "arrowhead": 0,
           "arrowwidth": 1
          },
          "autotypenumbers": "strict",
          "coloraxis": {
           "colorbar": {
            "outlinewidth": 0,
            "ticks": ""
           }
          },
          "colorscale": {
           "diverging": [
            [
             0,
             "#8e0152"
            ],
            [
             0.1,
             "#c51b7d"
            ],
            [
             0.2,
             "#de77ae"
            ],
            [
             0.3,
             "#f1b6da"
            ],
            [
             0.4,
             "#fde0ef"
            ],
            [
             0.5,
             "#f7f7f7"
            ],
            [
             0.6,
             "#e6f5d0"
            ],
            [
             0.7,
             "#b8e186"
            ],
            [
             0.8,
             "#7fbc41"
            ],
            [
             0.9,
             "#4d9221"
            ],
            [
             1,
             "#276419"
            ]
           ],
           "sequential": [
            [
             0,
             "#0d0887"
            ],
            [
             0.1111111111111111,
             "#46039f"
            ],
            [
             0.2222222222222222,
             "#7201a8"
            ],
            [
             0.3333333333333333,
             "#9c179e"
            ],
            [
             0.4444444444444444,
             "#bd3786"
            ],
            [
             0.5555555555555556,
             "#d8576b"
            ],
            [
             0.6666666666666666,
             "#ed7953"
            ],
            [
             0.7777777777777778,
             "#fb9f3a"
            ],
            [
             0.8888888888888888,
             "#fdca26"
            ],
            [
             1,
             "#f0f921"
            ]
           ],
           "sequentialminus": [
            [
             0,
             "#0d0887"
            ],
            [
             0.1111111111111111,
             "#46039f"
            ],
            [
             0.2222222222222222,
             "#7201a8"
            ],
            [
             0.3333333333333333,
             "#9c179e"
            ],
            [
             0.4444444444444444,
             "#bd3786"
            ],
            [
             0.5555555555555556,
             "#d8576b"
            ],
            [
             0.6666666666666666,
             "#ed7953"
            ],
            [
             0.7777777777777778,
             "#fb9f3a"
            ],
            [
             0.8888888888888888,
             "#fdca26"
            ],
            [
             1,
             "#f0f921"
            ]
           ]
          },
          "colorway": [
           "#636efa",
           "#EF553B",
           "#00cc96",
           "#ab63fa",
           "#FFA15A",
           "#19d3f3",
           "#FF6692",
           "#B6E880",
           "#FF97FF",
           "#FECB52"
          ],
          "font": {
           "color": "#2a3f5f"
          },
          "geo": {
           "bgcolor": "white",
           "lakecolor": "white",
           "landcolor": "#E5ECF6",
           "showlakes": true,
           "showland": true,
           "subunitcolor": "white"
          },
          "hoverlabel": {
           "align": "left"
          },
          "hovermode": "closest",
          "mapbox": {
           "style": "light"
          },
          "paper_bgcolor": "white",
          "plot_bgcolor": "#E5ECF6",
          "polar": {
           "angularaxis": {
            "gridcolor": "white",
            "linecolor": "white",
            "ticks": ""
           },
           "bgcolor": "#E5ECF6",
           "radialaxis": {
            "gridcolor": "white",
            "linecolor": "white",
            "ticks": ""
           }
          },
          "scene": {
           "xaxis": {
            "backgroundcolor": "#E5ECF6",
            "gridcolor": "white",
            "gridwidth": 2,
            "linecolor": "white",
            "showbackground": true,
            "ticks": "",
            "zerolinecolor": "white"
           },
           "yaxis": {
            "backgroundcolor": "#E5ECF6",
            "gridcolor": "white",
            "gridwidth": 2,
            "linecolor": "white",
            "showbackground": true,
            "ticks": "",
            "zerolinecolor": "white"
           },
           "zaxis": {
            "backgroundcolor": "#E5ECF6",
            "gridcolor": "white",
            "gridwidth": 2,
            "linecolor": "white",
            "showbackground": true,
            "ticks": "",
            "zerolinecolor": "white"
           }
          },
          "shapedefaults": {
           "line": {
            "color": "#2a3f5f"
           }
          },
          "ternary": {
           "aaxis": {
            "gridcolor": "white",
            "linecolor": "white",
            "ticks": ""
           },
           "baxis": {
            "gridcolor": "white",
            "linecolor": "white",
            "ticks": ""
           },
           "bgcolor": "#E5ECF6",
           "caxis": {
            "gridcolor": "white",
            "linecolor": "white",
            "ticks": ""
           }
          },
          "title": {
           "x": 0.05
          },
          "xaxis": {
           "automargin": true,
           "gridcolor": "white",
           "linecolor": "white",
           "ticks": "",
           "title": {
            "standoff": 15
           },
           "zerolinecolor": "white",
           "zerolinewidth": 2
          },
          "yaxis": {
           "automargin": true,
           "gridcolor": "white",
           "linecolor": "white",
           "ticks": "",
           "title": {
            "standoff": 15
           },
           "zerolinecolor": "white",
           "zerolinewidth": 2
          }
         }
        },
        "title": {
         "text": "Mass of meteroite based on class"
        },
        "xaxis": {
         "anchor": "y",
         "domain": [
          0,
          1
         ],
         "title": {
          "text": "Recclass"
         }
        },
        "yaxis": {
         "anchor": "x",
         "domain": [
          0,
          1
         ],
         "title": {
          "text": "Mass"
         }
        }
       }
      },
      "text/html": [
       "<div>                            <div id=\"3043ce8d-97fe-4adb-a95b-58753057c185\" class=\"plotly-graph-div\" style=\"height:525px; width:100%;\"></div>            <script type=\"text/javascript\">                require([\"plotly\"], function(Plotly) {                    window.PLOTLYENV=window.PLOTLYENV || {};                                    if (document.getElementById(\"3043ce8d-97fe-4adb-a95b-58753057c185\")) {                    Plotly.newPlot(                        \"3043ce8d-97fe-4adb-a95b-58753057c185\",                        [{\"hovertemplate\":\"Recclass=%{x}<br>y=%{y}<br>Year=%{marker.color}<extra></extra>\",\"legendgroup\":\"\",\"marker\":{\"color\":[1952,1814,1925,1981,1883,1899,1969,1939,1914,1865,1858,1814,1934,1993,1871,1892,1965,2006,1994,1892,1902,1929,1893,2004,2001,2002,1924,1999,1899,1916,1847,1960,1919,1946,1861,2008,1870,1886,1991,1866,1583,1933,1812,1810,1834,1841,2013,2007,1917,1965,1919,1981,1911,2001,1962,2001,1976,1860,1884,1995,1939,1815,1977,1400,1951,1492,1889,1879,1890,1934,1996,1894,1890,1942,1829,1945,1882,1909,1853,1918,1837,1932,1892,1984,1981,1628,1869,1912,1875,1751,1901,1891,1903,1979,1889,1890,1976,1924,1997,1984,1968,1821,1971,1937,1942,1905,1930,2003,1961,1869,1850,1873,1983,2002,1866,1986,1869,1946,1949,1998,1914,1886,1985,1803,1872,1987,1943,1813,1808,1994,1970,1935,1889,1753,1981,2007,1934,1847,1902,1768,1992,1915,1862,1920,1852,1960,1930,1882,1905,1858,1923,1902,1991,1637,1969,1950,1923,1917,1928,1864,1860,1994,2003,1900,1975,1912,1948,1978,1887,1741,1857,1834,1930,1924,1929,1981,1864,2003,1998,1914,1859,1930,1956,2003,1857,1935,1826,1963,1992,1946,1935,1933,1901,1941,1863,1996,1998,1868,1937,1898,1990,1986,1983,1740,1947,1948,1918,1921,1914,1914,1966,1918,1966,1874,1904,1947,1989,1877,1866,1993,1903,1910,1876,1808,1990,1917,1623,1994,1986,2008,1975,2008,1931,1937,1879,1872,2011,2002,1878,1927,1807,1869,1922],\"coloraxis\":\"coloraxis\",\"symbol\":\"circle\"},\"mode\":\"markers\",\"name\":\"\",\"orientation\":\"v\",\"showlegend\":false,\"x\":[\"EH4\",\"H5\",\"L6\",\"Iron, IVA\",\"L6\",\"H5\",\"CV3\",\"H6\",\"LL6\",\"L6\",\"L5\",\"L6\",\"Iron, IAB-sLL\",\"Iron, ungrouped\",\"LL6\",\"L6\",\"L5\",\"H5\",\"L5\",\"H4\",\"L6\",\"H5\",\"H5\",\"LL6\",\"L6\",\"LL6\",\"Eucrite-mmict\",\"Diogenite\",\"L/LL4\",\"Iron, IIAB\",\"Iron, IIAB\",\"L6\",\"H5\",\"L6\",\"H6\",\"H4\",\"L/LL6\",\"Iron, IIIAB\",\"L5\",\"H5\",\"Stone-uncl\",\"L5\",\"L6\",\"H6\",\"H6\",\"L6\",\"LL5\",\"H5\",\"L6\",\"H4\",\"Aubrite\",\"LL6\",\"L6\",\"H5\",\"H6\",\"H3.8\",\"H3.8\",\"LL6\",\"H6\",\"Mesosiderite\",\"H6\",\"L6\",\"H5\",\"Iron, IID\",\"L5\",\"LL6\",\"L5\",\"Mesosiderite-A3/4\",\"L5\",\"H4\",\"H3-5\",\"L6\",\"H5\",\"H4\",\"L6\",\"L5\",\"L5\",\"L6\",\"L6\",\"H4\",\"H5\",\"H6\",\"H6\",\"CBa\",\"H4/5\",\"Stone-uncl\",\"H5\",\"L/LL6\",\"L5\",\"Iron, IID\",\"EL6\",\"EH4\",\"L6\",\"L6\",\"LL6\",\"Iron, IIIAB\",\"H5\",\"Diogenite\",\"H5\",\"L6\",\"Iron, IIIAB\",\"Eucrite-mmict\",\"H4\",\"CO3.2\",\"Howardite\",\"L6\",\"CK4\",\"H4\",\"Iron, IIIAB\",\"H6\",\"H4\",\"EL6\",\"H6\",\"LL6\",\"L/LL5\",\"L6\",\"LL5\",\"LL3.2\",\"L6\",\"H5\",\"L6\",\"L6\",\"L6\",\"L6\",\"CO3.5\",\"H5\",\"L6\",\"H5\",\"L6\",\"Howardite\",\"H5\",\"Mesosiderite-A3\",\"L6\",\"H3-5\",\"L6\",\"H4/5\",\"LL6\",\"L6\",\"Pallasite, PMG\",\"L6\",\"L5/6\",\"H5\",\"H4\",\"H5\",\"L3.7\",\"Eucrite-mmict\",\"H5\",\"L5-6\",\"L6\",\"H5\",\"H5\",\"H6\",\"L5\",\"Stone-uncl\",\"CM2\",\"CM2\",\"L6\",\"L6\",\"H6\",\"L6\",\"L6\",\"L4\",\"H5\",\"Iron, ungrouped\",\"Iron, IVA\",\"Iron, IID\",\"Aubrite\",\"H5\",\"H4\",\"H6\",\"H5\",\"LL6\",\"L6\",\"LL5\",\"H5\",\"Pallasite, PMG\",\"CI1\",\"H3-5\",\"H4\",\"Iron\",\"L5\",\"LL5\",\"L6\",\"L5\",\"LL3.6\",\"Mesosiderite-A1\",\"L6\",\"L6\",\"H6\",\"Aubrite\",\"L6\",\"L6\",\"L6\",\"L5\",\"EL6\",\"Eucrite-mmict\",\"H6\",\"H5\",\"L6\",\"Iron, IAB-ung\",\"H\",\"Iron, IIAB\",\"L5\",\"Stone-uncl\",\"L5\",\"L\",\"H5\",\"H5\",\"L5\",\"EH5\",\"LL6\",\"L4\",\"H6\",\"L5\",\"L5\",\"Iron, IIAB\",\"H6\",\"LL4\",\"H5\",\"L6\",\"EH5\",\"L6\",\"H5\",\"Eucrite-mmict\",\"Iron, IIIAB\",\"L6\",\"Stone-uncl\",\"H5\",\"L6\",\"LL6\",\"L6\",\"H5\",\"Diogenite\",\"L6\",\"L6\",\"L4\",\"L6\",\"H4/5\",\"H/L3.6\",\"L6\",\"H5\",\"H6\",\"L5\"],\"xaxis\":\"x\",\"y\":[107.0,30.0,24.0,50.0,228.0,32.0,2000.0,17.9,15.0,50.0,50.0,18.0,10.322,16.7,11.5,15.0,44.0,29.56,15.5,21.0,86.0,16.0,14.0,25.0,19.0,45.0,18.0,25.0,330.0,256.0,39.0,303.0,120.0,25.0,29.0,41.0,25.0,48.5,23.68,34.0,15.0,18.3,31.5,27.0,12.0,30.0,100.0,100.0,104.0,20.35,17.0,18.0,16.4,12.5,25.4,12.0,45.0,32.0,166.0,128.8,47.7,13.2,17.226,107.0,54.64,127.0,20.0,320.0,89.4,56.0,10.2,17.6,152.0,26.0,16.3,23.0,11.62,14.29,18.0,152.0,10.5,22.0,39.0,100.0,34.65,29.0,20.0,220.0,230.0,49.0,14.0,27.0,48.0,20.5,34.0,600.0,4000.0,40.3,100.0,32.49,25.25,91.0,13.4,200.0,11.355,22.0,41.73,16.82,85.0,80.0,135.0,13.6,100.0,19.0,500.0,11.51,16.5,50.0,200.0,1100.0,45.0,45.0,45.0,37.0,51.7,14.25,51.5,50.0,12.8,40.0,17.0,59.0,11.0,14.0,93.2,70.5,22.3,28.4,45.0,19.0,150.0,24.75,10.5,71.4,22.7,330.0,16.7,300.0,35.0,144.0,149.0,11.3,110.0,17.0,100.0,12.6,23.2,52.9,17.0,10.25,230.0,12.0,19.256,37.5,14.25,17.2,1100.0,50.0,500.0,14.36,16.25,12.0,16.57,150.0,40.0,250.0,14.0,17.0,20.0,18.0,10.5,408.0,100.0,18.0,77.6,37.35,40.0,45.76,12.57,70.0,23.474,66.0,57.9,11.0,23.25,42.0,71.4,250.0,300.0,10.75,17.45,10.2,67.225,24.7,17.3,20.0,90.0,10.6,13.0,14.0,271.0,200.0,20.0,101.0,18.6,23000.0,40.0,80.0,17.1,36.9,13.78,17.0,34.0,52.0,325.0,13.4,10.4,25.4,260.0,110.0,10.5,100.0,12.0,21.0,160.0,28.5,14.2,45.3,28.0,74.8,65.5,20.0,16.5],\"yaxis\":\"y\",\"type\":\"scatter\"}],                        {\"template\":{\"data\":{\"histogram2dcontour\":[{\"type\":\"histogram2dcontour\",\"colorbar\":{\"outlinewidth\":0,\"ticks\":\"\"},\"colorscale\":[[0.0,\"#0d0887\"],[0.1111111111111111,\"#46039f\"],[0.2222222222222222,\"#7201a8\"],[0.3333333333333333,\"#9c179e\"],[0.4444444444444444,\"#bd3786\"],[0.5555555555555556,\"#d8576b\"],[0.6666666666666666,\"#ed7953\"],[0.7777777777777778,\"#fb9f3a\"],[0.8888888888888888,\"#fdca26\"],[1.0,\"#f0f921\"]]}],\"choropleth\":[{\"type\":\"choropleth\",\"colorbar\":{\"outlinewidth\":0,\"ticks\":\"\"}}],\"histogram2d\":[{\"type\":\"histogram2d\",\"colorbar\":{\"outlinewidth\":0,\"ticks\":\"\"},\"colorscale\":[[0.0,\"#0d0887\"],[0.1111111111111111,\"#46039f\"],[0.2222222222222222,\"#7201a8\"],[0.3333333333333333,\"#9c179e\"],[0.4444444444444444,\"#bd3786\"],[0.5555555555555556,\"#d8576b\"],[0.6666666666666666,\"#ed7953\"],[0.7777777777777778,\"#fb9f3a\"],[0.8888888888888888,\"#fdca26\"],[1.0,\"#f0f921\"]]}],\"heatmap\":[{\"type\":\"heatmap\",\"colorbar\":{\"outlinewidth\":0,\"ticks\":\"\"},\"colorscale\":[[0.0,\"#0d0887\"],[0.1111111111111111,\"#46039f\"],[0.2222222222222222,\"#7201a8\"],[0.3333333333333333,\"#9c179e\"],[0.4444444444444444,\"#bd3786\"],[0.5555555555555556,\"#d8576b\"],[0.6666666666666666,\"#ed7953\"],[0.7777777777777778,\"#fb9f3a\"],[0.8888888888888888,\"#fdca26\"],[1.0,\"#f0f921\"]]}],\"heatmapgl\":[{\"type\":\"heatmapgl\",\"colorbar\":{\"outlinewidth\":0,\"ticks\":\"\"},\"colorscale\":[[0.0,\"#0d0887\"],[0.1111111111111111,\"#46039f\"],[0.2222222222222222,\"#7201a8\"],[0.3333333333333333,\"#9c179e\"],[0.4444444444444444,\"#bd3786\"],[0.5555555555555556,\"#d8576b\"],[0.6666666666666666,\"#ed7953\"],[0.7777777777777778,\"#fb9f3a\"],[0.8888888888888888,\"#fdca26\"],[1.0,\"#f0f921\"]]}],\"contourcarpet\":[{\"type\":\"contourcarpet\",\"colorbar\":{\"outlinewidth\":0,\"ticks\":\"\"}}],\"contour\":[{\"type\":\"contour\",\"colorbar\":{\"outlinewidth\":0,\"ticks\":\"\"},\"colorscale\":[[0.0,\"#0d0887\"],[0.1111111111111111,\"#46039f\"],[0.2222222222222222,\"#7201a8\"],[0.3333333333333333,\"#9c179e\"],[0.4444444444444444,\"#bd3786\"],[0.5555555555555556,\"#d8576b\"],[0.6666666666666666,\"#ed7953\"],[0.7777777777777778,\"#fb9f3a\"],[0.8888888888888888,\"#fdca26\"],[1.0,\"#f0f921\"]]}],\"surface\":[{\"type\":\"surface\",\"colorbar\":{\"outlinewidth\":0,\"ticks\":\"\"},\"colorscale\":[[0.0,\"#0d0887\"],[0.1111111111111111,\"#46039f\"],[0.2222222222222222,\"#7201a8\"],[0.3333333333333333,\"#9c179e\"],[0.4444444444444444,\"#bd3786\"],[0.5555555555555556,\"#d8576b\"],[0.6666666666666666,\"#ed7953\"],[0.7777777777777778,\"#fb9f3a\"],[0.8888888888888888,\"#fdca26\"],[1.0,\"#f0f921\"]]}],\"mesh3d\":[{\"type\":\"mesh3d\",\"colorbar\":{\"outlinewidth\":0,\"ticks\":\"\"}}],\"scatter\":[{\"fillpattern\":{\"fillmode\":\"overlay\",\"size\":10,\"solidity\":0.2},\"type\":\"scatter\"}],\"parcoords\":[{\"type\":\"parcoords\",\"line\":{\"colorbar\":{\"outlinewidth\":0,\"ticks\":\"\"}}}],\"scatterpolargl\":[{\"type\":\"scatterpolargl\",\"marker\":{\"colorbar\":{\"outlinewidth\":0,\"ticks\":\"\"}}}],\"bar\":[{\"error_x\":{\"color\":\"#2a3f5f\"},\"error_y\":{\"color\":\"#2a3f5f\"},\"marker\":{\"line\":{\"color\":\"#E5ECF6\",\"width\":0.5},\"pattern\":{\"fillmode\":\"overlay\",\"size\":10,\"solidity\":0.2}},\"type\":\"bar\"}],\"scattergeo\":[{\"type\":\"scattergeo\",\"marker\":{\"colorbar\":{\"outlinewidth\":0,\"ticks\":\"\"}}}],\"scatterpolar\":[{\"type\":\"scatterpolar\",\"marker\":{\"colorbar\":{\"outlinewidth\":0,\"ticks\":\"\"}}}],\"histogram\":[{\"marker\":{\"pattern\":{\"fillmode\":\"overlay\",\"size\":10,\"solidity\":0.2}},\"type\":\"histogram\"}],\"scattergl\":[{\"type\":\"scattergl\",\"marker\":{\"colorbar\":{\"outlinewidth\":0,\"ticks\":\"\"}}}],\"scatter3d\":[{\"type\":\"scatter3d\",\"line\":{\"colorbar\":{\"outlinewidth\":0,\"ticks\":\"\"}},\"marker\":{\"colorbar\":{\"outlinewidth\":0,\"ticks\":\"\"}}}],\"scattermapbox\":[{\"type\":\"scattermapbox\",\"marker\":{\"colorbar\":{\"outlinewidth\":0,\"ticks\":\"\"}}}],\"scatterternary\":[{\"type\":\"scatterternary\",\"marker\":{\"colorbar\":{\"outlinewidth\":0,\"ticks\":\"\"}}}],\"scattercarpet\":[{\"type\":\"scattercarpet\",\"marker\":{\"colorbar\":{\"outlinewidth\":0,\"ticks\":\"\"}}}],\"carpet\":[{\"aaxis\":{\"endlinecolor\":\"#2a3f5f\",\"gridcolor\":\"white\",\"linecolor\":\"white\",\"minorgridcolor\":\"white\",\"startlinecolor\":\"#2a3f5f\"},\"baxis\":{\"endlinecolor\":\"#2a3f5f\",\"gridcolor\":\"white\",\"linecolor\":\"white\",\"minorgridcolor\":\"white\",\"startlinecolor\":\"#2a3f5f\"},\"type\":\"carpet\"}],\"table\":[{\"cells\":{\"fill\":{\"color\":\"#EBF0F8\"},\"line\":{\"color\":\"white\"}},\"header\":{\"fill\":{\"color\":\"#C8D4E3\"},\"line\":{\"color\":\"white\"}},\"type\":\"table\"}],\"barpolar\":[{\"marker\":{\"line\":{\"color\":\"#E5ECF6\",\"width\":0.5},\"pattern\":{\"fillmode\":\"overlay\",\"size\":10,\"solidity\":0.2}},\"type\":\"barpolar\"}],\"pie\":[{\"automargin\":true,\"type\":\"pie\"}]},\"layout\":{\"autotypenumbers\":\"strict\",\"colorway\":[\"#636efa\",\"#EF553B\",\"#00cc96\",\"#ab63fa\",\"#FFA15A\",\"#19d3f3\",\"#FF6692\",\"#B6E880\",\"#FF97FF\",\"#FECB52\"],\"font\":{\"color\":\"#2a3f5f\"},\"hovermode\":\"closest\",\"hoverlabel\":{\"align\":\"left\"},\"paper_bgcolor\":\"white\",\"plot_bgcolor\":\"#E5ECF6\",\"polar\":{\"bgcolor\":\"#E5ECF6\",\"angularaxis\":{\"gridcolor\":\"white\",\"linecolor\":\"white\",\"ticks\":\"\"},\"radialaxis\":{\"gridcolor\":\"white\",\"linecolor\":\"white\",\"ticks\":\"\"}},\"ternary\":{\"bgcolor\":\"#E5ECF6\",\"aaxis\":{\"gridcolor\":\"white\",\"linecolor\":\"white\",\"ticks\":\"\"},\"baxis\":{\"gridcolor\":\"white\",\"linecolor\":\"white\",\"ticks\":\"\"},\"caxis\":{\"gridcolor\":\"white\",\"linecolor\":\"white\",\"ticks\":\"\"}},\"coloraxis\":{\"colorbar\":{\"outlinewidth\":0,\"ticks\":\"\"}},\"colorscale\":{\"sequential\":[[0.0,\"#0d0887\"],[0.1111111111111111,\"#46039f\"],[0.2222222222222222,\"#7201a8\"],[0.3333333333333333,\"#9c179e\"],[0.4444444444444444,\"#bd3786\"],[0.5555555555555556,\"#d8576b\"],[0.6666666666666666,\"#ed7953\"],[0.7777777777777778,\"#fb9f3a\"],[0.8888888888888888,\"#fdca26\"],[1.0,\"#f0f921\"]],\"sequentialminus\":[[0.0,\"#0d0887\"],[0.1111111111111111,\"#46039f\"],[0.2222222222222222,\"#7201a8\"],[0.3333333333333333,\"#9c179e\"],[0.4444444444444444,\"#bd3786\"],[0.5555555555555556,\"#d8576b\"],[0.6666666666666666,\"#ed7953\"],[0.7777777777777778,\"#fb9f3a\"],[0.8888888888888888,\"#fdca26\"],[1.0,\"#f0f921\"]],\"diverging\":[[0,\"#8e0152\"],[0.1,\"#c51b7d\"],[0.2,\"#de77ae\"],[0.3,\"#f1b6da\"],[0.4,\"#fde0ef\"],[0.5,\"#f7f7f7\"],[0.6,\"#e6f5d0\"],[0.7,\"#b8e186\"],[0.8,\"#7fbc41\"],[0.9,\"#4d9221\"],[1,\"#276419\"]]},\"xaxis\":{\"gridcolor\":\"white\",\"linecolor\":\"white\",\"ticks\":\"\",\"title\":{\"standoff\":15},\"zerolinecolor\":\"white\",\"automargin\":true,\"zerolinewidth\":2},\"yaxis\":{\"gridcolor\":\"white\",\"linecolor\":\"white\",\"ticks\":\"\",\"title\":{\"standoff\":15},\"zerolinecolor\":\"white\",\"automargin\":true,\"zerolinewidth\":2},\"scene\":{\"xaxis\":{\"backgroundcolor\":\"#E5ECF6\",\"gridcolor\":\"white\",\"linecolor\":\"white\",\"showbackground\":true,\"ticks\":\"\",\"zerolinecolor\":\"white\",\"gridwidth\":2},\"yaxis\":{\"backgroundcolor\":\"#E5ECF6\",\"gridcolor\":\"white\",\"linecolor\":\"white\",\"showbackground\":true,\"ticks\":\"\",\"zerolinecolor\":\"white\",\"gridwidth\":2},\"zaxis\":{\"backgroundcolor\":\"#E5ECF6\",\"gridcolor\":\"white\",\"linecolor\":\"white\",\"showbackground\":true,\"ticks\":\"\",\"zerolinecolor\":\"white\",\"gridwidth\":2}},\"shapedefaults\":{\"line\":{\"color\":\"#2a3f5f\"}},\"annotationdefaults\":{\"arrowcolor\":\"#2a3f5f\",\"arrowhead\":0,\"arrowwidth\":1},\"geo\":{\"bgcolor\":\"white\",\"landcolor\":\"#E5ECF6\",\"subunitcolor\":\"white\",\"showland\":true,\"showlakes\":true,\"lakecolor\":\"white\"},\"title\":{\"x\":0.05},\"mapbox\":{\"style\":\"light\"}}},\"xaxis\":{\"anchor\":\"y\",\"domain\":[0.0,1.0],\"title\":{\"text\":\"Recclass\"}},\"yaxis\":{\"anchor\":\"x\",\"domain\":[0.0,1.0],\"title\":{\"text\":\"Mass\"}},\"coloraxis\":{\"colorbar\":{\"title\":{\"text\":\"Year\"}},\"colorscale\":[[0.0,\"#0d0887\"],[0.1111111111111111,\"#46039f\"],[0.2222222222222222,\"#7201a8\"],[0.3333333333333333,\"#9c179e\"],[0.4444444444444444,\"#bd3786\"],[0.5555555555555556,\"#d8576b\"],[0.6666666666666666,\"#ed7953\"],[0.7777777777777778,\"#fb9f3a\"],[0.8888888888888888,\"#fdca26\"],[1.0,\"#f0f921\"]]},\"legend\":{\"tracegroupgap\":0},\"margin\":{\"t\":60},\"title\":{\"text\":\"Mass of meteroite based on class\"}},                        {\"responsive\": true}                    ).then(function(){\n",
       "                            \n",
       "var gd = document.getElementById('3043ce8d-97fe-4adb-a95b-58753057c185');\n",
       "var x = new MutationObserver(function (mutations, observer) {{\n",
       "        var display = window.getComputedStyle(gd).display;\n",
       "        if (!display || display === 'none') {{\n",
       "            console.log([gd, 'removed!']);\n",
       "            Plotly.purge(gd);\n",
       "            observer.disconnect();\n",
       "        }}\n",
       "}});\n",
       "\n",
       "// Listen for the removal of the full notebook cells\n",
       "var notebookContainer = gd.closest('#notebook-container');\n",
       "if (notebookContainer) {{\n",
       "    x.observe(notebookContainer, {childList: true});\n",
       "}}\n",
       "\n",
       "// Listen for the clearing of the current output cell\n",
       "var outputEl = gd.closest('.output');\n",
       "if (outputEl) {{\n",
       "    x.observe(outputEl, {childList: true});\n",
       "}}\n",
       "\n",
       "                        })                };                });            </script>        </div>"
      ]
     },
     "metadata": {},
     "output_type": "display_data"
    }
   ],
   "source": [
    "# Plotting graph which shows mass and its class\n",
    "mass = meteroite_mass_more_10000kg[\"Mass\"]/1000\n",
    "fig3 = px.scatter(data_frame=meteroite_mass_more_10000kg, x='Recclass', y=mass, color='Year')\n",
    "# Labels\n",
    "fig3.update_layout(title=\"Mass of meteroite based on class\", yaxis_title=\"Mass\")\n",
    "fig3.show()"
   ]
  },
  {
   "cell_type": "code",
   "execution_count": null,
   "id": "aba3b161",
   "metadata": {},
   "outputs": [],
   "source": []
  },
  {
   "cell_type": "code",
   "execution_count": null,
   "id": "db3d8cdb",
   "metadata": {},
   "outputs": [],
   "source": []
  }
 ],
 "metadata": {
  "kernelspec": {
   "display_name": "Python 3 (ipykernel)",
   "language": "python",
   "name": "python3"
  },
  "language_info": {
   "codemirror_mode": {
    "name": "ipython",
    "version": 3
   },
   "file_extension": ".py",
   "mimetype": "text/x-python",
   "name": "python",
   "nbconvert_exporter": "python",
   "pygments_lexer": "ipython3",
   "version": "3.9.13"
  }
 },
 "nbformat": 4,
 "nbformat_minor": 5
}
